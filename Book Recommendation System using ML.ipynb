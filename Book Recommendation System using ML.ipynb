{
 "cells": [
  {
   "cell_type": "markdown",
   "id": "c0cd0ce4-160b-4b60-9c62-8893894fa847",
   "metadata": {},
   "source": [
    "# Importing necessary Libraries"
   ]
  },
  {
   "cell_type": "code",
   "execution_count": 1,
   "id": "a9b92df7-6c64-4c20-8e3c-34f045912d0d",
   "metadata": {},
   "outputs": [],
   "source": [
    "import pandas as pd\n",
    "import numpy as np\n",
    "import matplotlib.pyplot as plt\n",
    "import seaborn as sns\n",
    "import plotly.express as px\n",
    "from scipy.sparse import csr_matrix\n",
    "from sklearn.neighbors import NearestNeighbors\n",
    "import warnings\n",
    "warnings.filterwarnings('ignore')"
   ]
  },
  {
   "cell_type": "code",
   "execution_count": 2,
   "id": "0b61c4f2-31a9-42b3-911f-5b3a14f56a85",
   "metadata": {},
   "outputs": [],
   "source": [
    "# Loading Books.csv data into a DataFrame\n",
    "df_book = pd.read_csv('Books.csv')\n",
    "\n",
    "# Loading Ratings.csv data into a DataFrame\n",
    "df_rating = pd.read_csv('Ratings-2.csv')\n",
    "\n",
    "# Loading Users.csv data into a DataFrame\n",
    "df_user = pd.read_csv('Users.csv')"
   ]
  },
  {
   "cell_type": "code",
   "execution_count": 3,
   "id": "4cf057f7-5caa-4fcf-b3d5-1456a07d80fe",
   "metadata": {},
   "outputs": [
    {
     "data": {
      "text/html": [
       "<div>\n",
       "<style scoped>\n",
       "    .dataframe tbody tr th:only-of-type {\n",
       "        vertical-align: middle;\n",
       "    }\n",
       "\n",
       "    .dataframe tbody tr th {\n",
       "        vertical-align: top;\n",
       "    }\n",
       "\n",
       "    .dataframe thead th {\n",
       "        text-align: right;\n",
       "    }\n",
       "</style>\n",
       "<table border=\"1\" class=\"dataframe\">\n",
       "  <thead>\n",
       "    <tr style=\"text-align: right;\">\n",
       "      <th></th>\n",
       "      <th>ISBN</th>\n",
       "      <th>Book-Title</th>\n",
       "      <th>Book-Author</th>\n",
       "      <th>Year-Of-Publication</th>\n",
       "      <th>Publisher</th>\n",
       "      <th>Image-URL-S</th>\n",
       "      <th>Image-URL-M</th>\n",
       "      <th>Image-URL-L</th>\n",
       "    </tr>\n",
       "  </thead>\n",
       "  <tbody>\n",
       "    <tr>\n",
       "      <th>0</th>\n",
       "      <td>0195153448</td>\n",
       "      <td>Classical Mythology</td>\n",
       "      <td>Mark P. O. Morford</td>\n",
       "      <td>2002</td>\n",
       "      <td>Oxford University Press</td>\n",
       "      <td>http://images.amazon.com/images/P/0195153448.0...</td>\n",
       "      <td>http://images.amazon.com/images/P/0195153448.0...</td>\n",
       "      <td>http://images.amazon.com/images/P/0195153448.0...</td>\n",
       "    </tr>\n",
       "    <tr>\n",
       "      <th>1</th>\n",
       "      <td>0002005018</td>\n",
       "      <td>Clara Callan</td>\n",
       "      <td>Richard Bruce Wright</td>\n",
       "      <td>2001</td>\n",
       "      <td>HarperFlamingo Canada</td>\n",
       "      <td>http://images.amazon.com/images/P/0002005018.0...</td>\n",
       "      <td>http://images.amazon.com/images/P/0002005018.0...</td>\n",
       "      <td>http://images.amazon.com/images/P/0002005018.0...</td>\n",
       "    </tr>\n",
       "    <tr>\n",
       "      <th>2</th>\n",
       "      <td>0060973129</td>\n",
       "      <td>Decision in Normandy</td>\n",
       "      <td>Carlo D'Este</td>\n",
       "      <td>1991</td>\n",
       "      <td>HarperPerennial</td>\n",
       "      <td>http://images.amazon.com/images/P/0060973129.0...</td>\n",
       "      <td>http://images.amazon.com/images/P/0060973129.0...</td>\n",
       "      <td>http://images.amazon.com/images/P/0060973129.0...</td>\n",
       "    </tr>\n",
       "    <tr>\n",
       "      <th>3</th>\n",
       "      <td>0374157065</td>\n",
       "      <td>Flu: The Story of the Great Influenza Pandemic...</td>\n",
       "      <td>Gina Bari Kolata</td>\n",
       "      <td>1999</td>\n",
       "      <td>Farrar Straus Giroux</td>\n",
       "      <td>http://images.amazon.com/images/P/0374157065.0...</td>\n",
       "      <td>http://images.amazon.com/images/P/0374157065.0...</td>\n",
       "      <td>http://images.amazon.com/images/P/0374157065.0...</td>\n",
       "    </tr>\n",
       "    <tr>\n",
       "      <th>4</th>\n",
       "      <td>0393045218</td>\n",
       "      <td>The Mummies of Urumchi</td>\n",
       "      <td>E. J. W. Barber</td>\n",
       "      <td>1999</td>\n",
       "      <td>W. W. Norton &amp;amp; Company</td>\n",
       "      <td>http://images.amazon.com/images/P/0393045218.0...</td>\n",
       "      <td>http://images.amazon.com/images/P/0393045218.0...</td>\n",
       "      <td>http://images.amazon.com/images/P/0393045218.0...</td>\n",
       "    </tr>\n",
       "  </tbody>\n",
       "</table>\n",
       "</div>"
      ],
      "text/plain": [
       "         ISBN                                         Book-Title  \\\n",
       "0  0195153448                                Classical Mythology   \n",
       "1  0002005018                                       Clara Callan   \n",
       "2  0060973129                               Decision in Normandy   \n",
       "3  0374157065  Flu: The Story of the Great Influenza Pandemic...   \n",
       "4  0393045218                             The Mummies of Urumchi   \n",
       "\n",
       "            Book-Author Year-Of-Publication                   Publisher  \\\n",
       "0    Mark P. O. Morford                2002     Oxford University Press   \n",
       "1  Richard Bruce Wright                2001       HarperFlamingo Canada   \n",
       "2          Carlo D'Este                1991             HarperPerennial   \n",
       "3      Gina Bari Kolata                1999        Farrar Straus Giroux   \n",
       "4       E. J. W. Barber                1999  W. W. Norton &amp; Company   \n",
       "\n",
       "                                         Image-URL-S  \\\n",
       "0  http://images.amazon.com/images/P/0195153448.0...   \n",
       "1  http://images.amazon.com/images/P/0002005018.0...   \n",
       "2  http://images.amazon.com/images/P/0060973129.0...   \n",
       "3  http://images.amazon.com/images/P/0374157065.0...   \n",
       "4  http://images.amazon.com/images/P/0393045218.0...   \n",
       "\n",
       "                                         Image-URL-M  \\\n",
       "0  http://images.amazon.com/images/P/0195153448.0...   \n",
       "1  http://images.amazon.com/images/P/0002005018.0...   \n",
       "2  http://images.amazon.com/images/P/0060973129.0...   \n",
       "3  http://images.amazon.com/images/P/0374157065.0...   \n",
       "4  http://images.amazon.com/images/P/0393045218.0...   \n",
       "\n",
       "                                         Image-URL-L  \n",
       "0  http://images.amazon.com/images/P/0195153448.0...  \n",
       "1  http://images.amazon.com/images/P/0002005018.0...  \n",
       "2  http://images.amazon.com/images/P/0060973129.0...  \n",
       "3  http://images.amazon.com/images/P/0374157065.0...  \n",
       "4  http://images.amazon.com/images/P/0393045218.0...  "
      ]
     },
     "execution_count": 3,
     "metadata": {},
     "output_type": "execute_result"
    }
   ],
   "source": [
    "# Display the first 5 rows of the Books\n",
    "\n",
    "df_book.head()"
   ]
  },
  {
   "cell_type": "code",
   "execution_count": 4,
   "id": "acfa31e0-5e93-4f65-bd7c-5095fe9c91fa",
   "metadata": {},
   "outputs": [
    {
     "data": {
      "text/html": [
       "<div>\n",
       "<style scoped>\n",
       "    .dataframe tbody tr th:only-of-type {\n",
       "        vertical-align: middle;\n",
       "    }\n",
       "\n",
       "    .dataframe tbody tr th {\n",
       "        vertical-align: top;\n",
       "    }\n",
       "\n",
       "    .dataframe thead th {\n",
       "        text-align: right;\n",
       "    }\n",
       "</style>\n",
       "<table border=\"1\" class=\"dataframe\">\n",
       "  <thead>\n",
       "    <tr style=\"text-align: right;\">\n",
       "      <th></th>\n",
       "      <th>User-ID</th>\n",
       "      <th>ISBN</th>\n",
       "      <th>Book-Rating</th>\n",
       "    </tr>\n",
       "  </thead>\n",
       "  <tbody>\n",
       "    <tr>\n",
       "      <th>0</th>\n",
       "      <td>276725</td>\n",
       "      <td>034545104X</td>\n",
       "      <td>0</td>\n",
       "    </tr>\n",
       "    <tr>\n",
       "      <th>1</th>\n",
       "      <td>276726</td>\n",
       "      <td>0155061224</td>\n",
       "      <td>5</td>\n",
       "    </tr>\n",
       "    <tr>\n",
       "      <th>2</th>\n",
       "      <td>276727</td>\n",
       "      <td>0446520802</td>\n",
       "      <td>0</td>\n",
       "    </tr>\n",
       "    <tr>\n",
       "      <th>3</th>\n",
       "      <td>276729</td>\n",
       "      <td>052165615X</td>\n",
       "      <td>3</td>\n",
       "    </tr>\n",
       "    <tr>\n",
       "      <th>4</th>\n",
       "      <td>276729</td>\n",
       "      <td>0521795028</td>\n",
       "      <td>6</td>\n",
       "    </tr>\n",
       "  </tbody>\n",
       "</table>\n",
       "</div>"
      ],
      "text/plain": [
       "   User-ID        ISBN  Book-Rating\n",
       "0   276725  034545104X            0\n",
       "1   276726  0155061224            5\n",
       "2   276727  0446520802            0\n",
       "3   276729  052165615X            3\n",
       "4   276729  0521795028            6"
      ]
     },
     "execution_count": 4,
     "metadata": {},
     "output_type": "execute_result"
    }
   ],
   "source": [
    "# Display the first 5 rows of the rating\n",
    "\n",
    "df_rating.head()"
   ]
  },
  {
   "cell_type": "code",
   "execution_count": 5,
   "id": "65dfc758-aba2-4871-bdae-48d3e03383a9",
   "metadata": {},
   "outputs": [
    {
     "data": {
      "text/html": [
       "<div>\n",
       "<style scoped>\n",
       "    .dataframe tbody tr th:only-of-type {\n",
       "        vertical-align: middle;\n",
       "    }\n",
       "\n",
       "    .dataframe tbody tr th {\n",
       "        vertical-align: top;\n",
       "    }\n",
       "\n",
       "    .dataframe thead th {\n",
       "        text-align: right;\n",
       "    }\n",
       "</style>\n",
       "<table border=\"1\" class=\"dataframe\">\n",
       "  <thead>\n",
       "    <tr style=\"text-align: right;\">\n",
       "      <th></th>\n",
       "      <th>User-ID</th>\n",
       "      <th>Location</th>\n",
       "      <th>Age</th>\n",
       "    </tr>\n",
       "  </thead>\n",
       "  <tbody>\n",
       "    <tr>\n",
       "      <th>0</th>\n",
       "      <td>1</td>\n",
       "      <td>nyc, new york, usa</td>\n",
       "      <td>NaN</td>\n",
       "    </tr>\n",
       "    <tr>\n",
       "      <th>1</th>\n",
       "      <td>2</td>\n",
       "      <td>stockton, california, usa</td>\n",
       "      <td>18.0</td>\n",
       "    </tr>\n",
       "    <tr>\n",
       "      <th>2</th>\n",
       "      <td>3</td>\n",
       "      <td>moscow, yukon territory, russia</td>\n",
       "      <td>NaN</td>\n",
       "    </tr>\n",
       "    <tr>\n",
       "      <th>3</th>\n",
       "      <td>4</td>\n",
       "      <td>porto, v.n.gaia, portugal</td>\n",
       "      <td>17.0</td>\n",
       "    </tr>\n",
       "    <tr>\n",
       "      <th>4</th>\n",
       "      <td>5</td>\n",
       "      <td>farnborough, hants, united kingdom</td>\n",
       "      <td>NaN</td>\n",
       "    </tr>\n",
       "  </tbody>\n",
       "</table>\n",
       "</div>"
      ],
      "text/plain": [
       "   User-ID                            Location   Age\n",
       "0        1                  nyc, new york, usa   NaN\n",
       "1        2           stockton, california, usa  18.0\n",
       "2        3     moscow, yukon territory, russia   NaN\n",
       "3        4           porto, v.n.gaia, portugal  17.0\n",
       "4        5  farnborough, hants, united kingdom   NaN"
      ]
     },
     "execution_count": 5,
     "metadata": {},
     "output_type": "execute_result"
    }
   ],
   "source": [
    "# Display the first 5 rows of the Users\n",
    "\n",
    "df_user.head()"
   ]
  },
  {
   "cell_type": "markdown",
   "id": "fdd7e164-2023-42d5-b7d2-ddc89ce04fb5",
   "metadata": {},
   "source": [
    "<span style=\"color:brown; font-weight:bold; font-size:24px;\">Data Exploration</span>\n",
    "\n",
    "### Check all the columns"
   ]
  },
  {
   "cell_type": "code",
   "execution_count": 6,
   "id": "6c66fc7a-2493-44b5-b43e-de104b430510",
   "metadata": {},
   "outputs": [
    {
     "data": {
      "text/plain": [
       "Index(['ISBN', 'Book-Title', 'Book-Author', 'Year-Of-Publication', 'Publisher',\n",
       "       'Image-URL-S', 'Image-URL-M', 'Image-URL-L'],\n",
       "      dtype='object')"
      ]
     },
     "execution_count": 6,
     "metadata": {},
     "output_type": "execute_result"
    }
   ],
   "source": [
    "df_book.columns"
   ]
  },
  {
   "cell_type": "markdown",
   "id": "238e0130-969f-4b64-86ea-ba039971b033",
   "metadata": {},
   "source": [
    "<div style=\"border-radius:10px; border:#808080 solid; padding: 15px; background-color: ##F0E68C ; font-size:100%; text-align:left\">\n",
    "\n",
    "<span style=\"color:darkblue; font-weight:bold; font-size:24px;\">Data Information:</span>\n",
    "\n",
    "- ##### ISBN : A unique identifier fot the book\n",
    "- ##### Book-Title : The title of the book\n",
    "- ##### Book-Author : The author of the book\n",
    "- ##### Year-Of-Publication: The year in which the book was published.\n",
    "- ##### Publisher: The publisher of the book\n",
    "- ##### Image-URL-S: A URL pointing to a small image of the book cover\n",
    "- ##### Image-URL-M: A URL pointing to a medium-sized image of the book cover.\n",
    "- ##### Image-URL-L: A URL pointing to a large image of the book cover."
   ]
  },
  {
   "cell_type": "code",
   "execution_count": 7,
   "id": "198af229-6007-413f-9bda-60787abe703b",
   "metadata": {},
   "outputs": [
    {
     "data": {
      "text/plain": [
       "Index(['User-ID', 'ISBN', 'Book-Rating'], dtype='object')"
      ]
     },
     "execution_count": 7,
     "metadata": {},
     "output_type": "execute_result"
    }
   ],
   "source": [
    "df_rating.columns"
   ]
  },
  {
   "cell_type": "markdown",
   "id": "44079d0f-d01e-4f65-aed4-cb20a254f2ca",
   "metadata": {},
   "source": [
    "<div style=\"border-radius:10px; border:#808080 solid; padding: 15px; background-color: ##F0E68C ; font-size:100%; text-align:left\">\n",
    "\n",
    "<span style=\"color:darkblue; font-weight:bold; font-size:24px;\">Data Information:</span>\n",
    "\n",
    "- ##### User-ID : A unique identifier for the user who provided the rating\n",
    "- ##### ISBN : A unique identifier for the book that was rated.\n",
    "- ##### Book-Rating: The rating given to the book by the user.\n"
   ]
  },
  {
   "cell_type": "code",
   "execution_count": 8,
   "id": "878611fb-af8a-43f7-ba57-e552e2842a1c",
   "metadata": {},
   "outputs": [
    {
     "data": {
      "text/plain": [
       "Index(['User-ID', 'Location', 'Age'], dtype='object')"
      ]
     },
     "execution_count": 8,
     "metadata": {},
     "output_type": "execute_result"
    }
   ],
   "source": [
    "df_user.columns"
   ]
  },
  {
   "cell_type": "markdown",
   "id": "76e1b366-688d-4411-ae4b-20dba60b2ede",
   "metadata": {},
   "source": [
    "<div style=\"border-radius:10px; border:#808080 solid; padding: 15px; background-color: ##F0E68C ; font-size:100%; text-align:left\">\n",
    "\n",
    "<span style=\"color:darkblue; font-weight:bold; font-size:24px;\">Data Information:</span>\n",
    "\n",
    "- ##### User-ID : A unique identifier for the user.\n",
    "- ##### Location : Location of the user.\n",
    "- ##### Age : The age of the user."
   ]
  },
  {
   "cell_type": "markdown",
   "id": "713dba95-34c5-452b-8ac5-69a1ff735f1b",
   "metadata": {},
   "source": [
    "<span style=\"color:brown; font-weight:bold; font-size:24px;\">Shape of the datasets</span>\n"
   ]
  },
  {
   "cell_type": "code",
   "execution_count": 9,
   "id": "541f0ff8-44c2-4cff-9157-ef148a5a4110",
   "metadata": {},
   "outputs": [
    {
     "name": "stdout",
     "output_type": "stream",
     "text": [
      "The Books dataset has 271360 rows and 8 features\n"
     ]
    }
   ],
   "source": [
    "print(f\"The Books dataset has {df_book.shape[0]} rows and {df_book.shape[1]} features\")"
   ]
  },
  {
   "cell_type": "code",
   "execution_count": 10,
   "id": "bb322bca-0b6d-4c6a-9fcb-ba8756fac035",
   "metadata": {},
   "outputs": [
    {
     "name": "stdout",
     "output_type": "stream",
     "text": [
      "The Ratings dataset has 1149780 rows and 3 features\n"
     ]
    }
   ],
   "source": [
    "print(f\"The Ratings dataset has {df_rating.shape[0]} rows and {df_rating.shape[1]} features\")"
   ]
  },
  {
   "cell_type": "code",
   "execution_count": 11,
   "id": "782635d4-88d3-45d2-98b1-58e964d3cdc9",
   "metadata": {},
   "outputs": [
    {
     "name": "stdout",
     "output_type": "stream",
     "text": [
      "The Users dataset has 278858 rows and 3 features\n"
     ]
    }
   ],
   "source": [
    "print(f\"The Users dataset has {df_user.shape[0]} rows and {df_user.shape[1]} features\")"
   ]
  },
  {
   "cell_type": "markdown",
   "id": "864de911-7d2b-453a-8717-8c1c4cfcc7ee",
   "metadata": {},
   "source": [
    "<span style=\"color:brown; font-weight:bold; font-size:24px;\">Rename the columns for better understanding</span>"
   ]
  },
  {
   "cell_type": "code",
   "execution_count": 12,
   "id": "61d52fb0-d4da-429b-ac1f-66587c8c2524",
   "metadata": {},
   "outputs": [
    {
     "data": {
      "text/html": [
       "<div>\n",
       "<style scoped>\n",
       "    .dataframe tbody tr th:only-of-type {\n",
       "        vertical-align: middle;\n",
       "    }\n",
       "\n",
       "    .dataframe tbody tr th {\n",
       "        vertical-align: top;\n",
       "    }\n",
       "\n",
       "    .dataframe thead th {\n",
       "        text-align: right;\n",
       "    }\n",
       "</style>\n",
       "<table border=\"1\" class=\"dataframe\">\n",
       "  <thead>\n",
       "    <tr style=\"text-align: right;\">\n",
       "      <th></th>\n",
       "      <th>ISBN</th>\n",
       "      <th>Book_Title</th>\n",
       "      <th>Author</th>\n",
       "      <th>Publication_Year</th>\n",
       "      <th>Publisher</th>\n",
       "      <th>Image_URL_Small</th>\n",
       "      <th>Image_URL_Medium</th>\n",
       "      <th>Image_URL_Large</th>\n",
       "    </tr>\n",
       "  </thead>\n",
       "  <tbody>\n",
       "    <tr>\n",
       "      <th>0</th>\n",
       "      <td>0195153448</td>\n",
       "      <td>Classical Mythology</td>\n",
       "      <td>Mark P. O. Morford</td>\n",
       "      <td>2002</td>\n",
       "      <td>Oxford University Press</td>\n",
       "      <td>http://images.amazon.com/images/P/0195153448.0...</td>\n",
       "      <td>http://images.amazon.com/images/P/0195153448.0...</td>\n",
       "      <td>http://images.amazon.com/images/P/0195153448.0...</td>\n",
       "    </tr>\n",
       "    <tr>\n",
       "      <th>1</th>\n",
       "      <td>0002005018</td>\n",
       "      <td>Clara Callan</td>\n",
       "      <td>Richard Bruce Wright</td>\n",
       "      <td>2001</td>\n",
       "      <td>HarperFlamingo Canada</td>\n",
       "      <td>http://images.amazon.com/images/P/0002005018.0...</td>\n",
       "      <td>http://images.amazon.com/images/P/0002005018.0...</td>\n",
       "      <td>http://images.amazon.com/images/P/0002005018.0...</td>\n",
       "    </tr>\n",
       "    <tr>\n",
       "      <th>2</th>\n",
       "      <td>0060973129</td>\n",
       "      <td>Decision in Normandy</td>\n",
       "      <td>Carlo D'Este</td>\n",
       "      <td>1991</td>\n",
       "      <td>HarperPerennial</td>\n",
       "      <td>http://images.amazon.com/images/P/0060973129.0...</td>\n",
       "      <td>http://images.amazon.com/images/P/0060973129.0...</td>\n",
       "      <td>http://images.amazon.com/images/P/0060973129.0...</td>\n",
       "    </tr>\n",
       "    <tr>\n",
       "      <th>3</th>\n",
       "      <td>0374157065</td>\n",
       "      <td>Flu: The Story of the Great Influenza Pandemic...</td>\n",
       "      <td>Gina Bari Kolata</td>\n",
       "      <td>1999</td>\n",
       "      <td>Farrar Straus Giroux</td>\n",
       "      <td>http://images.amazon.com/images/P/0374157065.0...</td>\n",
       "      <td>http://images.amazon.com/images/P/0374157065.0...</td>\n",
       "      <td>http://images.amazon.com/images/P/0374157065.0...</td>\n",
       "    </tr>\n",
       "    <tr>\n",
       "      <th>4</th>\n",
       "      <td>0393045218</td>\n",
       "      <td>The Mummies of Urumchi</td>\n",
       "      <td>E. J. W. Barber</td>\n",
       "      <td>1999</td>\n",
       "      <td>W. W. Norton &amp;amp; Company</td>\n",
       "      <td>http://images.amazon.com/images/P/0393045218.0...</td>\n",
       "      <td>http://images.amazon.com/images/P/0393045218.0...</td>\n",
       "      <td>http://images.amazon.com/images/P/0393045218.0...</td>\n",
       "    </tr>\n",
       "  </tbody>\n",
       "</table>\n",
       "</div>"
      ],
      "text/plain": [
       "         ISBN                                         Book_Title  \\\n",
       "0  0195153448                                Classical Mythology   \n",
       "1  0002005018                                       Clara Callan   \n",
       "2  0060973129                               Decision in Normandy   \n",
       "3  0374157065  Flu: The Story of the Great Influenza Pandemic...   \n",
       "4  0393045218                             The Mummies of Urumchi   \n",
       "\n",
       "                 Author Publication_Year                   Publisher  \\\n",
       "0    Mark P. O. Morford             2002     Oxford University Press   \n",
       "1  Richard Bruce Wright             2001       HarperFlamingo Canada   \n",
       "2          Carlo D'Este             1991             HarperPerennial   \n",
       "3      Gina Bari Kolata             1999        Farrar Straus Giroux   \n",
       "4       E. J. W. Barber             1999  W. W. Norton &amp; Company   \n",
       "\n",
       "                                     Image_URL_Small  \\\n",
       "0  http://images.amazon.com/images/P/0195153448.0...   \n",
       "1  http://images.amazon.com/images/P/0002005018.0...   \n",
       "2  http://images.amazon.com/images/P/0060973129.0...   \n",
       "3  http://images.amazon.com/images/P/0374157065.0...   \n",
       "4  http://images.amazon.com/images/P/0393045218.0...   \n",
       "\n",
       "                                    Image_URL_Medium  \\\n",
       "0  http://images.amazon.com/images/P/0195153448.0...   \n",
       "1  http://images.amazon.com/images/P/0002005018.0...   \n",
       "2  http://images.amazon.com/images/P/0060973129.0...   \n",
       "3  http://images.amazon.com/images/P/0374157065.0...   \n",
       "4  http://images.amazon.com/images/P/0393045218.0...   \n",
       "\n",
       "                                     Image_URL_Large  \n",
       "0  http://images.amazon.com/images/P/0195153448.0...  \n",
       "1  http://images.amazon.com/images/P/0002005018.0...  \n",
       "2  http://images.amazon.com/images/P/0060973129.0...  \n",
       "3  http://images.amazon.com/images/P/0374157065.0...  \n",
       "4  http://images.amazon.com/images/P/0393045218.0...  "
      ]
     },
     "execution_count": 12,
     "metadata": {},
     "output_type": "execute_result"
    }
   ],
   "source": [
    "df_book.rename(columns = {'Book-Title' : 'Book_Title',\n",
    "                          'Book-Author' :'Author',\n",
    "                          'Year-Of-Publication' : 'Publication_Year',\n",
    "                          'Publisher' : 'Publisher',\n",
    "                          'Image-URL-S': 'Image_URL_Small',\n",
    "                          'Image-URL-M' : 'Image_URL_Medium',\n",
    "                          'Image-URL-L' : 'Image_URL_Large'}, inplace = True)\n",
    "\n",
    "df_book.head()"
   ]
  },
  {
   "cell_type": "code",
   "execution_count": 13,
   "id": "b55ecfbf-f47c-426d-86a0-46b78253d5a0",
   "metadata": {},
   "outputs": [
    {
     "data": {
      "text/html": [
       "<div>\n",
       "<style scoped>\n",
       "    .dataframe tbody tr th:only-of-type {\n",
       "        vertical-align: middle;\n",
       "    }\n",
       "\n",
       "    .dataframe tbody tr th {\n",
       "        vertical-align: top;\n",
       "    }\n",
       "\n",
       "    .dataframe thead th {\n",
       "        text-align: right;\n",
       "    }\n",
       "</style>\n",
       "<table border=\"1\" class=\"dataframe\">\n",
       "  <thead>\n",
       "    <tr style=\"text-align: right;\">\n",
       "      <th></th>\n",
       "      <th>User_ID</th>\n",
       "      <th>ISBN</th>\n",
       "      <th>Book_Rating</th>\n",
       "    </tr>\n",
       "  </thead>\n",
       "  <tbody>\n",
       "    <tr>\n",
       "      <th>0</th>\n",
       "      <td>276725</td>\n",
       "      <td>034545104X</td>\n",
       "      <td>0</td>\n",
       "    </tr>\n",
       "    <tr>\n",
       "      <th>1</th>\n",
       "      <td>276726</td>\n",
       "      <td>0155061224</td>\n",
       "      <td>5</td>\n",
       "    </tr>\n",
       "    <tr>\n",
       "      <th>2</th>\n",
       "      <td>276727</td>\n",
       "      <td>0446520802</td>\n",
       "      <td>0</td>\n",
       "    </tr>\n",
       "    <tr>\n",
       "      <th>3</th>\n",
       "      <td>276729</td>\n",
       "      <td>052165615X</td>\n",
       "      <td>3</td>\n",
       "    </tr>\n",
       "    <tr>\n",
       "      <th>4</th>\n",
       "      <td>276729</td>\n",
       "      <td>0521795028</td>\n",
       "      <td>6</td>\n",
       "    </tr>\n",
       "  </tbody>\n",
       "</table>\n",
       "</div>"
      ],
      "text/plain": [
       "   User_ID        ISBN  Book_Rating\n",
       "0   276725  034545104X            0\n",
       "1   276726  0155061224            5\n",
       "2   276727  0446520802            0\n",
       "3   276729  052165615X            3\n",
       "4   276729  0521795028            6"
      ]
     },
     "execution_count": 13,
     "metadata": {},
     "output_type": "execute_result"
    }
   ],
   "source": [
    "df_rating.rename(columns={'User-ID' : 'User_ID',\n",
    "                          'Book-Rating': 'Book_Rating'}, inplace = True)\n",
    "\n",
    "df_rating.head()"
   ]
  },
  {
   "cell_type": "code",
   "execution_count": 14,
   "id": "1d684a2f-4ff8-4f8c-99a3-00365dc8ccd2",
   "metadata": {},
   "outputs": [
    {
     "data": {
      "text/html": [
       "<div>\n",
       "<style scoped>\n",
       "    .dataframe tbody tr th:only-of-type {\n",
       "        vertical-align: middle;\n",
       "    }\n",
       "\n",
       "    .dataframe tbody tr th {\n",
       "        vertical-align: top;\n",
       "    }\n",
       "\n",
       "    .dataframe thead th {\n",
       "        text-align: right;\n",
       "    }\n",
       "</style>\n",
       "<table border=\"1\" class=\"dataframe\">\n",
       "  <thead>\n",
       "    <tr style=\"text-align: right;\">\n",
       "      <th></th>\n",
       "      <th>User_ID</th>\n",
       "      <th>Location</th>\n",
       "      <th>Age</th>\n",
       "    </tr>\n",
       "  </thead>\n",
       "  <tbody>\n",
       "    <tr>\n",
       "      <th>0</th>\n",
       "      <td>1</td>\n",
       "      <td>nyc, new york, usa</td>\n",
       "      <td>NaN</td>\n",
       "    </tr>\n",
       "    <tr>\n",
       "      <th>1</th>\n",
       "      <td>2</td>\n",
       "      <td>stockton, california, usa</td>\n",
       "      <td>18.0</td>\n",
       "    </tr>\n",
       "    <tr>\n",
       "      <th>2</th>\n",
       "      <td>3</td>\n",
       "      <td>moscow, yukon territory, russia</td>\n",
       "      <td>NaN</td>\n",
       "    </tr>\n",
       "    <tr>\n",
       "      <th>3</th>\n",
       "      <td>4</td>\n",
       "      <td>porto, v.n.gaia, portugal</td>\n",
       "      <td>17.0</td>\n",
       "    </tr>\n",
       "    <tr>\n",
       "      <th>4</th>\n",
       "      <td>5</td>\n",
       "      <td>farnborough, hants, united kingdom</td>\n",
       "      <td>NaN</td>\n",
       "    </tr>\n",
       "  </tbody>\n",
       "</table>\n",
       "</div>"
      ],
      "text/plain": [
       "   User_ID                            Location   Age\n",
       "0        1                  nyc, new york, usa   NaN\n",
       "1        2           stockton, california, usa  18.0\n",
       "2        3     moscow, yukon territory, russia   NaN\n",
       "3        4           porto, v.n.gaia, portugal  17.0\n",
       "4        5  farnborough, hants, united kingdom   NaN"
      ]
     },
     "execution_count": 14,
     "metadata": {},
     "output_type": "execute_result"
    }
   ],
   "source": [
    "df_user.rename(columns ={'User-ID' : 'User_ID'}, inplace = True)\n",
    "\n",
    "df_user.head()\n",
    "                         "
   ]
  },
  {
   "cell_type": "code",
   "execution_count": null,
   "id": "d0303041-6554-40a5-b6b3-47603fb595bb",
   "metadata": {},
   "outputs": [],
   "source": []
  },
  {
   "cell_type": "markdown",
   "id": "9062f74e-a5c3-4d26-a31f-da0b74d71949",
   "metadata": {},
   "source": [
    "<span style=\"color:brown; font-weight:bold; font-size:24px;\">\n",
    "Check for Missing Values</span>"
   ]
  },
  {
   "cell_type": "code",
   "execution_count": 15,
   "id": "55402e21-2971-47e6-83ea-db3b9fd99d3f",
   "metadata": {},
   "outputs": [
    {
     "data": {
      "text/plain": [
       "ISBN                0\n",
       "Book_Title          0\n",
       "Author              2\n",
       "Publication_Year    0\n",
       "Publisher           2\n",
       "Image_URL_Small     0\n",
       "Image_URL_Medium    0\n",
       "Image_URL_Large     3\n",
       "dtype: int64"
      ]
     },
     "execution_count": 15,
     "metadata": {},
     "output_type": "execute_result"
    }
   ],
   "source": [
    "df_book.isnull().sum()"
   ]
  },
  {
   "cell_type": "markdown",
   "id": "05262add-f63e-4be6-aafc-1feadf605716",
   "metadata": {},
   "source": [
    "<div style=\"border-radius:10px; border:#808080 solid; padding: 15px; background-color: ##F0E68C ; font-size:100%; text-align:left\">\n",
    "\n",
    "<span style=\"color:darkblue; font-weight:bold; font-size:24px;\">Insights:</span>\n",
    "\n",
    "- ##### It contains few missing values, with 2 missing entries in Author and Publisher columns, and 3 missing entries in Image_URL_Large column, but no missing entries in other columns"
   ]
  },
  {
   "cell_type": "code",
   "execution_count": 16,
   "id": "fc345c36-b699-48b2-ad02-698995df6990",
   "metadata": {},
   "outputs": [
    {
     "data": {
      "text/plain": [
       "User_ID        0\n",
       "ISBN           0\n",
       "Book_Rating    0\n",
       "dtype: int64"
      ]
     },
     "execution_count": 16,
     "metadata": {},
     "output_type": "execute_result"
    }
   ],
   "source": [
    "df_rating.isnull().sum()"
   ]
  },
  {
   "cell_type": "markdown",
   "id": "1729099a-6645-4055-92b7-09a19993ebe2",
   "metadata": {},
   "source": [
    "<div style=\"border-radius:10px; border:#808080 solid; padding: 15px; background-color: ##F0E68C ; font-size:100%; text-align:left\">\n",
    "\n",
    "<span style=\"color:darkblue; font-weight:bold; font-size:24px;\">Insights:</span>\n",
    "\n",
    "- ##### No Missing values are present\n"
   ]
  },
  {
   "cell_type": "code",
   "execution_count": 17,
   "id": "a9827821-0662-43f0-93d5-aa4d584730d0",
   "metadata": {},
   "outputs": [
    {
     "data": {
      "text/plain": [
       "User_ID          0\n",
       "Location         0\n",
       "Age         110762\n",
       "dtype: int64"
      ]
     },
     "execution_count": 17,
     "metadata": {},
     "output_type": "execute_result"
    }
   ],
   "source": [
    "df_user.isnull().sum()"
   ]
  },
  {
   "cell_type": "markdown",
   "id": "ddf356a9-e5ff-476f-9d44-25dd5b187bf9",
   "metadata": {},
   "source": [
    "<div style=\"border-radius:10px; border:#808080 solid; padding: 15px; background-color: ##F0E68C ; font-size:100%; text-align:left\">\n",
    "\n",
    "<span style=\"color:darkblue; font-weight:bold; font-size:24px;\">Insights:</span>\n",
    "\n",
    "- ##### There are 110762 missing values in the Age column, while User_ID and Location have no missing entries"
   ]
  },
  {
   "cell_type": "markdown",
   "id": "c31eb952-9766-4992-82c5-99a79010e0a6",
   "metadata": {},
   "source": [
    "<span style=\"color:brown; font-weight:bold; font-size:24px;\">\n",
    "Check for Duplicate records</span>"
   ]
  },
  {
   "cell_type": "code",
   "execution_count": 18,
   "id": "d892a9e8-5eb1-4142-a013-d98875a5f5ae",
   "metadata": {},
   "outputs": [
    {
     "name": "stdout",
     "output_type": "stream",
     "text": [
      "Duplicates in Book dataset: 0\n",
      "Duplicates in Rating dataset: 0\n",
      "Duplicates in User dataset: 0\n"
     ]
    }
   ],
   "source": [
    "print(\"Duplicates in Book dataset:\", df_book.duplicated().sum())\n",
    "print(\"Duplicates in Rating dataset:\",df_rating.duplicated().sum())\n",
    "print(\"Duplicates in User dataset:\",df_user.duplicated().sum())"
   ]
  },
  {
   "cell_type": "markdown",
   "id": "da9cfcbc-cd20-4b33-b3b2-421dfc4758ae",
   "metadata": {},
   "source": [
    "<span style=\"color:brown; font-weight:bold; font-size:24px;\">\n",
    "Merge df_book and df_rating</span>"
   ]
  },
  {
   "cell_type": "code",
   "execution_count": 19,
   "id": "3a34c46a-6725-4418-9d96-194afe4d8cd9",
   "metadata": {},
   "outputs": [
    {
     "data": {
      "text/plain": [
       "Index(['ISBN', 'Book_Title', 'Author', 'Publication_Year', 'Publisher',\n",
       "       'Image_URL_Small', 'Image_URL_Medium', 'Image_URL_Large', 'User_ID',\n",
       "       'Book_Rating'],\n",
       "      dtype='object')"
      ]
     },
     "execution_count": 19,
     "metadata": {},
     "output_type": "execute_result"
    }
   ],
   "source": [
    "df_book_rating = df_book.merge(df_rating, on = 'ISBN')\n",
    "df_book_rating.columns"
   ]
  },
  {
   "cell_type": "markdown",
   "id": "add08a77-e887-4c6f-a1c9-e3137f57e6d2",
   "metadata": {},
   "source": [
    "<span style=\"color:brown; font-weight:bold; font-size:24px;\">\n",
    "Collaborative Filtering Based Recommender System</span>"
   ]
  },
  {
   "cell_type": "code",
   "execution_count": 20,
   "id": "510ce385-5662-43f4-9a8d-905eecd5867f",
   "metadata": {},
   "outputs": [],
   "source": [
    "# Select ratings from users who rated for more than 200 books\n",
    "# From these ratings, select the books that have been rated by more than 50 avtive users\n",
    "# Create a DataFrame with ratings only for the famous books and only from active users"
   ]
  },
  {
   "cell_type": "code",
   "execution_count": 21,
   "id": "17fb86a8-0799-4dbc-9401-eb8d55900c28",
   "metadata": {},
   "outputs": [
    {
     "data": {
      "text/plain": [
       "(92106,)"
      ]
     },
     "execution_count": 21,
     "metadata": {},
     "output_type": "execute_result"
    }
   ],
   "source": [
    "# Lets store users who had at least rated more than 200 books\n",
    "\n",
    "x= df_book_rating['User_ID'].value_counts()> 200\n",
    "x.shape"
   ]
  },
  {
   "cell_type": "code",
   "execution_count": 22,
   "id": "06be24eb-5636-4bc9-bc92-404613160940",
   "metadata": {},
   "outputs": [],
   "source": [
    "# y stores the index of users who have rated more than 200 books\n",
    "\n",
    "y = x[x].index"
   ]
  },
  {
   "cell_type": "code",
   "execution_count": 23,
   "id": "3dcd372a-f934-4bbb-8315-0cd138884f35",
   "metadata": {},
   "outputs": [],
   "source": [
    "# Filter the original dataframe to include only ratings from users in y\n",
    "\n",
    "filtered_rating = df_book_rating[df_book_rating['User_ID'].isin(y)]"
   ]
  },
  {
   "cell_type": "code",
   "execution_count": 24,
   "id": "2064e4a1-4936-4c77-959b-9b67998490bc",
   "metadata": {},
   "outputs": [],
   "source": [
    "# Group the filtered rating by Book Title and count the ratings per book. \n",
    "# Then, Store books with at least 50 ratings in famous books\n",
    "\n",
    "y = filtered_rating.groupby('Book_Title').count()['Book_Rating']>=50\n",
    "famous_books = y[y].index"
   ]
  },
  {
   "cell_type": "code",
   "execution_count": 25,
   "id": "fc0109cf-7bc9-4399-bc1f-48c863cd7ac0",
   "metadata": {},
   "outputs": [
    {
     "data": {
      "text/plain": [
       "(58586, 10)"
      ]
     },
     "execution_count": 25,
     "metadata": {},
     "output_type": "execute_result"
    }
   ],
   "source": [
    "# Filter the filtered_rating dataframe to include only books in famous_books\n",
    "\n",
    "final_ratings = filtered_rating[filtered_rating['Book_Title'].isin(famous_books)]\n",
    "final_ratings.shape"
   ]
  },
  {
   "cell_type": "code",
   "execution_count": 26,
   "id": "3d5ec938-ca87-470f-b5b0-56dd87f53ca0",
   "metadata": {},
   "outputs": [
    {
     "data": {
      "text/html": [
       "<div>\n",
       "<style scoped>\n",
       "    .dataframe tbody tr th:only-of-type {\n",
       "        vertical-align: middle;\n",
       "    }\n",
       "\n",
       "    .dataframe tbody tr th {\n",
       "        vertical-align: top;\n",
       "    }\n",
       "\n",
       "    .dataframe thead th {\n",
       "        text-align: right;\n",
       "    }\n",
       "</style>\n",
       "<table border=\"1\" class=\"dataframe\">\n",
       "  <thead>\n",
       "    <tr style=\"text-align: right;\">\n",
       "      <th></th>\n",
       "      <th>ISBN</th>\n",
       "      <th>Book_Title</th>\n",
       "      <th>Author</th>\n",
       "      <th>Publication_Year</th>\n",
       "      <th>Publisher</th>\n",
       "      <th>Image_URL_Small</th>\n",
       "      <th>Image_URL_Medium</th>\n",
       "      <th>Image_URL_Large</th>\n",
       "      <th>User_ID</th>\n",
       "      <th>Book_Rating</th>\n",
       "    </tr>\n",
       "  </thead>\n",
       "  <tbody>\n",
       "    <tr>\n",
       "      <th>31</th>\n",
       "      <td>0399135782</td>\n",
       "      <td>The Kitchen God's Wife</td>\n",
       "      <td>Amy Tan</td>\n",
       "      <td>1991</td>\n",
       "      <td>Putnam Pub Group</td>\n",
       "      <td>http://images.amazon.com/images/P/0399135782.0...</td>\n",
       "      <td>http://images.amazon.com/images/P/0399135782.0...</td>\n",
       "      <td>http://images.amazon.com/images/P/0399135782.0...</td>\n",
       "      <td>11676</td>\n",
       "      <td>9</td>\n",
       "    </tr>\n",
       "    <tr>\n",
       "      <th>33</th>\n",
       "      <td>0399135782</td>\n",
       "      <td>The Kitchen God's Wife</td>\n",
       "      <td>Amy Tan</td>\n",
       "      <td>1991</td>\n",
       "      <td>Putnam Pub Group</td>\n",
       "      <td>http://images.amazon.com/images/P/0399135782.0...</td>\n",
       "      <td>http://images.amazon.com/images/P/0399135782.0...</td>\n",
       "      <td>http://images.amazon.com/images/P/0399135782.0...</td>\n",
       "      <td>36836</td>\n",
       "      <td>0</td>\n",
       "    </tr>\n",
       "    <tr>\n",
       "      <th>34</th>\n",
       "      <td>0399135782</td>\n",
       "      <td>The Kitchen God's Wife</td>\n",
       "      <td>Amy Tan</td>\n",
       "      <td>1991</td>\n",
       "      <td>Putnam Pub Group</td>\n",
       "      <td>http://images.amazon.com/images/P/0399135782.0...</td>\n",
       "      <td>http://images.amazon.com/images/P/0399135782.0...</td>\n",
       "      <td>http://images.amazon.com/images/P/0399135782.0...</td>\n",
       "      <td>46398</td>\n",
       "      <td>9</td>\n",
       "    </tr>\n",
       "    <tr>\n",
       "      <th>38</th>\n",
       "      <td>0399135782</td>\n",
       "      <td>The Kitchen God's Wife</td>\n",
       "      <td>Amy Tan</td>\n",
       "      <td>1991</td>\n",
       "      <td>Putnam Pub Group</td>\n",
       "      <td>http://images.amazon.com/images/P/0399135782.0...</td>\n",
       "      <td>http://images.amazon.com/images/P/0399135782.0...</td>\n",
       "      <td>http://images.amazon.com/images/P/0399135782.0...</td>\n",
       "      <td>113270</td>\n",
       "      <td>0</td>\n",
       "    </tr>\n",
       "    <tr>\n",
       "      <th>39</th>\n",
       "      <td>0399135782</td>\n",
       "      <td>The Kitchen God's Wife</td>\n",
       "      <td>Amy Tan</td>\n",
       "      <td>1991</td>\n",
       "      <td>Putnam Pub Group</td>\n",
       "      <td>http://images.amazon.com/images/P/0399135782.0...</td>\n",
       "      <td>http://images.amazon.com/images/P/0399135782.0...</td>\n",
       "      <td>http://images.amazon.com/images/P/0399135782.0...</td>\n",
       "      <td>113519</td>\n",
       "      <td>0</td>\n",
       "    </tr>\n",
       "  </tbody>\n",
       "</table>\n",
       "</div>"
      ],
      "text/plain": [
       "          ISBN              Book_Title   Author Publication_Year  \\\n",
       "31  0399135782  The Kitchen God's Wife  Amy Tan             1991   \n",
       "33  0399135782  The Kitchen God's Wife  Amy Tan             1991   \n",
       "34  0399135782  The Kitchen God's Wife  Amy Tan             1991   \n",
       "38  0399135782  The Kitchen God's Wife  Amy Tan             1991   \n",
       "39  0399135782  The Kitchen God's Wife  Amy Tan             1991   \n",
       "\n",
       "           Publisher                                    Image_URL_Small  \\\n",
       "31  Putnam Pub Group  http://images.amazon.com/images/P/0399135782.0...   \n",
       "33  Putnam Pub Group  http://images.amazon.com/images/P/0399135782.0...   \n",
       "34  Putnam Pub Group  http://images.amazon.com/images/P/0399135782.0...   \n",
       "38  Putnam Pub Group  http://images.amazon.com/images/P/0399135782.0...   \n",
       "39  Putnam Pub Group  http://images.amazon.com/images/P/0399135782.0...   \n",
       "\n",
       "                                     Image_URL_Medium  \\\n",
       "31  http://images.amazon.com/images/P/0399135782.0...   \n",
       "33  http://images.amazon.com/images/P/0399135782.0...   \n",
       "34  http://images.amazon.com/images/P/0399135782.0...   \n",
       "38  http://images.amazon.com/images/P/0399135782.0...   \n",
       "39  http://images.amazon.com/images/P/0399135782.0...   \n",
       "\n",
       "                                      Image_URL_Large  User_ID  Book_Rating  \n",
       "31  http://images.amazon.com/images/P/0399135782.0...    11676            9  \n",
       "33  http://images.amazon.com/images/P/0399135782.0...    36836            0  \n",
       "34  http://images.amazon.com/images/P/0399135782.0...    46398            9  \n",
       "38  http://images.amazon.com/images/P/0399135782.0...   113270            0  \n",
       "39  http://images.amazon.com/images/P/0399135782.0...   113519            0  "
      ]
     },
     "execution_count": 26,
     "metadata": {},
     "output_type": "execute_result"
    }
   ],
   "source": [
    "final_ratings.head()"
   ]
  },
  {
   "cell_type": "code",
   "execution_count": 27,
   "id": "79385621-5151-4e15-a7c1-0fb93f2c70c6",
   "metadata": {},
   "outputs": [
    {
     "data": {
      "text/html": [
       "<div>\n",
       "<style scoped>\n",
       "    .dataframe tbody tr th:only-of-type {\n",
       "        vertical-align: middle;\n",
       "    }\n",
       "\n",
       "    .dataframe tbody tr th {\n",
       "        vertical-align: top;\n",
       "    }\n",
       "\n",
       "    .dataframe thead th {\n",
       "        text-align: right;\n",
       "    }\n",
       "</style>\n",
       "<table border=\"1\" class=\"dataframe\">\n",
       "  <thead>\n",
       "    <tr style=\"text-align: right;\">\n",
       "      <th></th>\n",
       "      <th>ISBN</th>\n",
       "      <th>Book_Title</th>\n",
       "      <th>Author</th>\n",
       "      <th>Publication_Year</th>\n",
       "      <th>Publisher</th>\n",
       "      <th>Image_URL_Small</th>\n",
       "      <th>Image_URL_Medium</th>\n",
       "      <th>Image_URL_Large</th>\n",
       "      <th>User_ID</th>\n",
       "      <th>Book_Rating</th>\n",
       "    </tr>\n",
       "  </thead>\n",
       "  <tbody>\n",
       "    <tr>\n",
       "      <th>0</th>\n",
       "      <td>0195153448</td>\n",
       "      <td>Classical Mythology</td>\n",
       "      <td>Mark P. O. Morford</td>\n",
       "      <td>2002</td>\n",
       "      <td>Oxford University Press</td>\n",
       "      <td>http://images.amazon.com/images/P/0195153448.0...</td>\n",
       "      <td>http://images.amazon.com/images/P/0195153448.0...</td>\n",
       "      <td>http://images.amazon.com/images/P/0195153448.0...</td>\n",
       "      <td>2</td>\n",
       "      <td>0</td>\n",
       "    </tr>\n",
       "    <tr>\n",
       "      <th>1</th>\n",
       "      <td>0002005018</td>\n",
       "      <td>Clara Callan</td>\n",
       "      <td>Richard Bruce Wright</td>\n",
       "      <td>2001</td>\n",
       "      <td>HarperFlamingo Canada</td>\n",
       "      <td>http://images.amazon.com/images/P/0002005018.0...</td>\n",
       "      <td>http://images.amazon.com/images/P/0002005018.0...</td>\n",
       "      <td>http://images.amazon.com/images/P/0002005018.0...</td>\n",
       "      <td>8</td>\n",
       "      <td>5</td>\n",
       "    </tr>\n",
       "    <tr>\n",
       "      <th>2</th>\n",
       "      <td>0002005018</td>\n",
       "      <td>Clara Callan</td>\n",
       "      <td>Richard Bruce Wright</td>\n",
       "      <td>2001</td>\n",
       "      <td>HarperFlamingo Canada</td>\n",
       "      <td>http://images.amazon.com/images/P/0002005018.0...</td>\n",
       "      <td>http://images.amazon.com/images/P/0002005018.0...</td>\n",
       "      <td>http://images.amazon.com/images/P/0002005018.0...</td>\n",
       "      <td>11400</td>\n",
       "      <td>0</td>\n",
       "    </tr>\n",
       "    <tr>\n",
       "      <th>3</th>\n",
       "      <td>0002005018</td>\n",
       "      <td>Clara Callan</td>\n",
       "      <td>Richard Bruce Wright</td>\n",
       "      <td>2001</td>\n",
       "      <td>HarperFlamingo Canada</td>\n",
       "      <td>http://images.amazon.com/images/P/0002005018.0...</td>\n",
       "      <td>http://images.amazon.com/images/P/0002005018.0...</td>\n",
       "      <td>http://images.amazon.com/images/P/0002005018.0...</td>\n",
       "      <td>11676</td>\n",
       "      <td>8</td>\n",
       "    </tr>\n",
       "    <tr>\n",
       "      <th>4</th>\n",
       "      <td>0002005018</td>\n",
       "      <td>Clara Callan</td>\n",
       "      <td>Richard Bruce Wright</td>\n",
       "      <td>2001</td>\n",
       "      <td>HarperFlamingo Canada</td>\n",
       "      <td>http://images.amazon.com/images/P/0002005018.0...</td>\n",
       "      <td>http://images.amazon.com/images/P/0002005018.0...</td>\n",
       "      <td>http://images.amazon.com/images/P/0002005018.0...</td>\n",
       "      <td>41385</td>\n",
       "      <td>0</td>\n",
       "    </tr>\n",
       "  </tbody>\n",
       "</table>\n",
       "</div>"
      ],
      "text/plain": [
       "         ISBN           Book_Title                Author Publication_Year  \\\n",
       "0  0195153448  Classical Mythology    Mark P. O. Morford             2002   \n",
       "1  0002005018         Clara Callan  Richard Bruce Wright             2001   \n",
       "2  0002005018         Clara Callan  Richard Bruce Wright             2001   \n",
       "3  0002005018         Clara Callan  Richard Bruce Wright             2001   \n",
       "4  0002005018         Clara Callan  Richard Bruce Wright             2001   \n",
       "\n",
       "                 Publisher                                    Image_URL_Small  \\\n",
       "0  Oxford University Press  http://images.amazon.com/images/P/0195153448.0...   \n",
       "1    HarperFlamingo Canada  http://images.amazon.com/images/P/0002005018.0...   \n",
       "2    HarperFlamingo Canada  http://images.amazon.com/images/P/0002005018.0...   \n",
       "3    HarperFlamingo Canada  http://images.amazon.com/images/P/0002005018.0...   \n",
       "4    HarperFlamingo Canada  http://images.amazon.com/images/P/0002005018.0...   \n",
       "\n",
       "                                    Image_URL_Medium  \\\n",
       "0  http://images.amazon.com/images/P/0195153448.0...   \n",
       "1  http://images.amazon.com/images/P/0002005018.0...   \n",
       "2  http://images.amazon.com/images/P/0002005018.0...   \n",
       "3  http://images.amazon.com/images/P/0002005018.0...   \n",
       "4  http://images.amazon.com/images/P/0002005018.0...   \n",
       "\n",
       "                                     Image_URL_Large  User_ID  Book_Rating  \n",
       "0  http://images.amazon.com/images/P/0195153448.0...        2            0  \n",
       "1  http://images.amazon.com/images/P/0002005018.0...        8            5  \n",
       "2  http://images.amazon.com/images/P/0002005018.0...    11400            0  \n",
       "3  http://images.amazon.com/images/P/0002005018.0...    11676            8  \n",
       "4  http://images.amazon.com/images/P/0002005018.0...    41385            0  "
      ]
     },
     "execution_count": 27,
     "metadata": {},
     "output_type": "execute_result"
    }
   ],
   "source": [
    "df_book_rating.head()"
   ]
  },
  {
   "cell_type": "code",
   "execution_count": 28,
   "id": "0226b5d3-adc6-451e-bea2-8c2e90969959",
   "metadata": {},
   "outputs": [
    {
     "data": {
      "text/plain": [
       "(1031136, 10)"
      ]
     },
     "execution_count": 28,
     "metadata": {},
     "output_type": "execute_result"
    }
   ],
   "source": [
    "df_book_rating.shape"
   ]
  },
  {
   "cell_type": "markdown",
   "id": "78612f6e-937d-4c23-b205-96a0bf10992f",
   "metadata": {},
   "source": [
    "<span style=\"color:brown; font-weight:bold; font-size:24px;\">\n",
    "Top 10 Publishers with the Most Books</span>"
   ]
  },
  {
   "cell_type": "code",
   "execution_count": 29,
   "id": "403e775f-2d1e-4cda-ad1e-0a376c282df7",
   "metadata": {},
   "outputs": [
    {
     "data": {
      "image/png": "[encoded data removed]",
      "text/plain": [
       "<Figure size 1000x600 with 1 Axes>"
      ]
     },
     "metadata": {},
     "output_type": "display_data"
    }
   ],
   "source": [
    "top_publishers = df_book['Publisher'].value_counts().head(10)\n",
    "\n",
    "# Create a bar chart\n",
    "plt.figure(figsize=(10, 6))\n",
    "ax = sns.barplot(x= top_publishers.index, y=top_publishers.values,palette='mako')\n",
    "\n",
    "for container in ax.containers:\n",
    "    ax.bar_label(container)\n",
    "    \n",
    "plt.title('Top 10 Publishers with the Most Books')\n",
    "plt.xlabel('Publisher')\n",
    "plt.ylabel('Number of Books')\n",
    "plt.xticks(rotation=45)\n",
    "plt.show()"
   ]
  },
  {
   "cell_type": "markdown",
   "id": "28d80933-ae40-4424-aed3-338951a604d5",
   "metadata": {},
   "source": [
    "<div style=\"border-radius:10px; border:#808080 solid; padding: 15px; background-color: ##F0E68C ; font-size:100%; text-align:left\">\n",
    "\n",
    "<span style=\"color:darkblue; font-weight:bold; font-size:24px;\">Insights:</span>\n",
    "\n",
    "- ##### Harlequin dominates the top 10 publishers with over 7000 books, far exceeding others like Silhouette and Pocket which each have around 3000 to 4000 books.\n",
    "- ##### The remaning publishers have a more evenly distributed book count, indicating harlequin's strong lead in the market"
   ]
  },
  {
   "cell_type": "markdown",
   "id": "677bc087-9a6d-40f8-98c4-93a0f2e958d4",
   "metadata": {},
   "source": [
    "<span style=\"color:brown; font-weight:bold; font-size:24px;\">\n",
    "Top 10 Authors with the Most Books</span>"
   ]
  },
  {
   "cell_type": "code",
   "execution_count": 30,
   "id": "b0646694-d6d0-4c80-89af-09a829fc5f4d",
   "metadata": {},
   "outputs": [
    {
     "data": {
      "image/png": "[encoded data removed]",
      "text/plain": [
       "<Figure size 1200x600 with 1 Axes>"
      ]
     },
     "metadata": {},
     "output_type": "display_data"
    }
   ],
   "source": [
    "top_authors = df_book['Author'].value_counts().head(10)\n",
    "\n",
    "# Create a bar chart\n",
    "plt.figure(figsize=(12, 6))\n",
    "ax = sns.barplot(x= top_authors.index, y=top_authors.values,palette='mako')\n",
    "\n",
    "for container in ax.containers:\n",
    "    ax.bar_label(container)\n",
    "    \n",
    "plt.title('Top 10 Authors with the Most Books')\n",
    "plt.xlabel('Authors')\n",
    "plt.ylabel('Number of Books')\n",
    "plt.xticks(rotation=45)\n",
    "plt.show()"
   ]
  },
  {
   "cell_type": "markdown",
   "id": "febfe3de-fc54-427d-a457-27eac2ebc9cf",
   "metadata": {},
   "source": [
    "<div style=\"border-radius:10px; border:#808080 solid; padding: 15px; background-color: ##F0E68C ; font-size:100%; text-align:left\">\n",
    "\n",
    "<span style=\"color:darkblue; font-weight:bold; font-size:24px;\">Insights:</span>\n",
    "\n",
    "- ##### Agatha Christie is the most prolific author with over 600 books, followed by William Shakespeare and Stephen King, who each have around 500 books. The other top 10 authos have between 400 to 500 books, showing Christie's clear lead."
   ]
  },
  {
   "cell_type": "markdown",
   "id": "bf1d3af4-1f2f-4474-ac2b-da91c71f0941",
   "metadata": {},
   "source": [
    "<span style=\"color:brown; font-weight:bold; font-size:24px;\">\n",
    "Number of Books Published by Year</span>"
   ]
  },
  {
   "cell_type": "code",
   "execution_count": 35,
   "id": "ffd4c56a-48e7-43a1-b01f-7921520b891d",
   "metadata": {},
   "outputs": [
    {
     "data": {
      "image/png": "[encoded data removed]",
      "text/plain": [
       "<Figure size 1200x600 with 1 Axes>"
      ]
     },
     "metadata": {},
     "output_type": "display_data"
    }
   ],
   "source": [
    "# Group the data by the 'Year-of-publication' and count the number of books in each year.\n",
    "year_counts = df_book.groupby('Publication_Year').size().sort_values(ascending = False)\n",
    "\n",
    "# Top 10 years with the most books published\n",
    "top_10_years = year_counts.head(10)\n",
    "\n",
    "# convert years to integers\n",
    "top_10_years.index = top_10_years.index.astype(int)\n",
    "\n",
    "# create a bar chart\n",
    "plt.figure(figsize=(12,6))\n",
    "ax = sns.barplot(x= top_10_years.index, y =top_10_years.values, order=top_10_years.index,palette='mako')\n",
    "\n",
    "for container in ax.containers:\n",
    "    ax.bar_label(container)\n",
    "\n",
    "plt.title('Number of Books Published by Year')\n",
    "plt.xlabel('Year of Publication')\n",
    "plt.ylabel('Number of Books')\n",
    "\n",
    "plt.xticks(rotation=45)\n",
    "plt.tight_layout()\n",
    "\n",
    "plt.show()\n"
   ]
  },
  {
   "cell_type": "markdown",
   "id": "e475be96-a602-4f29-8a06-4f8d560e0f81",
   "metadata": {},
   "source": [
    "<div style=\"border-radius:10px; border:#808080 solid; padding: 15px; background-color: ##F0E68C ; font-size:100%; text-align:left\">\n",
    "\n",
    "<span style=\"color:darkblue; font-weight:bold; font-size:24px;\">Insights:</span>\n",
    "\n",
    "- ##### The bar chart shows that the year 2002 had the highest number of books published, followed closely by 2001 and 1999. The number of published books slightly decreases with subsequent years with 1994 having the lowest count among the top 10 years. This trend indicates a peak in book publishing around the early 2000s."
   ]
  },
  {
   "cell_type": "markdown",
   "id": "70b00719-8c0e-4318-8d7c-29f05b6247a1",
   "metadata": {},
   "source": [
    "<span style=\"color:brown; font-weight:bold; font-size:24px;\">\n",
    "Top 10 popular Books</span>"
   ]
  },
  {
   "cell_type": "code",
   "execution_count": 42,
   "id": "cb5abe39-63e2-47b1-a5a9-63095380bba2",
   "metadata": {},
   "outputs": [
    {
     "data": {
      "image/png": "[encoded data removed]",
      "text/plain": [
       "<Figure size 1000x600 with 1 Axes>"
      ]
     },
     "metadata": {},
     "output_type": "display_data"
    }
   ],
   "source": [
    "# Calculate the count of ratings for each book\n",
    "book_ratings_count = df_book_rating.groupby('Book_Title').size().sort_values(ascending=False).head(10)\n",
    "\n",
    "# Get the top 10 popular books based on ratings count\n",
    "top_10_popular_books = df_book_rating[df_book_rating['Book_Title'].isin(book_ratings_count.index)]\n",
    "\n",
    "# Create a bar chart to visualize the top 10 popular books\n",
    "plt.figure(figsize=(10, 6))\n",
    "sns.barplot(x=top_10_popular_books['Book_Title'].unique(), y=book_ratings_count, palette='magma')\n",
    "plt.title('Top 10 Popular Books')\n",
    "plt.xlabel('Book Title')\n",
    "plt.ylabel('Number of Ratings')\n",
    "plt.xticks(rotation=45, ha='right')\n",
    "plt.tight_layout()\n",
    "plt.show()\n",
    "\n"
   ]
  },
  {
   "cell_type": "markdown",
   "id": "0f849ab5-fb3a-40ef-a632-4dca7d892d8b",
   "metadata": {},
   "source": [
    "<div style=\"border-radius:10px; border:#808080 solid; padding: 15px; background-color: ##F0E68C ; font-size:100%; text-align:left\">\n",
    "\n",
    "<span style=\"color:darkblue; font-weight:bold; font-size:24px;\">Insights:</span>\n",
    "\n",
    "- ##### The bar chart shows the top 10 most popular books based on the number of ratings. Wild Animus is by far the most popular, with over 2500 ratings significantly surpassing the other books. Angels & Demons follows with round 1000 ratings, while the remaning books, such as Bridget Jones's Diary and The Da Vinci Code have between 600 and 800 ratings. This indicaes that Wild Animus has a much broader readership engagement compared to other top titles"
   ]
  },
  {
   "cell_type": "markdown",
   "id": "85c6c5e6-60dd-45d6-b361-1806a8d45b5e",
   "metadata": {},
   "source": [
    "<span style=\"color:brown; font-weight:bold; font-size:24px;\">\n",
    "Distribution of Ratings</span>"
   ]
  },
  {
   "cell_type": "code",
   "execution_count": 44,
   "id": "1f420bc4-5ef8-4f37-9647-5c1811178233",
   "metadata": {},
   "outputs": [
    {
     "data": {
      "image/png": "[encoded data removed]",
      "text/plain": [
       "<Figure size 1200x600 with 1 Axes>"
      ]
     },
     "metadata": {},
     "output_type": "display_data"
    }
   ],
   "source": [
    "plt.figure(figsize=(12,6))\n",
    "sns.histplot(df_rating['Book_Rating'], bins=10, kde=False, palette='magma')\n",
    "plt.title(\"Distrbution of Ratings\")\n",
    "plt.xlabel(\"Rating\")\n",
    "plt.ylabel(\"Count\")\n",
    "plt.grid(True)\n",
    "plt.show()"
   ]
  },
  {
   "cell_type": "markdown",
   "id": "be6872cc-7818-4699-8b71-50f9c5955e7d",
   "metadata": {},
   "source": [
    "<div style=\"border-radius:10px; border:#808080 solid; padding: 15px; background-color: ##F0E68C ; font-size:100%; text-align:left\">\n",
    "\n",
    "<span style=\"color:darkblue; font-weight:bold; font-size:24px;\">Insights:</span>\n",
    "\n",
    "- ##### The histogram shows that the majority of book ratings are at the extremes, with large concentration at 0 and significant number at 10, indicating polarized user opinions. Most other ratings are much lesser frequent."
   ]
  },
  {
   "cell_type": "markdown",
   "id": "b76e4509-e0d9-4235-9806-fd751ea25e86",
   "metadata": {},
   "source": [
    "<span style=\"color:brown; font-weight:bold; font-size:24px;\">\n",
    "Top 10 Most active Users</span>"
   ]
  },
  {
   "cell_type": "code",
   "execution_count": 50,
   "id": "e3f1e8d5-ae00-4175-bfb1-44d4df3ade51",
   "metadata": {},
   "outputs": [
    {
     "data": {
      "text/plain": [
       "User_ID\n",
       "11676     13602\n",
       "198711     7550\n",
       "153662     6109\n",
       "98391      5891\n",
       "35859      5850\n",
       "212898     4785\n",
       "278418     4533\n",
       "76352      3367\n",
       "110973     3100\n",
       "235105     3067\n",
       "Name: count, dtype: int64"
      ]
     },
     "execution_count": 50,
     "metadata": {},
     "output_type": "execute_result"
    }
   ],
   "source": [
    "most_active_users"
   ]
  },
  {
   "cell_type": "code",
   "execution_count": 49,
   "id": "2c155ed7-48ab-41ed-aeea-00b6a36b7802",
   "metadata": {},
   "outputs": [
    {
     "data": {
      "image/png": "[encoded data removed]",
      "text/plain": [
       "<Figure size 1200x600 with 1 Axes>"
      ]
     },
     "metadata": {},
     "output_type": "display_data"
    }
   ],
   "source": [
    "most_active_users = df_rating['User_ID'].value_counts().head(10)\n",
    "plt.figure(figsize=(12,6))\n",
    "sns.barplot(x= most_active_users.values, y=most_active_users.index, palette='magma')\n",
    "\n",
    "plt.title(\"Top 10 most Active users\")\n",
    "plt.xlabel(\"Number of Ratings\")\n",
    "plt.ylabel(\"User ID\")\n",
    "plt.show()\n",
    "\n"
   ]
  },
  {
   "cell_type": "markdown",
   "id": "8d46e309-f254-4dbc-a011-a1099c76b383",
   "metadata": {},
   "source": [
    "<div style=\"border-radius:10px; border:#808080 solid; padding: 15px; background-color: ##F0E68C ; font-size:100%; text-align:left\">\n",
    "\n",
    "<span style=\"color:darkblue; font-weight:bold; font-size:24px;\">Insights:</span>\n",
    "\n",
    "- ##### The bar chart shows the one user is overwhelmingly the most active , with over 13000 ratings, while the other top 10 users have significantly fewer ratings, ranging from 3000 to 7000 ratings. This indicates a highly skewed distribution of activity among the most active users"
   ]
  },
  {
   "cell_type": "markdown",
   "id": "8f70e31f-2c6a-4792-9d57-4881bb481104",
   "metadata": {},
   "source": [
    "<span style=\"color:brown; font-weight:bold; font-size:24px;\">\n",
    "Top 10 User locations</span>"
   ]
  },
  {
   "cell_type": "code",
   "execution_count": 54,
   "id": "ce688f9c-6d3a-4c3b-82e4-eed54d79de87",
   "metadata": {},
   "outputs": [],
   "source": [
    "# Extract the country from the 'Location' column, assuming it's the last part after a comma\n",
    "df_user['Country'] = df_user['Location'].apply(lambda x: x.split(',')[-1].strip().lower() if pd.notnull(x) else 'unknown')\n",
    "\n",
    "# Display the first few entries of the 'country' column to verify the extraction\n",
    "df_user['Country'].head()\n",
    "\n",
    "# Count the occurences of each country in the 'country' column\n",
    "country_counts = df_user['Country'].value_counts()"
   ]
  },
  {
   "cell_type": "code",
   "execution_count": 56,
   "id": "7e2ba14e-2eea-402e-bf0d-17d4f5dd587f",
   "metadata": {},
   "outputs": [
    {
     "data": {
      "text/plain": [
       "<Axes: xlabel='Country'>"
      ]
     },
     "execution_count": 56,
     "metadata": {},
     "output_type": "execute_result"
    },
    {
     "data": {
      "image/png": "[encoded data removed]",
      "text/plain": [
       "<Figure size 640x480 with 1 Axes>"
      ]
     },
     "metadata": {},
     "output_type": "display_data"
    }
   ],
   "source": [
    "df_user['Country'].value_counts().head(10).plot(kind='bar')"
   ]
  },
  {
   "cell_type": "markdown",
   "id": "be3572c3-7296-4887-b37c-1b2b7f0c1567",
   "metadata": {},
   "source": [
    "<div style=\"border-radius:10px; border:#808080 solid; padding: 15px; background-color: ##F0E68C ; font-size:100%; text-align:left\">\n",
    "\n",
    "<span style=\"color:darkblue; font-weight:bold; font-size:24px;\">Insights:</span>\n",
    "\n",
    "- ##### The bar chart shows that the user base is owewhelmingly dominated by the USA with more 140000 users. Canada, the United Kingdom and Germany follow, but with significantly samller user bases. This indicates that the majority of the users are concentrated in the USA, with other countries contributing a much smaller portion of the overall user population."
   ]
  },
  {
   "cell_type": "code",
   "execution_count": 58,
   "id": "83be959f-f6fe-44f9-8527-623bd2a960be",
   "metadata": {},
   "outputs": [
    {
     "data": {
      "application/vnd.plotly.v1+json": {
       "config": {
        "plotlyServerURL": "https://plot.ly"
       },
       "data": [
        {
         "coloraxis": "coloraxis",
         "geo": "geo",
         "hovertemplate": "locations=%{location}<br>color=%{z}<extra></extra>",
         "locationmode": "country names",
         "locations": [
          "usa",
          "canada",
          "united kingdom",
          "germany",
          "spain",
          "australia",
          "italy",
          "",
          "france",
          "portugal",
          "new zealand",
          "netherlands",
          "switzerland",
          "brazil",
          "china",
          "sweden",
          "india",
          "austria",
          "malaysia",
          "argentina",
          "singapore",
          "finland",
          "mexico",
          "belgium",
          "denmark",
          "ireland",
          "philippines",
          "turkey",
          "poland",
          "pakistan",
          "greece",
          "iran",
          "chile",
          "romania",
          "israel",
          "south africa",
          "indonesia",
          "norway",
          "japan",
          "croatia",
          "nigeria",
          "south korea",
          "slovakia",
          "czech republic",
          "russia",
          "yugoslavia",
          "hong kong",
          "costa rica",
          "taiwan",
          "slovenia",
          "peru",
          "vietnam",
          "venezuela",
          "egypt",
          "bulgaria",
          "colombia",
          "spain\"",
          "luxembourg",
          "hungary",
          "thailand",
          "ghana",
          "saudi arabia",
          "portugal\"",
          "united arab emirates",
          "españa",
          "bosnia and herzegovina",
          "sri lanka",
          "denmark\"",
          "iceland",
          "sweden\"",
          "paraguay",
          "guatemala",
          "bangladesh",
          "andorra",
          "ukraine",
          "lithuania",
          "latvia",
          "bahamas",
          "bolivia",
          "jamaica",
          "panama",
          "kuwait",
          "ecuador",
          "lebanon",
          "cuba",
          "morocco",
          "la france",
          "trinidad and tobago",
          "malta",
          "france\"",
          "dominican republic",
          "albania",
          "afghanistan",
          "macedonia",
          "scotland",
          "l`italia",
          "england",
          "germany\"",
          "urugua",
          "algeria",
          "antarctica",
          "honduras",
          "cyprus",
          "deutschland",
          "kenya",
          "bermuda",
          "netherlands\"",
          "el salvador",
          "oman",
          "zimbabwe",
          "uzbekistan",
          "new zealand\"",
          "belize",
          "jordan",
          "estonia",
          "nepal",
          "puerto rico",
          "uruguay",
          "finland\"",
          "mauritius",
          "u.a.e",
          "grenada",
          "brunei",
          "qatar",
          "barbados",
          "united kingdom\"",
          "caribbean sea",
          "nicaragua",
          "switzerland\"",
          "burma",
          "wales",
          "jersey",
          "bahrain",
          "n/a",
          "iraq",
          "georgia",
          "belarus",
          "united states",
          "catalunya",
          "austria\"",
          "benin",
          "ethiopia",
          "syria",
          "kazakhstan",
          "fiji",
          "east africa",
          "india\"",
          "cayman islands",
          "guernsey",
          "euskal herria",
          "iran\"",
          "mozambique",
          "italia",
          "azerbaijan",
          "alderney",
          "cote d`ivoire",
          "\"",
          "mexico\"",
          "greece\"",
          "guyana",
          "eritrea",
          "sudan",
          "philippines\"",
          "armenia",
          "catalonia",
          "moldova",
          "antigua and barbuda",
          "brasil",
          "cameroon",
          "la argentina",
          "öð¹ú",
          "papua new guinea",
          "yemen",
          "gabon",
          "monaco",
          "botswana",
          "tunisia",
          "norway\"",
          "ireland\"",
          "uganda",
          "espaã±a",
          "galiza",
          "brazil\"",
          "cape verde",
          "laos",
          "turkey\"",
          "cambodia",
          "dominica",
          "burkina faso",
          "netherlands antilles",
          "niger",
          "malaysia\"",
          "uk",
          "romania\"",
          "tanzania",
          "bangladesh\"",
          "togo",
          "rwanda",
          "nigeria\"",
          "croatia\"",
          "angola",
          "senegal",
          "italy\"",
          "chile\"",
          "saint lucia",
          "poland\"",
          "argentina\"",
          "slovenia\"",
          "espaã?â±a",
          "zambia",
          "samoa",
          "lombardia",
          "lesotho",
          "kyrgyzstan",
          "maricopa",
          "suisse",
          "north korea",
          "belgium\"",
          "saint vincent and the grenadines",
          "suriname",
          "aruba",
          "congo",
          "korea",
          "basque country",
          "mongolia",
          "us",
          "trinidad",
          "lazio",
          "israel\"",
          "bhutan",
          "egypt\"",
          "libya",
          "belgique",
          "the",
          "singapore\"",
          "europe",
          "tajikistan",
          "vanuatu",
          "namibia",
          "czech republic\"",
          "quit",
          "kosovo",
          "serbia",
          "san marino",
          "slovakia\"",
          "indonesia\"",
          "maldives",
          "colombia\"",
          "holy see",
          "macau",
          "iceland\"",
          "swaziland",
          "haiti",
          "united states of america",
          "le canada",
          "la belgique",
          "c",
          "saint kitts and nevis",
          "holland",
          "solomon islands",
          "guinea",
          "nrw",
          "turkmenistan",
          "sri lanka\"",
          "the netherlands",
          "vietnam\"",
          "american samoa",
          "liberia",
          "hungary\"",
          "ä¸­å?½",
          "deutschland\"",
          "méxico",
          "marshall islands",
          "america",
          "djibouti",
          "sardegna",
          "chad",
          "china\"",
          "trinidad and tobago\"",
          "universe",
          "guam",
          "andorra\"",
          "malawi",
          "tonga",
          "luxembourg\"",
          "uganda\"",
          "srilanka",
          "serbia and montenegro",
          "channel islands",
          "cape verde\"",
          "hong kong\"",
          "mali",
          "space",
          "british virgin islands",
          "sierra leone",
          "u.s. virgin islands",
          "guinea-bissau",
          "polk",
          "palau",
          "st. vincent and the grenadines",
          "micronesia",
          "mã?â©xico",
          "costa rica\"",
          "smith",
          "neverland",
          "pueblo",
          "rsa",
          "northern ireland",
          "west yorkshire",
          "republic of panama",
          "phila",
          "türkiye",
          "il canada",
          "palestine",
          "maracopa",
          "espanha / galiza",
          "xxxxxx",
          "p.r.c",
          "vicenza",
          "la chine eternelle!",
          "pippo",
          "united stated",
          "california",
          "c.a.",
          "burlington",
          "wonderful usa",
          "yanhill",
          "uae",
          "nh",
          "lj",
          "london",
          "l",
          "canada eh",
          "euskadi",
          "cadd0",
          "exactly where i am",
          "bosnia",
          "phillipines",
          "ussurfing",
          "h.u.g.",
          "s.corea",
          "livingston",
          "somewherein space",
          "der",
          "spotsylvania",
          "uyo",
          "clackamas",
          "pender",
          "united state",
          "vorce",
          "unite states",
          "fred",
          "usa\"",
          "malaysian",
          "p.r. china",
          "shelby",
          "europa",
          "newzealand",
          "ventura",
          "csa",
          "moçambique",
          "u k",
          "lecce",
          "oakland",
          "u",
          "sardinia",
          "jamaica\"",
          "phippines",
          "prc",
          "canda",
          "burma\"",
          "copenhagen",
          "23232",
          "harvatija",
          "usa (currently living in england)",
          "roma",
          "indiai",
          "onondaga nation",
          "solano",
          "madagascar",
          "austbritania",
          "pakistan\"",
          "cananda",
          "queensland",
          "hungary and usa",
          "united kindgdom",
          "mauritius\"",
          "_ brasil",
          "ukrain",
          "cook",
          "calabria",
          "libya\"",
          "u.a.e\"",
          "australii",
          "kiribati",
          "fontana",
          "u.",
          "z",
          "l`algérie",
          "mordor",
          "uusa",
          "johnson",
          "rep san marino",
          "united sates",
          "fulton",
          "geermany",
          "fort bend",
          "st.thomasi",
          "w. malaysia",
          "bih",
          "liushi",
          "mozambique\"",
          "tyrtyrt",
          "\\\"n/a\\\"\"",
          "españa\"",
          "yakima",
          "the gambia",
          "cape may",
          "disgruntled states of america",
          "tanzania\"",
          "kern",
          "ahrensburg",
          "thing",
          "we`re global!",
          "fairyland",
          "autralia",
          "le madagascar",
          "no more",
          "butler",
          "asturies",
          "hernando",
          "la svizzera",
          "bkk",
          "victoria",
          "r.o.c.",
          "rep. san marino",
          "yunling",
          "germay",
          "&#20013;&#22269;",
          "nl",
          "united staes",
          "dauphin",
          "galiza neghra",
          "chinaöð¹ú",
          "x",
          "lane",
          "people`s republic of china",
          "home of the van!!",
          "01776",
          "citrus.",
          "p r china",
          "everywhere and anywhere",
          "allen",
          "st. clair",
          "swazilandia",
          "in",
          "los estados unidos de norte america",
          "north carolina",
          "philippinies",
          "palm beach",
          "distrito federal",
          "europe.",
          "sao tome and principe",
          "s.africa",
          "bavaria",
          "pistlavakia",
          "fortaleza",
          "courtenay",
          "slovak republik",
          "houston",
          "trinidad/tobago.",
          "santa barbara",
          "bucks",
          "buncombe",
          "30064",
          "maine",
          "phils",
          "u.k.",
          "russian federation",
          "mauritania",
          "toscana",
          "san mateo",
          "madrid",
          "nz",
          "whatcom",
          "venezuela\"",
          "ohio",
          "vatican city",
          "tobago",
          "85021",
          "saint luica",
          "davidson",
          "a",
          "lee",
          "unknown",
          "\\n/a\\\"\"",
          "baden-württemberg",
          "texas",
          "orange co",
          "lithuania\"",
          "xinyu",
          "morocco\"",
          "hidalgo",
          "comoros",
          "new london",
          "unit",
          "petrolwar nation",
          "itlay",
          "cape town",
          "nederlands",
          "tdzimi",
          "brunei darussalam",
          "frome",
          "peru\"",
          "la chine éternelle !",
          "saint vincent and the grenadines\"",
          "lleida",
          "az",
          "u.s.a.",
          "collin",
          "washtenaw",
          "deutsches reich",
          "here and there",
          "ee.uu",
          "united kindgonm",
          "nyc",
          "san bernardino",
          "ouranos",
          "hornyonic",
          "monroe",
          "st. helena",
          "sultanate of oman",
          "aroostook",
          "fredonia - land of the brave and free",
          "osceola",
          "pakistan.",
          "-------",
          "trinidad & tobago",
          "ghana\"",
          "turkei",
          "heaven",
          "hongkong",
          "rmi",
          "wood",
          "worcester",
          "gb",
          "la suisse",
          "ksa",
          "bademn würtemberg",
          "prince william",
          "sri lanka\\\"n/a\\\"\"",
          "valtesse",
          "fifi",
          "la chine éternelle!",
          "catalunya(catalonia)",
          "framingham",
          "zhengjiang",
          "somalia",
          "milano",
          "thailand\"",
          "cnina",
          "ust",
          "ama lurra",
          "commonwealth of northern mariana islands",
          "marrion",
          "hamilton",
          "lkjlj",
          "slo",
          "bernalillo",
          "morgan",
          "saint loius",
          "ferrara",
          "effingham",
          "pasco",
          "lake",
          "catalunya spain",
          "?ú?{",
          "auckland",
          "philippine",
          "*",
          "windham",
          "hampden",
          "cn",
          "baltimore",
          "jackson",
          "côte d",
          "baxter",
          "republic of korea",
          "cote d`ivoire\"",
          "evil empire",
          "richmond country",
          "hennipen",
          "equatorial geuinea",
          "nyhamnsläge",
          "rice",
          "good old usa !",
          "algérie",
          "polska",
          "ua",
          "n/a - on the road",
          "missouri",
          "goteborg",
          "dekalb",
          "bbbzzzzz",
          "cass",
          "cherokee",
          "van wert",
          "87510",
          "monterrey",
          "camden",
          "ventura county",
          "clinton",
          "italien",
          "china people`s republic",
          "united statea",
          "liaoning",
          "bfe",
          "strongbadia",
          "chian",
          "dfg",
          ".",
          "belgi",
          "australia\"",
          "country",
          "bell",
          "pa",
          "rutherford",
          "orense",
          "k1c7b1",
          "id",
          "guatemala\"",
          "sudan\"",
          "berguedà",
          "basilicata",
          "diy",
          "ysa",
          "england uk",
          "granville",
          "rosello",
          "the great white north",
          "united stated of america",
          "good old u.s.a.",
          "faroe islands",
          "kz",
          "henry",
          "adsgfdr",
          "burkinafasu",
          "aotearoa",
          "in your heart",
          "u.s.a>",
          "perãº",
          "the world tomorrow",
          "rosario",
          "thailoand",
          "bladen",
          "input error",
          "lawrenceville",
          "pinallas",
          "the philippines",
          "serbia & montenegro",
          "rapides",
          "singapore/united kingdom",
          "english",
          "doodedoo",
          "sicilia",
          "can",
          "aaa",
          "&#32654;&#22269;",
          "-",
          "sao tome and principe\"",
          "essex",
          "myanmar",
          "travelling",
          "carter",
          "usa & canada",
          "u.s. of a.",
          "p.r.china",
          "none",
          "pr",
          "dublin",
          "saudia arabia",
          "afganstand holla !!",
          "lornsenland",
          "nowhere",
          "scotland\"",
          "alachua",
          "macedonia\"",
          "maroc",
          "far away...",
          "south korea\"",
          "isreal",
          "5057chadwick ct.",
          "02458",
          "u.s.a!",
          "u.s>",
          "san franicsco",
          "isle of man",
          "greece (=hellas)",
          "my",
          "hillsborough",
          "antigua & barbuda",
          "mérida",
          "fernando de la mora",
          "queenspark",
          "19104",
          "minnehaha",
          "de",
          "china öð¹ú",
          "united kingdom."
         ],
         "name": "",
         "type": "choropleth",
         "z": [
          11.847338439909615,
          9.983176351437496,
          9.827631900232593,
          9.743553514619803,
          9.48402493478411,
          9.374582815370232,
          9.329633378164166,
          8.429235912657095,
          8.147867129923947,
          8.109525659752872,
          8.038512020976814,
          8.014996894348302,
          7.465082736399547,
          7.423568444259167,
          7.305860032684009,
          7.249215057114389,
          7.1631723908466425,
          7.036148493750536,
          7.02108396428914,
          6.988413181999592,
          6.8308742346461795,
          6.828712071641684,
          6.734591659972948,
          6.709304340258298,
          6.692083742506628,
          6.625392368007956,
          6.612041034833092,
          6.19644412779452,
          6.12029741895095,
          6.093569770045136,
          6.045005314036012,
          5.983936280687191,
          5.8805329864007,
          5.8805329864007,
          5.846438775057725,
          5.802118375377063,
          5.723585101952381,
          5.66988092298052,
          5.60947179518496,
          5.5093883366279774,
          5.438079308923196,
          5.41610040220442,
          5.3706380281276624,
          5.298317366548036,
          5.187385805840755,
          5.187385805840755,
          5.14166355650266,
          5.117993812416755,
          5.117993812416755,
          4.962844630259907,
          4.948759890378168,
          4.941642422609304,
          4.941642422609304,
          4.941642422609304,
          4.897839799950911,
          4.890349128221754,
          4.718498871295094,
          4.653960350157523,
          4.584967478670572,
          4.465908118654584,
          4.382026634673881,
          4.189654742026425,
          4.189654742026425,
          4.1588830833596715,
          4.1588830833596715,
          4.0943445622221,
          4.02535169073515,
          3.970291913552122,
          3.970291913552122,
          3.9318256327243257,
          3.8501476017100584,
          3.828641396489095,
          3.8066624897703196,
          3.7612001156935624,
          3.7612001156935624,
          3.7376696182833684,
          3.713572066704308,
          3.713572066704308,
          3.6888794541139363,
          3.6375861597263857,
          3.6375861597263857,
          3.6375861597263857,
          3.6375861597263857,
          3.6109179126442243,
          3.6109179126442243,
          3.5553480614894135,
          3.5553480614894135,
          3.5263605246161616,
          3.5263605246161616,
          3.4965075614664802,
          3.4657359027997265,
          3.4657359027997265,
          3.4657359027997265,
          3.4657359027997265,
          3.4657359027997265,
          3.4339872044851463,
          3.4339872044851463,
          3.4339872044851463,
          3.4011973816621555,
          3.4011973816621555,
          3.332204510175204,
          3.332204510175204,
          3.332204510175204,
          3.332204510175204,
          3.332204510175204,
          3.295836866004329,
          3.295836866004329,
          3.295836866004329,
          3.258096538021482,
          3.2188758248682006,
          3.2188758248682006,
          3.1780538303479458,
          3.1780538303479458,
          3.1354942159291497,
          3.1354942159291497,
          3.091042453358316,
          3.091042453358316,
          3.044522437723423,
          3.044522437723423,
          3.044522437723423,
          2.995732273553991,
          2.995732273553991,
          2.995732273553991,
          2.995732273553991,
          2.9444389791664403,
          2.9444389791664403,
          2.8903717578961645,
          2.8903717578961645,
          2.8903717578961645,
          2.8903717578961645,
          2.8903717578961645,
          2.833213344056216,
          2.833213344056216,
          2.833213344056216,
          2.833213344056216,
          2.70805020110221,
          2.70805020110221,
          2.6390573296152584,
          2.6390573296152584,
          2.6390573296152584,
          2.6390573296152584,
          2.5649493574615367,
          2.5649493574615367,
          2.5649493574615367,
          2.5649493574615367,
          2.5649493574615367,
          2.5649493574615367,
          2.4849066497880004,
          2.4849066497880004,
          2.4849066497880004,
          2.4849066497880004,
          2.4849066497880004,
          2.4849066497880004,
          2.3978952727983707,
          2.3978952727983707,
          2.3978952727983707,
          2.3978952727983707,
          2.3978952727983707,
          2.3978952727983707,
          2.3978952727983707,
          2.3978952727983707,
          2.3978952727983707,
          2.302585092994046,
          2.302585092994046,
          2.302585092994046,
          2.302585092994046,
          2.302585092994046,
          2.1972245773362196,
          2.1972245773362196,
          2.1972245773362196,
          2.1972245773362196,
          2.1972245773362196,
          2.1972245773362196,
          2.1972245773362196,
          2.1972245773362196,
          2.1972245773362196,
          2.1972245773362196,
          2.1972245773362196,
          2.0794415416798357,
          2.0794415416798357,
          2.0794415416798357,
          2.0794415416798357,
          2.0794415416798357,
          2.0794415416798357,
          2.0794415416798357,
          2.0794415416798357,
          2.0794415416798357,
          2.0794415416798357,
          1.9459101490553132,
          1.9459101490553132,
          1.9459101490553132,
          1.9459101490553132,
          1.9459101490553132,
          1.9459101490553132,
          1.9459101490553132,
          1.9459101490553132,
          1.9459101490553132,
          1.9459101490553132,
          1.791759469228055,
          1.791759469228055,
          1.791759469228055,
          1.791759469228055,
          1.791759469228055,
          1.791759469228055,
          1.791759469228055,
          1.791759469228055,
          1.791759469228055,
          1.791759469228055,
          1.791759469228055,
          1.791759469228055,
          1.791759469228055,
          1.6094379124341003,
          1.6094379124341003,
          1.6094379124341003,
          1.6094379124341003,
          1.6094379124341003,
          1.6094379124341003,
          1.6094379124341003,
          1.6094379124341003,
          1.6094379124341003,
          1.6094379124341003,
          1.6094379124341003,
          1.6094379124341003,
          1.6094379124341003,
          1.6094379124341003,
          1.6094379124341003,
          1.6094379124341003,
          1.3862943611198906,
          1.3862943611198906,
          1.3862943611198906,
          1.3862943611198906,
          1.3862943611198906,
          1.3862943611198906,
          1.3862943611198906,
          1.3862943611198906,
          1.3862943611198906,
          1.3862943611198906,
          1.3862943611198906,
          1.3862943611198906,
          1.3862943611198906,
          1.3862943611198906,
          1.3862943611198906,
          1.3862943611198906,
          1.3862943611198906,
          1.3862943611198906,
          1.3862943611198906,
          1.3862943611198906,
          1.3862943611198906,
          1.3862943611198906,
          1.3862943611198906,
          1.3862943611198906,
          1.0986122886681098,
          1.0986122886681098,
          1.0986122886681098,
          1.0986122886681098,
          1.0986122886681098,
          1.0986122886681098,
          1.0986122886681098,
          1.0986122886681098,
          1.0986122886681098,
          1.0986122886681098,
          1.0986122886681098,
          1.0986122886681098,
          1.0986122886681098,
          1.0986122886681098,
          1.0986122886681098,
          1.0986122886681098,
          1.0986122886681098,
          1.0986122886681098,
          1.0986122886681098,
          1.0986122886681098,
          1.0986122886681098,
          1.0986122886681098,
          1.0986122886681098,
          1.0986122886681098,
          1.0986122886681098,
          1.0986122886681098,
          1.0986122886681098,
          1.0986122886681098,
          1.0986122886681098,
          1.0986122886681098,
          1.0986122886681098,
          1.0986122886681098,
          1.0986122886681098,
          1.0986122886681098,
          1.0986122886681098,
          1.0986122886681098,
          1.0986122886681098,
          1.0986122886681098,
          1.0986122886681098,
          1.0986122886681098,
          1.0986122886681098,
          1.0986122886681098,
          1.0986122886681098,
          1.0986122886681098,
          1.0986122886681098,
          1.0986122886681098,
          1.0986122886681098,
          1.0986122886681098,
          1.0986122886681098,
          1.0986122886681098,
          1.0986122886681098,
          1.0986122886681098,
          0.6931471805599453,
          0.6931471805599453,
          0.6931471805599453,
          0.6931471805599453,
          0.6931471805599453,
          0.6931471805599453,
          0.6931471805599453,
          0.6931471805599453,
          0.6931471805599453,
          0.6931471805599453,
          0.6931471805599453,
          0.6931471805599453,
          0.6931471805599453,
          0.6931471805599453,
          0.6931471805599453,
          0.6931471805599453,
          0.6931471805599453,
          0.6931471805599453,
          0.6931471805599453,
          0.6931471805599453,
          0.6931471805599453,
          0.6931471805599453,
          0.6931471805599453,
          0.6931471805599453,
          0.6931471805599453,
          0.6931471805599453,
          0.6931471805599453,
          0.6931471805599453,
          0.6931471805599453,
          0.6931471805599453,
          0.6931471805599453,
          0.6931471805599453,
          0.6931471805599453,
          0.6931471805599453,
          0.6931471805599453,
          0.6931471805599453,
          0.6931471805599453,
          0.6931471805599453,
          0.6931471805599453,
          0.6931471805599453,
          0.6931471805599453,
          0.6931471805599453,
          0.6931471805599453,
          0.6931471805599453,
          0.6931471805599453,
          0.6931471805599453,
          0.6931471805599453,
          0.6931471805599453,
          0.6931471805599453,
          0.6931471805599453,
          0.6931471805599453,
          0.6931471805599453,
          0.6931471805599453,
          0.6931471805599453,
          0.6931471805599453,
          0.6931471805599453,
          0.6931471805599453,
          0.6931471805599453,
          0.6931471805599453,
          0.6931471805599453,
          0.6931471805599453,
          0.6931471805599453,
          0.6931471805599453,
          0.6931471805599453,
          0.6931471805599453,
          0.6931471805599453,
          0.6931471805599453,
          0.6931471805599453,
          0.6931471805599453,
          0.6931471805599453,
          0.6931471805599453,
          0.6931471805599453,
          0.6931471805599453,
          0.6931471805599453,
          0.6931471805599453,
          0.6931471805599453,
          0.6931471805599453,
          0.6931471805599453,
          0.6931471805599453,
          0.6931471805599453,
          0.6931471805599453,
          0.6931471805599453,
          0.6931471805599453,
          0.6931471805599453,
          0.6931471805599453,
          0.6931471805599453,
          0.6931471805599453,
          0.6931471805599453,
          0.6931471805599453,
          0.6931471805599453,
          0.6931471805599453,
          0.6931471805599453,
          0.6931471805599453,
          0.6931471805599453,
          0.6931471805599453,
          0.6931471805599453,
          0.6931471805599453,
          0.6931471805599453,
          0.6931471805599453,
          0.6931471805599453,
          0.6931471805599453,
          0.6931471805599453,
          0.6931471805599453,
          0.6931471805599453,
          0.6931471805599453,
          0.6931471805599453,
          0.6931471805599453,
          0.6931471805599453,
          0.6931471805599453,
          0.6931471805599453,
          0.6931471805599453,
          0.6931471805599453,
          0.6931471805599453,
          0.6931471805599453,
          0.6931471805599453,
          0.6931471805599453,
          0.6931471805599453,
          0.6931471805599453,
          0.6931471805599453,
          0.6931471805599453,
          0.6931471805599453,
          0.6931471805599453,
          0.6931471805599453,
          0.6931471805599453,
          0.6931471805599453,
          0.6931471805599453,
          0.6931471805599453,
          0.6931471805599453,
          0.6931471805599453,
          0.6931471805599453,
          0.6931471805599453,
          0.6931471805599453,
          0.6931471805599453,
          0.6931471805599453,
          0.6931471805599453,
          0.6931471805599453,
          0.6931471805599453,
          0.6931471805599453,
          0.6931471805599453,
          0.6931471805599453,
          0.6931471805599453,
          0.6931471805599453,
          0.6931471805599453,
          0.6931471805599453,
          0.6931471805599453,
          0.6931471805599453,
          0.6931471805599453,
          0.6931471805599453,
          0.6931471805599453,
          0.6931471805599453,
          0.6931471805599453,
          0.6931471805599453,
          0.6931471805599453,
          0.6931471805599453,
          0.6931471805599453,
          0.6931471805599453,
          0.6931471805599453,
          0.6931471805599453,
          0.6931471805599453,
          0.6931471805599453,
          0.6931471805599453,
          0.6931471805599453,
          0.6931471805599453,
          0.6931471805599453,
          0.6931471805599453,
          0.6931471805599453,
          0.6931471805599453,
          0.6931471805599453,
          0.6931471805599453,
          0.6931471805599453,
          0.6931471805599453,
          0.6931471805599453,
          0.6931471805599453,
          0.6931471805599453,
          0.6931471805599453,
          0.6931471805599453,
          0.6931471805599453,
          0.6931471805599453,
          0.6931471805599453,
          0.6931471805599453,
          0.6931471805599453,
          0.6931471805599453,
          0.6931471805599453,
          0.6931471805599453,
          0.6931471805599453,
          0.6931471805599453,
          0.6931471805599453,
          0.6931471805599453,
          0.6931471805599453,
          0.6931471805599453,
          0.6931471805599453,
          0.6931471805599453,
          0.6931471805599453,
          0.6931471805599453,
          0.6931471805599453,
          0.6931471805599453,
          0.6931471805599453,
          0.6931471805599453,
          0.6931471805599453,
          0.6931471805599453,
          0.6931471805599453,
          0.6931471805599453,
          0.6931471805599453,
          0.6931471805599453,
          0.6931471805599453,
          0.6931471805599453,
          0.6931471805599453,
          0.6931471805599453,
          0.6931471805599453,
          0.6931471805599453,
          0.6931471805599453,
          0.6931471805599453,
          0.6931471805599453,
          0.6931471805599453,
          0.6931471805599453,
          0.6931471805599453,
          0.6931471805599453,
          0.6931471805599453,
          0.6931471805599453,
          0.6931471805599453,
          0.6931471805599453,
          0.6931471805599453,
          0.6931471805599453,
          0.6931471805599453,
          0.6931471805599453,
          0.6931471805599453,
          0.6931471805599453,
          0.6931471805599453,
          0.6931471805599453,
          0.6931471805599453,
          0.6931471805599453,
          0.6931471805599453,
          0.6931471805599453,
          0.6931471805599453,
          0.6931471805599453,
          0.6931471805599453,
          0.6931471805599453,
          0.6931471805599453,
          0.6931471805599453,
          0.6931471805599453,
          0.6931471805599453,
          0.6931471805599453,
          0.6931471805599453,
          0.6931471805599453,
          0.6931471805599453,
          0.6931471805599453,
          0.6931471805599453,
          0.6931471805599453,
          0.6931471805599453,
          0.6931471805599453,
          0.6931471805599453,
          0.6931471805599453,
          0.6931471805599453,
          0.6931471805599453,
          0.6931471805599453,
          0.6931471805599453,
          0.6931471805599453,
          0.6931471805599453,
          0.6931471805599453,
          0.6931471805599453,
          0.6931471805599453,
          0.6931471805599453,
          0.6931471805599453,
          0.6931471805599453,
          0.6931471805599453,
          0.6931471805599453,
          0.6931471805599453,
          0.6931471805599453,
          0.6931471805599453,
          0.6931471805599453,
          0.6931471805599453,
          0.6931471805599453,
          0.6931471805599453,
          0.6931471805599453,
          0.6931471805599453,
          0.6931471805599453,
          0.6931471805599453,
          0.6931471805599453,
          0.6931471805599453,
          0.6931471805599453,
          0.6931471805599453,
          0.6931471805599453,
          0.6931471805599453,
          0.6931471805599453,
          0.6931471805599453,
          0.6931471805599453,
          0.6931471805599453,
          0.6931471805599453,
          0.6931471805599453,
          0.6931471805599453,
          0.6931471805599453,
          0.6931471805599453,
          0.6931471805599453,
          0.6931471805599453,
          0.6931471805599453,
          0.6931471805599453,
          0.6931471805599453,
          0.6931471805599453,
          0.6931471805599453,
          0.6931471805599453,
          0.6931471805599453,
          0.6931471805599453,
          0.6931471805599453,
          0.6931471805599453,
          0.6931471805599453,
          0.6931471805599453,
          0.6931471805599453,
          0.6931471805599453,
          0.6931471805599453,
          0.6931471805599453,
          0.6931471805599453,
          0.6931471805599453,
          0.6931471805599453,
          0.6931471805599453,
          0.6931471805599453,
          0.6931471805599453,
          0.6931471805599453,
          0.6931471805599453,
          0.6931471805599453,
          0.6931471805599453,
          0.6931471805599453,
          0.6931471805599453,
          0.6931471805599453,
          0.6931471805599453,
          0.6931471805599453,
          0.6931471805599453,
          0.6931471805599453,
          0.6931471805599453,
          0.6931471805599453,
          0.6931471805599453,
          0.6931471805599453,
          0.6931471805599453,
          0.6931471805599453,
          0.6931471805599453,
          0.6931471805599453,
          0.6931471805599453,
          0.6931471805599453,
          0.6931471805599453,
          0.6931471805599453,
          0.6931471805599453,
          0.6931471805599453,
          0.6931471805599453,
          0.6931471805599453,
          0.6931471805599453,
          0.6931471805599453,
          0.6931471805599453,
          0.6931471805599453,
          0.6931471805599453,
          0.6931471805599453,
          0.6931471805599453,
          0.6931471805599453,
          0.6931471805599453,
          0.6931471805599453,
          0.6931471805599453,
          0.6931471805599453,
          0.6931471805599453,
          0.6931471805599453,
          0.6931471805599453,
          0.6931471805599453,
          0.6931471805599453,
          0.6931471805599453,
          0.6931471805599453,
          0.6931471805599453,
          0.6931471805599453,
          0.6931471805599453,
          0.6931471805599453,
          0.6931471805599453,
          0.6931471805599453,
          0.6931471805599453,
          0.6931471805599453,
          0.6931471805599453,
          0.6931471805599453,
          0.6931471805599453,
          0.6931471805599453,
          0.6931471805599453,
          0.6931471805599453,
          0.6931471805599453,
          0.6931471805599453,
          0.6931471805599453,
          0.6931471805599453,
          0.6931471805599453,
          0.6931471805599453,
          0.6931471805599453,
          0.6931471805599453,
          0.6931471805599453,
          0.6931471805599453,
          0.6931471805599453,
          0.6931471805599453,
          0.6931471805599453,
          0.6931471805599453,
          0.6931471805599453,
          0.6931471805599453,
          0.6931471805599453,
          0.6931471805599453,
          0.6931471805599453,
          0.6931471805599453,
          0.6931471805599453,
          0.6931471805599453,
          0.6931471805599453,
          0.6931471805599453,
          0.6931471805599453,
          0.6931471805599453,
          0.6931471805599453,
          0.6931471805599453,
          0.6931471805599453,
          0.6931471805599453
         ]
        }
       ],
       "layout": {
        "autosize": true,
        "coloraxis": {
         "cmax": 11.847338439909615,
         "cmin": 0.6931471805599453,
         "colorbar": {
          "title": {
           "text": "color"
          }
         },
         "colorscale": [
          [
           0,
           "#0d0887"
          ],
          [
           0.1111111111111111,
           "#46039f"
          ],
          [
           0.2222222222222222,
           "#7201a8"
          ],
          [
           0.3333333333333333,
           "#9c179e"
          ],
          [
           0.4444444444444444,
           "#bd3786"
          ],
          [
           0.5555555555555556,
           "#d8576b"
          ],
          [
           0.6666666666666666,
           "#ed7953"
          ],
          [
           0.7777777777777778,
           "#fb9f3a"
          ],
          [
           0.8888888888888888,
           "#fdca26"
          ],
          [
           1,
           "#f0f921"
          ]
         ]
        },
        "font": {
         "family": "Franklin Gothic",
         "size": 17
        },
        "geo": {
         "center": {},
         "domain": {
          "x": [
           0,
           1
          ],
          "y": [
           0,
           1
          ]
         },
         "projection": {
          "type": "equirectangular"
         },
         "showcoastlines": true,
         "showframe": false
        },
        "legend": {
         "tracegroupgap": 0
        },
        "template": {
         "data": {
          "bar": [
           {
            "error_x": {
             "color": "#2a3f5f"
            },
            "error_y": {
             "color": "#2a3f5f"
            },
            "marker": {
             "line": {
              "color": "white",
              "width": 0.5
             },
             "pattern": {
              "fillmode": "overlay",
              "size": 10,
              "solidity": 0.2
             }
            },
            "type": "bar"
           }
          ],
          "barpolar": [
           {
            "marker": {
             "line": {
              "color": "white",
              "width": 0.5
             },
             "pattern": {
              "fillmode": "overlay",
              "size": 10,
              "solidity": 0.2
             }
            },
            "type": "barpolar"
           }
          ],
          "carpet": [
           {
            "aaxis": {
             "endlinecolor": "#2a3f5f",
             "gridcolor": "#C8D4E3",
             "linecolor": "#C8D4E3",
             "minorgridcolor": "#C8D4E3",
             "startlinecolor": "#2a3f5f"
            },
            "baxis": {
             "endlinecolor": "#2a3f5f",
             "gridcolor": "#C8D4E3",
             "linecolor": "#C8D4E3",
             "minorgridcolor": "#C8D4E3",
             "startlinecolor": "#2a3f5f"
            },
            "type": "carpet"
           }
          ],
          "choropleth": [
           {
            "colorbar": {
             "outlinewidth": 0,
             "ticks": ""
            },
            "type": "choropleth"
           }
          ],
          "contour": [
           {
            "colorbar": {
             "outlinewidth": 0,
             "ticks": ""
            },
            "colorscale": [
             [
              0,
              "#0d0887"
             ],
             [
              0.1111111111111111,
              "#46039f"
             ],
             [
              0.2222222222222222,
              "#7201a8"
             ],
             [
              0.3333333333333333,
              "#9c179e"
             ],
             [
              0.4444444444444444,
              "#bd3786"
             ],
             [
              0.5555555555555556,
              "#d8576b"
             ],
             [
              0.6666666666666666,
              "#ed7953"
             ],
             [
              0.7777777777777778,
              "#fb9f3a"
             ],
             [
              0.8888888888888888,
              "#fdca26"
             ],
             [
              1,
              "#f0f921"
             ]
            ],
            "type": "contour"
           }
          ],
          "contourcarpet": [
           {
            "colorbar": {
             "outlinewidth": 0,
             "ticks": ""
            },
            "type": "contourcarpet"
           }
          ],
          "heatmap": [
           {
            "colorbar": {
             "outlinewidth": 0,
             "ticks": ""
            },
            "colorscale": [
             [
              0,
              "#0d0887"
             ],
             [
              0.1111111111111111,
              "#46039f"
             ],
             [
              0.2222222222222222,
              "#7201a8"
             ],
             [
              0.3333333333333333,
              "#9c179e"
             ],
             [
              0.4444444444444444,
              "#bd3786"
             ],
             [
              0.5555555555555556,
              "#d8576b"
             ],
             [
              0.6666666666666666,
              "#ed7953"
             ],
             [
              0.7777777777777778,
              "#fb9f3a"
             ],
             [
              0.8888888888888888,
              "#fdca26"
             ],
             [
              1,
              "#f0f921"
             ]
            ],
            "type": "heatmap"
           }
          ],
          "heatmapgl": [
           {
            "colorbar": {
             "outlinewidth": 0,
             "ticks": ""
            },
            "colorscale": [
             [
              0,
              "#0d0887"
             ],
             [
              0.1111111111111111,
              "#46039f"
             ],
             [
              0.2222222222222222,
              "#7201a8"
             ],
             [
              0.3333333333333333,
              "#9c179e"
             ],
             [
              0.4444444444444444,
              "#bd3786"
             ],
             [
              0.5555555555555556,
              "#d8576b"
             ],
             [
              0.6666666666666666,
              "#ed7953"
             ],
             [
              0.7777777777777778,
              "#fb9f3a"
             ],
             [
              0.8888888888888888,
              "#fdca26"
             ],
             [
              1,
              "#f0f921"
             ]
            ],
            "type": "heatmapgl"
           }
          ],
          "histogram": [
           {
            "marker": {
             "pattern": {
              "fillmode": "overlay",
              "size": 10,
              "solidity": 0.2
             }
            },
            "type": "histogram"
           }
          ],
          "histogram2d": [
           {
            "colorbar": {
             "outlinewidth": 0,
             "ticks": ""
            },
            "colorscale": [
             [
              0,
              "#0d0887"
             ],
             [
              0.1111111111111111,
              "#46039f"
             ],
             [
              0.2222222222222222,
              "#7201a8"
             ],
             [
              0.3333333333333333,
              "#9c179e"
             ],
             [
              0.4444444444444444,
              "#bd3786"
             ],
             [
              0.5555555555555556,
              "#d8576b"
             ],
             [
              0.6666666666666666,
              "#ed7953"
             ],
             [
              0.7777777777777778,
              "#fb9f3a"
             ],
             [
              0.8888888888888888,
              "#fdca26"
             ],
             [
              1,
              "#f0f921"
             ]
            ],
            "type": "histogram2d"
           }
          ],
          "histogram2dcontour": [
           {
            "colorbar": {
             "outlinewidth": 0,
             "ticks": ""
            },
            "colorscale": [
             [
              0,
              "#0d0887"
             ],
             [
              0.1111111111111111,
              "#46039f"
             ],
             [
              0.2222222222222222,
              "#7201a8"
             ],
             [
              0.3333333333333333,
              "#9c179e"
             ],
             [
              0.4444444444444444,
              "#bd3786"
             ],
             [
              0.5555555555555556,
              "#d8576b"
             ],
             [
              0.6666666666666666,
              "#ed7953"
             ],
             [
              0.7777777777777778,
              "#fb9f3a"
             ],
             [
              0.8888888888888888,
              "#fdca26"
             ],
             [
              1,
              "#f0f921"
             ]
            ],
            "type": "histogram2dcontour"
           }
          ],
          "mesh3d": [
           {
            "colorbar": {
             "outlinewidth": 0,
             "ticks": ""
            },
            "type": "mesh3d"
           }
          ],
          "parcoords": [
           {
            "line": {
             "colorbar": {
              "outlinewidth": 0,
              "ticks": ""
             }
            },
            "type": "parcoords"
           }
          ],
          "pie": [
           {
            "automargin": true,
            "type": "pie"
           }
          ],
          "scatter": [
           {
            "fillpattern": {
             "fillmode": "overlay",
             "size": 10,
             "solidity": 0.2
            },
            "type": "scatter"
           }
          ],
          "scatter3d": [
           {
            "line": {
             "colorbar": {
              "outlinewidth": 0,
              "ticks": ""
             }
            },
            "marker": {
             "colorbar": {
              "outlinewidth": 0,
              "ticks": ""
             }
            },
            "type": "scatter3d"
           }
          ],
          "scattercarpet": [
           {
            "marker": {
             "colorbar": {
              "outlinewidth": 0,
              "ticks": ""
             }
            },
            "type": "scattercarpet"
           }
          ],
          "scattergeo": [
           {
            "marker": {
             "colorbar": {
              "outlinewidth": 0,
              "ticks": ""
             }
            },
            "type": "scattergeo"
           }
          ],
          "scattergl": [
           {
            "marker": {
             "colorbar": {
              "outlinewidth": 0,
              "ticks": ""
             }
            },
            "type": "scattergl"
           }
          ],
          "scattermapbox": [
           {
            "marker": {
             "colorbar": {
              "outlinewidth": 0,
              "ticks": ""
             }
            },
            "type": "scattermapbox"
           }
          ],
          "scatterpolar": [
           {
            "marker": {
             "colorbar": {
              "outlinewidth": 0,
              "ticks": ""
             }
            },
            "type": "scatterpolar"
           }
          ],
          "scatterpolargl": [
           {
            "marker": {
             "colorbar": {
              "outlinewidth": 0,
              "ticks": ""
             }
            },
            "type": "scatterpolargl"
           }
          ],
          "scatterternary": [
           {
            "marker": {
             "colorbar": {
              "outlinewidth": 0,
              "ticks": ""
             }
            },
            "type": "scatterternary"
           }
          ],
          "surface": [
           {
            "colorbar": {
             "outlinewidth": 0,
             "ticks": ""
            },
            "colorscale": [
             [
              0,
              "#0d0887"
             ],
             [
              0.1111111111111111,
              "#46039f"
             ],
             [
              0.2222222222222222,
              "#7201a8"
             ],
             [
              0.3333333333333333,
              "#9c179e"
             ],
             [
              0.4444444444444444,
              "#bd3786"
             ],
             [
              0.5555555555555556,
              "#d8576b"
             ],
             [
              0.6666666666666666,
              "#ed7953"
             ],
             [
              0.7777777777777778,
              "#fb9f3a"
             ],
             [
              0.8888888888888888,
              "#fdca26"
             ],
             [
              1,
              "#f0f921"
             ]
            ],
            "type": "surface"
           }
          ],
          "table": [
           {
            "cells": {
             "fill": {
              "color": "#EBF0F8"
             },
             "line": {
              "color": "white"
             }
            },
            "header": {
             "fill": {
              "color": "#C8D4E3"
             },
             "line": {
              "color": "white"
             }
            },
            "type": "table"
           }
          ]
         },
         "layout": {
          "annotationdefaults": {
           "arrowcolor": "#2a3f5f",
           "arrowhead": 0,
           "arrowwidth": 1
          },
          "autotypenumbers": "strict",
          "coloraxis": {
           "colorbar": {
            "outlinewidth": 0,
            "ticks": ""
           }
          },
          "colorscale": {
           "diverging": [
            [
             0,
             "#8e0152"
            ],
            [
             0.1,
             "#c51b7d"
            ],
            [
             0.2,
             "#de77ae"
            ],
            [
             0.3,
             "#f1b6da"
            ],
            [
             0.4,
             "#fde0ef"
            ],
            [
             0.5,
             "#f7f7f7"
            ],
            [
             0.6,
             "#e6f5d0"
            ],
            [
             0.7,
             "#b8e186"
            ],
            [
             0.8,
             "#7fbc41"
            ],
            [
             0.9,
             "#4d9221"
            ],
            [
             1,
             "#276419"
            ]
           ],
           "sequential": [
            [
             0,
             "#0d0887"
            ],
            [
             0.1111111111111111,
             "#46039f"
            ],
            [
             0.2222222222222222,
             "#7201a8"
            ],
            [
             0.3333333333333333,
             "#9c179e"
            ],
            [
             0.4444444444444444,
             "#bd3786"
            ],
            [
             0.5555555555555556,
             "#d8576b"
            ],
            [
             0.6666666666666666,
             "#ed7953"
            ],
            [
             0.7777777777777778,
             "#fb9f3a"
            ],
            [
             0.8888888888888888,
             "#fdca26"
            ],
            [
             1,
             "#f0f921"
            ]
           ],
           "sequentialminus": [
            [
             0,
             "#0d0887"
            ],
            [
             0.1111111111111111,
             "#46039f"
            ],
            [
             0.2222222222222222,
             "#7201a8"
            ],
            [
             0.3333333333333333,
             "#9c179e"
            ],
            [
             0.4444444444444444,
             "#bd3786"
            ],
            [
             0.5555555555555556,
             "#d8576b"
            ],
            [
             0.6666666666666666,
             "#ed7953"
            ],
            [
             0.7777777777777778,
             "#fb9f3a"
            ],
            [
             0.8888888888888888,
             "#fdca26"
            ],
            [
             1,
             "#f0f921"
            ]
           ]
          },
          "colorway": [
           "#636efa",
           "#EF553B",
           "#00cc96",
           "#ab63fa",
           "#FFA15A",
           "#19d3f3",
           "#FF6692",
           "#B6E880",
           "#FF97FF",
           "#FECB52"
          ],
          "font": {
           "color": "#2a3f5f"
          },
          "geo": {
           "bgcolor": "white",
           "lakecolor": "white",
           "landcolor": "white",
           "showlakes": true,
           "showland": true,
           "subunitcolor": "#C8D4E3"
          },
          "hoverlabel": {
           "align": "left"
          },
          "hovermode": "closest",
          "mapbox": {
           "style": "light"
          },
          "paper_bgcolor": "white",
          "plot_bgcolor": "white",
          "polar": {
           "angularaxis": {
            "gridcolor": "#EBF0F8",
            "linecolor": "#EBF0F8",
            "ticks": ""
           },
           "bgcolor": "white",
           "radialaxis": {
            "gridcolor": "#EBF0F8",
            "linecolor": "#EBF0F8",
            "ticks": ""
           }
          },
          "scene": {
           "xaxis": {
            "backgroundcolor": "white",
            "gridcolor": "#DFE8F3",
            "gridwidth": 2,
            "linecolor": "#EBF0F8",
            "showbackground": true,
            "ticks": "",
            "zerolinecolor": "#EBF0F8"
           },
           "yaxis": {
            "backgroundcolor": "white",
            "gridcolor": "#DFE8F3",
            "gridwidth": 2,
            "linecolor": "#EBF0F8",
            "showbackground": true,
            "ticks": "",
            "zerolinecolor": "#EBF0F8"
           },
           "zaxis": {
            "backgroundcolor": "white",
            "gridcolor": "#DFE8F3",
            "gridwidth": 2,
            "linecolor": "#EBF0F8",
            "showbackground": true,
            "ticks": "",
            "zerolinecolor": "#EBF0F8"
           }
          },
          "shapedefaults": {
           "line": {
            "color": "#2a3f5f"
           }
          },
          "ternary": {
           "aaxis": {
            "gridcolor": "#DFE8F3",
            "linecolor": "#A2B1C6",
            "ticks": ""
           },
           "baxis": {
            "gridcolor": "#DFE8F3",
            "linecolor": "#A2B1C6",
            "ticks": ""
           },
           "bgcolor": "white",
           "caxis": {
            "gridcolor": "#DFE8F3",
            "linecolor": "#A2B1C6",
            "ticks": ""
           }
          },
          "title": {
           "x": 0.05
          },
          "xaxis": {
           "automargin": true,
           "gridcolor": "#EBF0F8",
           "linecolor": "#EBF0F8",
           "ticks": "",
           "title": {
            "standoff": 15
           },
           "zerolinecolor": "#EBF0F8",
           "zerolinewidth": 2
          },
          "yaxis": {
           "automargin": true,
           "gridcolor": "#EBF0F8",
           "linecolor": "#EBF0F8",
           "ticks": "",
           "title": {
            "standoff": 15
           },
           "zerolinecolor": "#EBF0F8",
           "zerolinewidth": 2
          }
         }
        },
        "title": {
         "text": "Distribution of users by countries (Logarithmic Scale)"
        }
       }
      },
      "image/png": "[encoded data removed]",
      "text/html": [
       "<div>                            <div id=\"dc9c426f-58c6-44ef-9d2c-2b40b253ad30\" class=\"plotly-graph-div\" style=\"height:525px; width:100%;\"></div>            <script type=\"text/javascript\">                require([\"plotly\"], function(Plotly) {                    window.PLOTLYENV=window.PLOTLYENV || {};                                    if (document.getElementById(\"dc9c426f-58c6-44ef-9d2c-2b40b253ad30\")) {                    Plotly.newPlot(                        \"dc9c426f-58c6-44ef-9d2c-2b40b253ad30\",                        [{\"coloraxis\":\"coloraxis\",\"geo\":\"geo\",\"hovertemplate\":\"locations=%{location}<br>color=%{z}<extra></extra>\",\"locationmode\":\"country names\",\"locations\":[\"usa\",\"canada\",\"united kingdom\",\"germany\",\"spain\",\"australia\",\"italy\",\"\",\"france\",\"portugal\",\"new zealand\",\"netherlands\",\"switzerland\",\"brazil\",\"china\",\"sweden\",\"india\",\"austria\",\"malaysia\",\"argentina\",\"singapore\",\"finland\",\"mexico\",\"belgium\",\"denmark\",\"ireland\",\"philippines\",\"turkey\",\"poland\",\"pakistan\",\"greece\",\"iran\",\"chile\",\"romania\",\"israel\",\"south africa\",\"indonesia\",\"norway\",\"japan\",\"croatia\",\"nigeria\",\"south korea\",\"slovakia\",\"czech republic\",\"russia\",\"yugoslavia\",\"hong kong\",\"costa rica\",\"taiwan\",\"slovenia\",\"peru\",\"vietnam\",\"venezuela\",\"egypt\",\"bulgaria\",\"colombia\",\"spain\\\"\",\"luxembourg\",\"hungary\",\"thailand\",\"ghana\",\"saudi arabia\",\"portugal\\\"\",\"united arab emirates\",\"espa\\u00f1a\",\"bosnia and herzegovina\",\"sri lanka\",\"denmark\\\"\",\"iceland\",\"sweden\\\"\",\"paraguay\",\"guatemala\",\"bangladesh\",\"andorra\",\"ukraine\",\"lithuania\",\"latvia\",\"bahamas\",\"bolivia\",\"jamaica\",\"panama\",\"kuwait\",\"ecuador\",\"lebanon\",\"cuba\",\"morocco\",\"la france\",\"trinidad and tobago\",\"malta\",\"france\\\"\",\"dominican republic\",\"albania\",\"afghanistan\",\"macedonia\",\"scotland\",\"l`italia\",\"england\",\"germany\\\"\",\"urugua\",\"algeria\",\"antarctica\",\"honduras\",\"cyprus\",\"deutschland\",\"kenya\",\"bermuda\",\"netherlands\\\"\",\"el salvador\",\"oman\",\"zimbabwe\",\"uzbekistan\",\"new zealand\\\"\",\"belize\",\"jordan\",\"estonia\",\"nepal\",\"puerto rico\",\"uruguay\",\"finland\\\"\",\"mauritius\",\"u.a.e\",\"grenada\",\"brunei\",\"qatar\",\"barbados\",\"united kingdom\\\"\",\"caribbean sea\",\"nicaragua\",\"switzerland\\\"\",\"burma\",\"wales\",\"jersey\",\"bahrain\",\"n/a\",\"iraq\",\"georgia\",\"belarus\",\"united states\",\"catalunya\",\"austria\\\"\",\"benin\",\"ethiopia\",\"syria\",\"kazakhstan\",\"fiji\",\"east africa\",\"india\\\"\",\"cayman islands\",\"guernsey\",\"euskal herria\",\"iran\\\"\",\"mozambique\",\"italia\",\"azerbaijan\",\"alderney\",\"cote d`ivoire\",\"\\\"\",\"mexico\\\"\",\"greece\\\"\",\"guyana\",\"eritrea\",\"sudan\",\"philippines\\\"\",\"armenia\",\"catalonia\",\"moldova\",\"antigua and barbuda\",\"brasil\",\"cameroon\",\"la argentina\",\"\\u00f6\\u00f0\\u00b9\\u00fa\",\"papua new guinea\",\"yemen\",\"gabon\",\"monaco\",\"botswana\",\"tunisia\",\"norway\\\"\",\"ireland\\\"\",\"uganda\",\"espa\\u00e3\\u00b1a\",\"galiza\",\"brazil\\\"\",\"cape verde\",\"laos\",\"turkey\\\"\",\"cambodia\",\"dominica\",\"burkina faso\",\"netherlands antilles\",\"niger\",\"malaysia\\\"\",\"uk\",\"romania\\\"\",\"tanzania\",\"bangladesh\\\"\",\"togo\",\"rwanda\",\"nigeria\\\"\",\"croatia\\\"\",\"angola\",\"senegal\",\"italy\\\"\",\"chile\\\"\",\"saint lucia\",\"poland\\\"\",\"argentina\\\"\",\"slovenia\\\"\",\"espa\\u00e3?\\u00e2\\u00b1a\",\"zambia\",\"samoa\",\"lombardia\",\"lesotho\",\"kyrgyzstan\",\"maricopa\",\"suisse\",\"north korea\",\"belgium\\\"\",\"saint vincent and the grenadines\",\"suriname\",\"aruba\",\"congo\",\"korea\",\"basque country\",\"mongolia\",\"us\",\"trinidad\",\"lazio\",\"israel\\\"\",\"bhutan\",\"egypt\\\"\",\"libya\",\"belgique\",\"the\",\"singapore\\\"\",\"europe\",\"tajikistan\",\"vanuatu\",\"namibia\",\"czech republic\\\"\",\"quit\",\"kosovo\",\"serbia\",\"san marino\",\"slovakia\\\"\",\"indonesia\\\"\",\"maldives\",\"colombia\\\"\",\"holy see\",\"macau\",\"iceland\\\"\",\"swaziland\",\"haiti\",\"united states of america\",\"le canada\",\"la belgique\",\"c\",\"saint kitts and nevis\",\"holland\",\"solomon islands\",\"guinea\",\"nrw\",\"turkmenistan\",\"sri lanka\\\"\",\"the netherlands\",\"vietnam\\\"\",\"american samoa\",\"liberia\",\"hungary\\\"\",\"\\u00e4\\u00b8\\u00ad\\u00e5?\\u00bd\",\"deutschland\\\"\",\"m\\u00e9xico\",\"marshall islands\",\"america\",\"djibouti\",\"sardegna\",\"chad\",\"china\\\"\",\"trinidad and tobago\\\"\",\"universe\",\"guam\",\"andorra\\\"\",\"malawi\",\"tonga\",\"luxembourg\\\"\",\"uganda\\\"\",\"srilanka\",\"serbia and montenegro\",\"channel islands\",\"cape verde\\\"\",\"hong kong\\\"\",\"mali\",\"space\",\"british virgin islands\",\"sierra leone\",\"u.s. virgin islands\",\"guinea-bissau\",\"polk\",\"palau\",\"st. vincent and the grenadines\",\"micronesia\",\"m\\u00e3?\\u00e2\\u00a9xico\",\"costa rica\\\"\",\"smith\",\"neverland\",\"pueblo\",\"rsa\",\"northern ireland\",\"west yorkshire\",\"republic of panama\",\"phila\",\"t\\u00fcrkiye\",\"il canada\",\"palestine\",\"maracopa\",\"espanha / galiza\",\"xxxxxx\",\"p.r.c\",\"vicenza\",\"la chine eternelle!\",\"pippo\",\"united stated\",\"california\",\"c.a.\",\"burlington\",\"wonderful usa\",\"yanhill\",\"uae\",\"nh\",\"lj\",\"london\",\"l\",\"canada eh\",\"euskadi\",\"cadd0\",\"exactly where i am\",\"bosnia\",\"phillipines\",\"ussurfing\",\"h.u.g.\",\"s.corea\",\"livingston\",\"somewherein space\",\"der\",\"spotsylvania\",\"uyo\",\"clackamas\",\"pender\",\"united state\",\"vorce\",\"unite states\",\"fred\",\"usa\\\"\",\"malaysian\",\"p.r. china\",\"shelby\",\"europa\",\"newzealand\",\"ventura\",\"csa\",\"mo\\u00e7ambique\",\"u k\",\"lecce\",\"oakland\",\"u\",\"sardinia\",\"jamaica\\\"\",\"phippines\",\"prc\",\"canda\",\"burma\\\"\",\"copenhagen\",\"23232\",\"harvatija\",\"usa (currently living in england)\",\"roma\",\"indiai\",\"onondaga nation\",\"solano\",\"madagascar\",\"austbritania\",\"pakistan\\\"\",\"cananda\",\"queensland\",\"hungary and usa\",\"united kindgdom\",\"mauritius\\\"\",\"_ brasil\",\"ukrain\",\"cook\",\"calabria\",\"libya\\\"\",\"u.a.e\\\"\",\"australii\",\"kiribati\",\"fontana\",\"u.\",\"z\",\"l`alg\\u00e9rie\",\"mordor\",\"uusa\",\"johnson\",\"rep san marino\",\"united sates\",\"fulton\",\"geermany\",\"fort bend\",\"st.thomasi\",\"w. malaysia\",\"bih\",\"liushi\",\"mozambique\\\"\",\"tyrtyrt\",\"\\\\\\\"n/a\\\\\\\"\\\"\",\"espa\\u00f1a\\\"\",\"yakima\",\"the gambia\",\"cape may\",\"disgruntled states of america\",\"tanzania\\\"\",\"kern\",\"ahrensburg\",\"thing\",\"we`re global!\",\"fairyland\",\"autralia\",\"le madagascar\",\"no more\",\"butler\",\"asturies\",\"hernando\",\"la svizzera\",\"bkk\",\"victoria\",\"r.o.c.\",\"rep. san marino\",\"yunling\",\"germay\",\"&#20013;&#22269;\",\"nl\",\"united staes\",\"dauphin\",\"galiza neghra\",\"china\\u00f6\\u00f0\\u00b9\\u00fa\",\"x\",\"lane\",\"people`s republic of china\",\"home of the van!!\",\"01776\",\"citrus.\",\"p r china\",\"everywhere and anywhere\",\"allen\",\"st. clair\",\"swazilandia\",\"in\",\"los estados unidos de norte america\",\"north carolina\",\"philippinies\",\"palm beach\",\"distrito federal\",\"europe.\",\"sao tome and principe\",\"s.africa\",\"bavaria\",\"pistlavakia\",\"fortaleza\",\"courtenay\",\"slovak republik\",\"houston\",\"trinidad/tobago.\",\"santa barbara\",\"bucks\",\"buncombe\",\"30064\",\"maine\",\"phils\",\"u.k.\",\"russian federation\",\"mauritania\",\"toscana\",\"san mateo\",\"madrid\",\"nz\",\"whatcom\",\"venezuela\\\"\",\"ohio\",\"vatican city\",\"tobago\",\"85021\",\"saint luica\",\"davidson\",\"a\",\"lee\",\"unknown\",\"\\\\n/a\\\\\\\"\\\"\",\"baden-w\\u00fcrttemberg\",\"texas\",\"orange co\",\"lithuania\\\"\",\"xinyu\",\"morocco\\\"\",\"hidalgo\",\"comoros\",\"new london\",\"unit\",\"petrolwar nation\",\"itlay\",\"cape town\",\"nederlands\",\"tdzimi\",\"brunei darussalam\",\"frome\",\"peru\\\"\",\"la chine \\u00e9ternelle !\",\"saint vincent and the grenadines\\\"\",\"lleida\",\"az\",\"u.s.a.\",\"collin\",\"washtenaw\",\"deutsches reich\",\"here and there\",\"ee.uu\",\"united kindgonm\",\"nyc\",\"san bernardino\",\"ouranos\",\"hornyonic\",\"monroe\",\"st. helena\",\"sultanate of oman\",\"aroostook\",\"fredonia - land of the brave and free\",\"osceola\",\"pakistan.\",\"-------\",\"trinidad & tobago\",\"ghana\\\"\",\"turkei\",\"heaven\",\"hongkong\",\"rmi\",\"wood\",\"worcester\",\"gb\",\"la suisse\",\"ksa\",\"bademn w\\u00fcrtemberg\",\"prince william\",\"sri lanka\\\\\\\"n/a\\\\\\\"\\\"\",\"valtesse\",\"fifi\",\"la chine \\u00e9ternelle!\",\"catalunya(catalonia)\",\"framingham\",\"zhengjiang\",\"somalia\",\"milano\",\"thailand\\\"\",\"cnina\",\"ust\",\"ama lurra\",\"commonwealth of northern mariana islands\",\"marrion\",\"hamilton\",\"lkjlj\",\"slo\",\"bernalillo\",\"morgan\",\"saint loius\",\"ferrara\",\"effingham\",\"pasco\",\"lake\",\"catalunya spain\",\"?\\u00fa?{\",\"auckland\",\"philippine\",\"*\",\"windham\",\"hampden\",\"cn\",\"baltimore\",\"jackson\",\"c\\u00f4te d\",\"baxter\",\"republic of korea\",\"cote d`ivoire\\\"\",\"evil empire\",\"richmond country\",\"hennipen\",\"equatorial geuinea\",\"nyhamnsl\\u00e4ge\",\"rice\",\"good old usa !\",\"alg\\u00e9rie\",\"polska\",\"ua\",\"n/a - on the road\",\"missouri\",\"goteborg\",\"dekalb\",\"bbbzzzzz\",\"cass\",\"cherokee\",\"van wert\",\"87510\",\"monterrey\",\"camden\",\"ventura county\",\"clinton\",\"italien\",\"china people`s republic\",\"united statea\",\"liaoning\",\"bfe\",\"strongbadia\",\"chian\",\"dfg\",\".\",\"belgi\",\"australia\\\"\",\"country\",\"bell\",\"pa\",\"rutherford\",\"orense\",\"k1c7b1\",\"id\",\"guatemala\\\"\",\"sudan\\\"\",\"bergued\\u00e0\",\"basilicata\",\"diy\",\"ysa\",\"england uk\",\"granville\",\"rosello\",\"the great white north\",\"united stated of america\",\"good old u.s.a.\",\"faroe islands\",\"kz\",\"henry\",\"adsgfdr\",\"burkinafasu\",\"aotearoa\",\"in your heart\",\"u.s.a>\",\"per\\u00e3\\u00ba\",\"the world tomorrow\",\"rosario\",\"thailoand\",\"bladen\",\"input error\",\"lawrenceville\",\"pinallas\",\"the philippines\",\"serbia & montenegro\",\"rapides\",\"singapore/united kingdom\",\"english\",\"doodedoo\",\"sicilia\",\"can\",\"aaa\",\"&#32654;&#22269;\",\"-\",\"sao tome and principe\\\"\",\"essex\",\"myanmar\",\"travelling\",\"carter\",\"usa & canada\",\"u.s. of a.\",\"p.r.china\",\"none\",\"pr\",\"dublin\",\"saudia arabia\",\"afganstand holla !!\",\"lornsenland\",\"nowhere\",\"scotland\\\"\",\"alachua\",\"macedonia\\\"\",\"maroc\",\"far away...\",\"south korea\\\"\",\"isreal\",\"5057chadwick ct.\",\"02458\",\"u.s.a!\",\"u.s>\",\"san franicsco\",\"isle of man\",\"greece (=hellas)\",\"my\",\"hillsborough\",\"antigua & barbuda\",\"m\\u00e9rida\",\"fernando de la mora\",\"queenspark\",\"19104\",\"minnehaha\",\"de\",\"china \\u00f6\\u00f0\\u00b9\\u00fa\",\"united kingdom.\"],\"name\":\"\",\"z\":[11.847338439909615,9.983176351437496,9.827631900232593,9.743553514619803,9.48402493478411,9.374582815370232,9.329633378164166,8.429235912657095,8.147867129923947,8.109525659752872,8.038512020976814,8.014996894348302,7.465082736399547,7.423568444259167,7.305860032684009,7.249215057114389,7.1631723908466425,7.036148493750536,7.02108396428914,6.988413181999592,6.8308742346461795,6.828712071641684,6.734591659972948,6.709304340258298,6.692083742506628,6.625392368007956,6.612041034833092,6.19644412779452,6.12029741895095,6.093569770045136,6.045005314036012,5.983936280687191,5.8805329864007,5.8805329864007,5.846438775057725,5.802118375377063,5.723585101952381,5.66988092298052,5.60947179518496,5.5093883366279774,5.438079308923196,5.41610040220442,5.3706380281276624,5.298317366548036,5.187385805840755,5.187385805840755,5.14166355650266,5.117993812416755,5.117993812416755,4.962844630259907,4.948759890378168,4.941642422609304,4.941642422609304,4.941642422609304,4.897839799950911,4.890349128221754,4.718498871295094,4.653960350157523,4.584967478670572,4.465908118654584,4.382026634673881,4.189654742026425,4.189654742026425,4.1588830833596715,4.1588830833596715,4.0943445622221,4.02535169073515,3.970291913552122,3.970291913552122,3.9318256327243257,3.8501476017100584,3.828641396489095,3.8066624897703196,3.7612001156935624,3.7612001156935624,3.7376696182833684,3.713572066704308,3.713572066704308,3.6888794541139363,3.6375861597263857,3.6375861597263857,3.6375861597263857,3.6375861597263857,3.6109179126442243,3.6109179126442243,3.5553480614894135,3.5553480614894135,3.5263605246161616,3.5263605246161616,3.4965075614664802,3.4657359027997265,3.4657359027997265,3.4657359027997265,3.4657359027997265,3.4657359027997265,3.4339872044851463,3.4339872044851463,3.4339872044851463,3.4011973816621555,3.4011973816621555,3.332204510175204,3.332204510175204,3.332204510175204,3.332204510175204,3.332204510175204,3.295836866004329,3.295836866004329,3.295836866004329,3.258096538021482,3.2188758248682006,3.2188758248682006,3.1780538303479458,3.1780538303479458,3.1354942159291497,3.1354942159291497,3.091042453358316,3.091042453358316,3.044522437723423,3.044522437723423,3.044522437723423,2.995732273553991,2.995732273553991,2.995732273553991,2.995732273553991,2.9444389791664403,2.9444389791664403,2.8903717578961645,2.8903717578961645,2.8903717578961645,2.8903717578961645,2.8903717578961645,2.833213344056216,2.833213344056216,2.833213344056216,2.833213344056216,2.70805020110221,2.70805020110221,2.6390573296152584,2.6390573296152584,2.6390573296152584,2.6390573296152584,2.5649493574615367,2.5649493574615367,2.5649493574615367,2.5649493574615367,2.5649493574615367,2.5649493574615367,2.4849066497880004,2.4849066497880004,2.4849066497880004,2.4849066497880004,2.4849066497880004,2.4849066497880004,2.3978952727983707,2.3978952727983707,2.3978952727983707,2.3978952727983707,2.3978952727983707,2.3978952727983707,2.3978952727983707,2.3978952727983707,2.3978952727983707,2.302585092994046,2.302585092994046,2.302585092994046,2.302585092994046,2.302585092994046,2.1972245773362196,2.1972245773362196,2.1972245773362196,2.1972245773362196,2.1972245773362196,2.1972245773362196,2.1972245773362196,2.1972245773362196,2.1972245773362196,2.1972245773362196,2.1972245773362196,2.0794415416798357,2.0794415416798357,2.0794415416798357,2.0794415416798357,2.0794415416798357,2.0794415416798357,2.0794415416798357,2.0794415416798357,2.0794415416798357,2.0794415416798357,1.9459101490553132,1.9459101490553132,1.9459101490553132,1.9459101490553132,1.9459101490553132,1.9459101490553132,1.9459101490553132,1.9459101490553132,1.9459101490553132,1.9459101490553132,1.791759469228055,1.791759469228055,1.791759469228055,1.791759469228055,1.791759469228055,1.791759469228055,1.791759469228055,1.791759469228055,1.791759469228055,1.791759469228055,1.791759469228055,1.791759469228055,1.791759469228055,1.6094379124341003,1.6094379124341003,1.6094379124341003,1.6094379124341003,1.6094379124341003,1.6094379124341003,1.6094379124341003,1.6094379124341003,1.6094379124341003,1.6094379124341003,1.6094379124341003,1.6094379124341003,1.6094379124341003,1.6094379124341003,1.6094379124341003,1.6094379124341003,1.3862943611198906,1.3862943611198906,1.3862943611198906,1.3862943611198906,1.3862943611198906,1.3862943611198906,1.3862943611198906,1.3862943611198906,1.3862943611198906,1.3862943611198906,1.3862943611198906,1.3862943611198906,1.3862943611198906,1.3862943611198906,1.3862943611198906,1.3862943611198906,1.3862943611198906,1.3862943611198906,1.3862943611198906,1.3862943611198906,1.3862943611198906,1.3862943611198906,1.3862943611198906,1.3862943611198906,1.0986122886681098,1.0986122886681098,1.0986122886681098,1.0986122886681098,1.0986122886681098,1.0986122886681098,1.0986122886681098,1.0986122886681098,1.0986122886681098,1.0986122886681098,1.0986122886681098,1.0986122886681098,1.0986122886681098,1.0986122886681098,1.0986122886681098,1.0986122886681098,1.0986122886681098,1.0986122886681098,1.0986122886681098,1.0986122886681098,1.0986122886681098,1.0986122886681098,1.0986122886681098,1.0986122886681098,1.0986122886681098,1.0986122886681098,1.0986122886681098,1.0986122886681098,1.0986122886681098,1.0986122886681098,1.0986122886681098,1.0986122886681098,1.0986122886681098,1.0986122886681098,1.0986122886681098,1.0986122886681098,1.0986122886681098,1.0986122886681098,1.0986122886681098,1.0986122886681098,1.0986122886681098,1.0986122886681098,1.0986122886681098,1.0986122886681098,1.0986122886681098,1.0986122886681098,1.0986122886681098,1.0986122886681098,1.0986122886681098,1.0986122886681098,1.0986122886681098,1.0986122886681098,0.6931471805599453,0.6931471805599453,0.6931471805599453,0.6931471805599453,0.6931471805599453,0.6931471805599453,0.6931471805599453,0.6931471805599453,0.6931471805599453,0.6931471805599453,0.6931471805599453,0.6931471805599453,0.6931471805599453,0.6931471805599453,0.6931471805599453,0.6931471805599453,0.6931471805599453,0.6931471805599453,0.6931471805599453,0.6931471805599453,0.6931471805599453,0.6931471805599453,0.6931471805599453,0.6931471805599453,0.6931471805599453,0.6931471805599453,0.6931471805599453,0.6931471805599453,0.6931471805599453,0.6931471805599453,0.6931471805599453,0.6931471805599453,0.6931471805599453,0.6931471805599453,0.6931471805599453,0.6931471805599453,0.6931471805599453,0.6931471805599453,0.6931471805599453,0.6931471805599453,0.6931471805599453,0.6931471805599453,0.6931471805599453,0.6931471805599453,0.6931471805599453,0.6931471805599453,0.6931471805599453,0.6931471805599453,0.6931471805599453,0.6931471805599453,0.6931471805599453,0.6931471805599453,0.6931471805599453,0.6931471805599453,0.6931471805599453,0.6931471805599453,0.6931471805599453,0.6931471805599453,0.6931471805599453,0.6931471805599453,0.6931471805599453,0.6931471805599453,0.6931471805599453,0.6931471805599453,0.6931471805599453,0.6931471805599453,0.6931471805599453,0.6931471805599453,0.6931471805599453,0.6931471805599453,0.6931471805599453,0.6931471805599453,0.6931471805599453,0.6931471805599453,0.6931471805599453,0.6931471805599453,0.6931471805599453,0.6931471805599453,0.6931471805599453,0.6931471805599453,0.6931471805599453,0.6931471805599453,0.6931471805599453,0.6931471805599453,0.6931471805599453,0.6931471805599453,0.6931471805599453,0.6931471805599453,0.6931471805599453,0.6931471805599453,0.6931471805599453,0.6931471805599453,0.6931471805599453,0.6931471805599453,0.6931471805599453,0.6931471805599453,0.6931471805599453,0.6931471805599453,0.6931471805599453,0.6931471805599453,0.6931471805599453,0.6931471805599453,0.6931471805599453,0.6931471805599453,0.6931471805599453,0.6931471805599453,0.6931471805599453,0.6931471805599453,0.6931471805599453,0.6931471805599453,0.6931471805599453,0.6931471805599453,0.6931471805599453,0.6931471805599453,0.6931471805599453,0.6931471805599453,0.6931471805599453,0.6931471805599453,0.6931471805599453,0.6931471805599453,0.6931471805599453,0.6931471805599453,0.6931471805599453,0.6931471805599453,0.6931471805599453,0.6931471805599453,0.6931471805599453,0.6931471805599453,0.6931471805599453,0.6931471805599453,0.6931471805599453,0.6931471805599453,0.6931471805599453,0.6931471805599453,0.6931471805599453,0.6931471805599453,0.6931471805599453,0.6931471805599453,0.6931471805599453,0.6931471805599453,0.6931471805599453,0.6931471805599453,0.6931471805599453,0.6931471805599453,0.6931471805599453,0.6931471805599453,0.6931471805599453,0.6931471805599453,0.6931471805599453,0.6931471805599453,0.6931471805599453,0.6931471805599453,0.6931471805599453,0.6931471805599453,0.6931471805599453,0.6931471805599453,0.6931471805599453,0.6931471805599453,0.6931471805599453,0.6931471805599453,0.6931471805599453,0.6931471805599453,0.6931471805599453,0.6931471805599453,0.6931471805599453,0.6931471805599453,0.6931471805599453,0.6931471805599453,0.6931471805599453,0.6931471805599453,0.6931471805599453,0.6931471805599453,0.6931471805599453,0.6931471805599453,0.6931471805599453,0.6931471805599453,0.6931471805599453,0.6931471805599453,0.6931471805599453,0.6931471805599453,0.6931471805599453,0.6931471805599453,0.6931471805599453,0.6931471805599453,0.6931471805599453,0.6931471805599453,0.6931471805599453,0.6931471805599453,0.6931471805599453,0.6931471805599453,0.6931471805599453,0.6931471805599453,0.6931471805599453,0.6931471805599453,0.6931471805599453,0.6931471805599453,0.6931471805599453,0.6931471805599453,0.6931471805599453,0.6931471805599453,0.6931471805599453,0.6931471805599453,0.6931471805599453,0.6931471805599453,0.6931471805599453,0.6931471805599453,0.6931471805599453,0.6931471805599453,0.6931471805599453,0.6931471805599453,0.6931471805599453,0.6931471805599453,0.6931471805599453,0.6931471805599453,0.6931471805599453,0.6931471805599453,0.6931471805599453,0.6931471805599453,0.6931471805599453,0.6931471805599453,0.6931471805599453,0.6931471805599453,0.6931471805599453,0.6931471805599453,0.6931471805599453,0.6931471805599453,0.6931471805599453,0.6931471805599453,0.6931471805599453,0.6931471805599453,0.6931471805599453,0.6931471805599453,0.6931471805599453,0.6931471805599453,0.6931471805599453,0.6931471805599453,0.6931471805599453,0.6931471805599453,0.6931471805599453,0.6931471805599453,0.6931471805599453,0.6931471805599453,0.6931471805599453,0.6931471805599453,0.6931471805599453,0.6931471805599453,0.6931471805599453,0.6931471805599453,0.6931471805599453,0.6931471805599453,0.6931471805599453,0.6931471805599453,0.6931471805599453,0.6931471805599453,0.6931471805599453,0.6931471805599453,0.6931471805599453,0.6931471805599453,0.6931471805599453,0.6931471805599453,0.6931471805599453,0.6931471805599453,0.6931471805599453,0.6931471805599453,0.6931471805599453,0.6931471805599453,0.6931471805599453,0.6931471805599453,0.6931471805599453,0.6931471805599453,0.6931471805599453,0.6931471805599453,0.6931471805599453,0.6931471805599453,0.6931471805599453,0.6931471805599453,0.6931471805599453,0.6931471805599453,0.6931471805599453,0.6931471805599453,0.6931471805599453,0.6931471805599453,0.6931471805599453,0.6931471805599453,0.6931471805599453,0.6931471805599453,0.6931471805599453,0.6931471805599453,0.6931471805599453,0.6931471805599453,0.6931471805599453,0.6931471805599453,0.6931471805599453,0.6931471805599453,0.6931471805599453,0.6931471805599453,0.6931471805599453,0.6931471805599453,0.6931471805599453,0.6931471805599453,0.6931471805599453,0.6931471805599453,0.6931471805599453,0.6931471805599453,0.6931471805599453,0.6931471805599453,0.6931471805599453,0.6931471805599453,0.6931471805599453,0.6931471805599453,0.6931471805599453,0.6931471805599453,0.6931471805599453,0.6931471805599453,0.6931471805599453,0.6931471805599453,0.6931471805599453,0.6931471805599453,0.6931471805599453,0.6931471805599453,0.6931471805599453,0.6931471805599453,0.6931471805599453,0.6931471805599453,0.6931471805599453,0.6931471805599453,0.6931471805599453,0.6931471805599453,0.6931471805599453,0.6931471805599453,0.6931471805599453,0.6931471805599453,0.6931471805599453,0.6931471805599453,0.6931471805599453,0.6931471805599453,0.6931471805599453,0.6931471805599453,0.6931471805599453,0.6931471805599453,0.6931471805599453,0.6931471805599453,0.6931471805599453,0.6931471805599453,0.6931471805599453,0.6931471805599453,0.6931471805599453,0.6931471805599453,0.6931471805599453,0.6931471805599453,0.6931471805599453,0.6931471805599453,0.6931471805599453,0.6931471805599453,0.6931471805599453,0.6931471805599453,0.6931471805599453,0.6931471805599453,0.6931471805599453,0.6931471805599453,0.6931471805599453,0.6931471805599453,0.6931471805599453,0.6931471805599453,0.6931471805599453,0.6931471805599453,0.6931471805599453,0.6931471805599453,0.6931471805599453,0.6931471805599453,0.6931471805599453,0.6931471805599453,0.6931471805599453,0.6931471805599453,0.6931471805599453,0.6931471805599453,0.6931471805599453,0.6931471805599453,0.6931471805599453,0.6931471805599453,0.6931471805599453,0.6931471805599453,0.6931471805599453,0.6931471805599453,0.6931471805599453,0.6931471805599453,0.6931471805599453,0.6931471805599453,0.6931471805599453,0.6931471805599453,0.6931471805599453,0.6931471805599453,0.6931471805599453,0.6931471805599453,0.6931471805599453,0.6931471805599453,0.6931471805599453,0.6931471805599453,0.6931471805599453,0.6931471805599453,0.6931471805599453,0.6931471805599453,0.6931471805599453,0.6931471805599453,0.6931471805599453,0.6931471805599453],\"type\":\"choropleth\"}],                        {\"template\":{\"data\":{\"barpolar\":[{\"marker\":{\"line\":{\"color\":\"white\",\"width\":0.5},\"pattern\":{\"fillmode\":\"overlay\",\"size\":10,\"solidity\":0.2}},\"type\":\"barpolar\"}],\"bar\":[{\"error_x\":{\"color\":\"#2a3f5f\"},\"error_y\":{\"color\":\"#2a3f5f\"},\"marker\":{\"line\":{\"color\":\"white\",\"width\":0.5},\"pattern\":{\"fillmode\":\"overlay\",\"size\":10,\"solidity\":0.2}},\"type\":\"bar\"}],\"carpet\":[{\"aaxis\":{\"endlinecolor\":\"#2a3f5f\",\"gridcolor\":\"#C8D4E3\",\"linecolor\":\"#C8D4E3\",\"minorgridcolor\":\"#C8D4E3\",\"startlinecolor\":\"#2a3f5f\"},\"baxis\":{\"endlinecolor\":\"#2a3f5f\",\"gridcolor\":\"#C8D4E3\",\"linecolor\":\"#C8D4E3\",\"minorgridcolor\":\"#C8D4E3\",\"startlinecolor\":\"#2a3f5f\"},\"type\":\"carpet\"}],\"choropleth\":[{\"colorbar\":{\"outlinewidth\":0,\"ticks\":\"\"},\"type\":\"choropleth\"}],\"contourcarpet\":[{\"colorbar\":{\"outlinewidth\":0,\"ticks\":\"\"},\"type\":\"contourcarpet\"}],\"contour\":[{\"colorbar\":{\"outlinewidth\":0,\"ticks\":\"\"},\"colorscale\":[[0.0,\"#0d0887\"],[0.1111111111111111,\"#46039f\"],[0.2222222222222222,\"#7201a8\"],[0.3333333333333333,\"#9c179e\"],[0.4444444444444444,\"#bd3786\"],[0.5555555555555556,\"#d8576b\"],[0.6666666666666666,\"#ed7953\"],[0.7777777777777778,\"#fb9f3a\"],[0.8888888888888888,\"#fdca26\"],[1.0,\"#f0f921\"]],\"type\":\"contour\"}],\"heatmapgl\":[{\"colorbar\":{\"outlinewidth\":0,\"ticks\":\"\"},\"colorscale\":[[0.0,\"#0d0887\"],[0.1111111111111111,\"#46039f\"],[0.2222222222222222,\"#7201a8\"],[0.3333333333333333,\"#9c179e\"],[0.4444444444444444,\"#bd3786\"],[0.5555555555555556,\"#d8576b\"],[0.6666666666666666,\"#ed7953\"],[0.7777777777777778,\"#fb9f3a\"],[0.8888888888888888,\"#fdca26\"],[1.0,\"#f0f921\"]],\"type\":\"heatmapgl\"}],\"heatmap\":[{\"colorbar\":{\"outlinewidth\":0,\"ticks\":\"\"},\"colorscale\":[[0.0,\"#0d0887\"],[0.1111111111111111,\"#46039f\"],[0.2222222222222222,\"#7201a8\"],[0.3333333333333333,\"#9c179e\"],[0.4444444444444444,\"#bd3786\"],[0.5555555555555556,\"#d8576b\"],[0.6666666666666666,\"#ed7953\"],[0.7777777777777778,\"#fb9f3a\"],[0.8888888888888888,\"#fdca26\"],[1.0,\"#f0f921\"]],\"type\":\"heatmap\"}],\"histogram2dcontour\":[{\"colorbar\":{\"outlinewidth\":0,\"ticks\":\"\"},\"colorscale\":[[0.0,\"#0d0887\"],[0.1111111111111111,\"#46039f\"],[0.2222222222222222,\"#7201a8\"],[0.3333333333333333,\"#9c179e\"],[0.4444444444444444,\"#bd3786\"],[0.5555555555555556,\"#d8576b\"],[0.6666666666666666,\"#ed7953\"],[0.7777777777777778,\"#fb9f3a\"],[0.8888888888888888,\"#fdca26\"],[1.0,\"#f0f921\"]],\"type\":\"histogram2dcontour\"}],\"histogram2d\":[{\"colorbar\":{\"outlinewidth\":0,\"ticks\":\"\"},\"colorscale\":[[0.0,\"#0d0887\"],[0.1111111111111111,\"#46039f\"],[0.2222222222222222,\"#7201a8\"],[0.3333333333333333,\"#9c179e\"],[0.4444444444444444,\"#bd3786\"],[0.5555555555555556,\"#d8576b\"],[0.6666666666666666,\"#ed7953\"],[0.7777777777777778,\"#fb9f3a\"],[0.8888888888888888,\"#fdca26\"],[1.0,\"#f0f921\"]],\"type\":\"histogram2d\"}],\"histogram\":[{\"marker\":{\"pattern\":{\"fillmode\":\"overlay\",\"size\":10,\"solidity\":0.2}},\"type\":\"histogram\"}],\"mesh3d\":[{\"colorbar\":{\"outlinewidth\":0,\"ticks\":\"\"},\"type\":\"mesh3d\"}],\"parcoords\":[{\"line\":{\"colorbar\":{\"outlinewidth\":0,\"ticks\":\"\"}},\"type\":\"parcoords\"}],\"pie\":[{\"automargin\":true,\"type\":\"pie\"}],\"scatter3d\":[{\"line\":{\"colorbar\":{\"outlinewidth\":0,\"ticks\":\"\"}},\"marker\":{\"colorbar\":{\"outlinewidth\":0,\"ticks\":\"\"}},\"type\":\"scatter3d\"}],\"scattercarpet\":[{\"marker\":{\"colorbar\":{\"outlinewidth\":0,\"ticks\":\"\"}},\"type\":\"scattercarpet\"}],\"scattergeo\":[{\"marker\":{\"colorbar\":{\"outlinewidth\":0,\"ticks\":\"\"}},\"type\":\"scattergeo\"}],\"scattergl\":[{\"marker\":{\"colorbar\":{\"outlinewidth\":0,\"ticks\":\"\"}},\"type\":\"scattergl\"}],\"scattermapbox\":[{\"marker\":{\"colorbar\":{\"outlinewidth\":0,\"ticks\":\"\"}},\"type\":\"scattermapbox\"}],\"scatterpolargl\":[{\"marker\":{\"colorbar\":{\"outlinewidth\":0,\"ticks\":\"\"}},\"type\":\"scatterpolargl\"}],\"scatterpolar\":[{\"marker\":{\"colorbar\":{\"outlinewidth\":0,\"ticks\":\"\"}},\"type\":\"scatterpolar\"}],\"scatter\":[{\"fillpattern\":{\"fillmode\":\"overlay\",\"size\":10,\"solidity\":0.2},\"type\":\"scatter\"}],\"scatterternary\":[{\"marker\":{\"colorbar\":{\"outlinewidth\":0,\"ticks\":\"\"}},\"type\":\"scatterternary\"}],\"surface\":[{\"colorbar\":{\"outlinewidth\":0,\"ticks\":\"\"},\"colorscale\":[[0.0,\"#0d0887\"],[0.1111111111111111,\"#46039f\"],[0.2222222222222222,\"#7201a8\"],[0.3333333333333333,\"#9c179e\"],[0.4444444444444444,\"#bd3786\"],[0.5555555555555556,\"#d8576b\"],[0.6666666666666666,\"#ed7953\"],[0.7777777777777778,\"#fb9f3a\"],[0.8888888888888888,\"#fdca26\"],[1.0,\"#f0f921\"]],\"type\":\"surface\"}],\"table\":[{\"cells\":{\"fill\":{\"color\":\"#EBF0F8\"},\"line\":{\"color\":\"white\"}},\"header\":{\"fill\":{\"color\":\"#C8D4E3\"},\"line\":{\"color\":\"white\"}},\"type\":\"table\"}]},\"layout\":{\"annotationdefaults\":{\"arrowcolor\":\"#2a3f5f\",\"arrowhead\":0,\"arrowwidth\":1},\"autotypenumbers\":\"strict\",\"coloraxis\":{\"colorbar\":{\"outlinewidth\":0,\"ticks\":\"\"}},\"colorscale\":{\"diverging\":[[0,\"#8e0152\"],[0.1,\"#c51b7d\"],[0.2,\"#de77ae\"],[0.3,\"#f1b6da\"],[0.4,\"#fde0ef\"],[0.5,\"#f7f7f7\"],[0.6,\"#e6f5d0\"],[0.7,\"#b8e186\"],[0.8,\"#7fbc41\"],[0.9,\"#4d9221\"],[1,\"#276419\"]],\"sequential\":[[0.0,\"#0d0887\"],[0.1111111111111111,\"#46039f\"],[0.2222222222222222,\"#7201a8\"],[0.3333333333333333,\"#9c179e\"],[0.4444444444444444,\"#bd3786\"],[0.5555555555555556,\"#d8576b\"],[0.6666666666666666,\"#ed7953\"],[0.7777777777777778,\"#fb9f3a\"],[0.8888888888888888,\"#fdca26\"],[1.0,\"#f0f921\"]],\"sequentialminus\":[[0.0,\"#0d0887\"],[0.1111111111111111,\"#46039f\"],[0.2222222222222222,\"#7201a8\"],[0.3333333333333333,\"#9c179e\"],[0.4444444444444444,\"#bd3786\"],[0.5555555555555556,\"#d8576b\"],[0.6666666666666666,\"#ed7953\"],[0.7777777777777778,\"#fb9f3a\"],[0.8888888888888888,\"#fdca26\"],[1.0,\"#f0f921\"]]},\"colorway\":[\"#636efa\",\"#EF553B\",\"#00cc96\",\"#ab63fa\",\"#FFA15A\",\"#19d3f3\",\"#FF6692\",\"#B6E880\",\"#FF97FF\",\"#FECB52\"],\"font\":{\"color\":\"#2a3f5f\"},\"geo\":{\"bgcolor\":\"white\",\"lakecolor\":\"white\",\"landcolor\":\"white\",\"showlakes\":true,\"showland\":true,\"subunitcolor\":\"#C8D4E3\"},\"hoverlabel\":{\"align\":\"left\"},\"hovermode\":\"closest\",\"mapbox\":{\"style\":\"light\"},\"paper_bgcolor\":\"white\",\"plot_bgcolor\":\"white\",\"polar\":{\"angularaxis\":{\"gridcolor\":\"#EBF0F8\",\"linecolor\":\"#EBF0F8\",\"ticks\":\"\"},\"bgcolor\":\"white\",\"radialaxis\":{\"gridcolor\":\"#EBF0F8\",\"linecolor\":\"#EBF0F8\",\"ticks\":\"\"}},\"scene\":{\"xaxis\":{\"backgroundcolor\":\"white\",\"gridcolor\":\"#DFE8F3\",\"gridwidth\":2,\"linecolor\":\"#EBF0F8\",\"showbackground\":true,\"ticks\":\"\",\"zerolinecolor\":\"#EBF0F8\"},\"yaxis\":{\"backgroundcolor\":\"white\",\"gridcolor\":\"#DFE8F3\",\"gridwidth\":2,\"linecolor\":\"#EBF0F8\",\"showbackground\":true,\"ticks\":\"\",\"zerolinecolor\":\"#EBF0F8\"},\"zaxis\":{\"backgroundcolor\":\"white\",\"gridcolor\":\"#DFE8F3\",\"gridwidth\":2,\"linecolor\":\"#EBF0F8\",\"showbackground\":true,\"ticks\":\"\",\"zerolinecolor\":\"#EBF0F8\"}},\"shapedefaults\":{\"line\":{\"color\":\"#2a3f5f\"}},\"ternary\":{\"aaxis\":{\"gridcolor\":\"#DFE8F3\",\"linecolor\":\"#A2B1C6\",\"ticks\":\"\"},\"baxis\":{\"gridcolor\":\"#DFE8F3\",\"linecolor\":\"#A2B1C6\",\"ticks\":\"\"},\"bgcolor\":\"white\",\"caxis\":{\"gridcolor\":\"#DFE8F3\",\"linecolor\":\"#A2B1C6\",\"ticks\":\"\"}},\"title\":{\"x\":0.05},\"xaxis\":{\"automargin\":true,\"gridcolor\":\"#EBF0F8\",\"linecolor\":\"#EBF0F8\",\"ticks\":\"\",\"title\":{\"standoff\":15},\"zerolinecolor\":\"#EBF0F8\",\"zerolinewidth\":2},\"yaxis\":{\"automargin\":true,\"gridcolor\":\"#EBF0F8\",\"linecolor\":\"#EBF0F8\",\"ticks\":\"\",\"title\":{\"standoff\":15},\"zerolinecolor\":\"#EBF0F8\",\"zerolinewidth\":2}}},\"geo\":{\"domain\":{\"x\":[0.0,1.0],\"y\":[0.0,1.0]},\"center\":{},\"projection\":{\"type\":\"equirectangular\"},\"showframe\":false,\"showcoastlines\":true},\"coloraxis\":{\"colorbar\":{\"title\":{\"text\":\"color\"}},\"colorscale\":[[0.0,\"#0d0887\"],[0.1111111111111111,\"#46039f\"],[0.2222222222222222,\"#7201a8\"],[0.3333333333333333,\"#9c179e\"],[0.4444444444444444,\"#bd3786\"],[0.5555555555555556,\"#d8576b\"],[0.6666666666666666,\"#ed7953\"],[0.7777777777777778,\"#fb9f3a\"],[0.8888888888888888,\"#fdca26\"],[1.0,\"#f0f921\"]],\"cmin\":0.6931471805599453,\"cmax\":11.847338439909615},\"legend\":{\"tracegroupgap\":0},\"title\":{\"text\":\"Distribution of users by countries (Logarithmic Scale)\"},\"font\":{\"size\":17,\"family\":\"Franklin Gothic\"}},                        {\"responsive\": true}                    ).then(function(){\n",
       "                            \n",
       "var gd = document.getElementById('dc9c426f-58c6-44ef-9d2c-2b40b253ad30');\n",
       "var x = new MutationObserver(function (mutations, observer) {{\n",
       "        var display = window.getComputedStyle(gd).display;\n",
       "        if (!display || display === 'none') {{\n",
       "            console.log([gd, 'removed!']);\n",
       "            Plotly.purge(gd);\n",
       "            observer.disconnect();\n",
       "        }}\n",
       "}});\n",
       "\n",
       "// Listen for the removal of the full notebook cells\n",
       "var notebookContainer = gd.closest('#notebook-container');\n",
       "if (notebookContainer) {{\n",
       "    x.observe(notebookContainer, {childList: true});\n",
       "}}\n",
       "\n",
       "// Listen for the clearing of the current output cell\n",
       "var outputEl = gd.closest('.output');\n",
       "if (outputEl) {{\n",
       "    x.observe(outputEl, {childList: true});\n",
       "}}\n",
       "\n",
       "                        })                };                });            </script>        </div>"
      ]
     },
     "metadata": {},
     "output_type": "display_data"
    }
   ],
   "source": [
    "# Logarithmic scale transformation for better visualization\n",
    "country_counts_log = np.log1p(country_counts)  # log(1 + x) to handle zeros\n",
    "\n",
    "# Create the choropleth map\n",
    "fig = px.choropleth(\n",
    "    locations=country_counts.index,\n",
    "    locationmode='country names',  # Match the country names in your data\n",
    "    color=country_counts_log,  # Use the logarithmic scale\n",
    "    color_continuous_scale='Plasma',\n",
    "    range_color=(country_counts_log.min(), country_counts_log.max()),  # Adjust range for log scale\n",
    "    template='plotly_white',\n",
    "    title='Distribution of users by countries (Logarithmic Scale)'\n",
    ")\n",
    "\n",
    "# Customize the layout\n",
    "fig.update_layout(\n",
    "    font=dict(size=17, family=\"Franklin Gothic\"),\n",
    "    geo=dict(\n",
    "        showframe=False,\n",
    "        showcoastlines=True,\n",
    "        projection_type='equirectangular'\n",
    "    )\n",
    ")\n",
    "\n",
    "# Show the plot\n",
    "fig.show()"
   ]
  },
  {
   "cell_type": "markdown",
   "id": "768c7b55-1bdf-4634-b9d5-c36fec12c895",
   "metadata": {},
   "source": [
    "<div style=\"border-radius:10px; border:#808080 solid; padding: 15px; background-color: ##F0E68C ; font-size:100%; text-align:left\">\n",
    "\n",
    "<span style=\"color:darkblue; font-weight:bold; font-size:24px;\">Insights:</span>\n",
    "\n",
    "- ##### The choropleth map shows a global distribution of users, with higher concentration of users in North America, Europe and parts of Asia, as indicated by the logarithemic color scale. This suggests that the user base is predominantly located in these regions."
   ]
  },
  {
   "cell_type": "code",
   "execution_count": 70,
   "id": "dd895af5-eecf-4b8c-90dc-fdb53dcebc8e",
   "metadata": {},
   "outputs": [
    {
     "data": {
      "image/png": "[encoded data removed]",
      "text/plain": [
       "<Figure size 1200x600 with 1 Axes>"
      ]
     },
     "metadata": {},
     "output_type": "display_data"
    }
   ],
   "source": [
    "top_10_books = df_book_rating.groupby('Book_Title').size().sort_values(ascending=False).head(10)\n",
    "\n",
    "# Step 2: Filter the dataframe to include only the top 10 books\n",
    "top_10_books_data = df_book_rating[df_book_rating['Book_Title'].isin(top_10_books.index)]\n",
    "\n",
    "# Step 3: Calculate the average rating for these top 10 books\n",
    "avg_ratings_top_10 = top_10_books_data.groupby('Book_Title')\n",
    "\n",
    "plt.figure(figsize=(12,6))\n",
    "sns.boxplot(x = 'Book_Title', y='Book_Rating', data = top_10_books_data, palette='Set1')\n",
    "plt.title('Distribution of Ratings for Top 10 Most Rated Books')\n",
    "plt.xlabel('Book Title')\n",
    "plt.ylabel('Book Rating')\n",
    "plt.xticks(rotation=45, ha='right')\n",
    "plt.tight_layout()\n",
    "plt.show()\n"
   ]
  },
  {
   "cell_type": "markdown",
   "id": "2a3ecf72-4b06-4139-8fa1-da2166e97029",
   "metadata": {},
   "source": [
    "<div style=\"border-radius:10px; border:#808080 solid; padding: 15px; background-color: ##F0E68C ; font-size:100%; text-align:left\">\n",
    "\n",
    "<span style=\"color:darkblue; font-weight:bold; font-size:24px;\">Insights:</span>\n",
    "\n",
    "- ##### This box plot shows that the ratings for the top 10 most rated books vary widely, with most books having a median around 6 to 9. Wild Animus has a wider distribution of rating including many low ratings, while other books like Angels & Demons and Bridget jones Diary have more concentrated and higher ratings. This suggests that while these popular books generally receive good ratings, some like Wild Animus are more polarized among readers"
   ]
  },
  {
   "cell_type": "code",
   "execution_count": 76,
   "id": "5c6125a5-5d10-41df-b34f-7d4f3602f56e",
   "metadata": {},
   "outputs": [
    {
     "data": {
      "text/html": [
       "<div>\n",
       "<style scoped>\n",
       "    .dataframe tbody tr th:only-of-type {\n",
       "        vertical-align: middle;\n",
       "    }\n",
       "\n",
       "    .dataframe tbody tr th {\n",
       "        vertical-align: top;\n",
       "    }\n",
       "\n",
       "    .dataframe thead th {\n",
       "        text-align: right;\n",
       "    }\n",
       "</style>\n",
       "<table border=\"1\" class=\"dataframe\">\n",
       "  <thead>\n",
       "    <tr style=\"text-align: right;\">\n",
       "      <th>User_ID</th>\n",
       "      <th>254</th>\n",
       "      <th>2276</th>\n",
       "      <th>2766</th>\n",
       "      <th>2977</th>\n",
       "      <th>3363</th>\n",
       "      <th>4017</th>\n",
       "      <th>4385</th>\n",
       "      <th>6251</th>\n",
       "      <th>6323</th>\n",
       "      <th>6543</th>\n",
       "      <th>...</th>\n",
       "      <th>271705</th>\n",
       "      <th>273979</th>\n",
       "      <th>274004</th>\n",
       "      <th>274061</th>\n",
       "      <th>274301</th>\n",
       "      <th>274308</th>\n",
       "      <th>275970</th>\n",
       "      <th>277427</th>\n",
       "      <th>277639</th>\n",
       "      <th>278418</th>\n",
       "    </tr>\n",
       "    <tr>\n",
       "      <th>Book_Title</th>\n",
       "      <th></th>\n",
       "      <th></th>\n",
       "      <th></th>\n",
       "      <th></th>\n",
       "      <th></th>\n",
       "      <th></th>\n",
       "      <th></th>\n",
       "      <th></th>\n",
       "      <th></th>\n",
       "      <th></th>\n",
       "      <th></th>\n",
       "      <th></th>\n",
       "      <th></th>\n",
       "      <th></th>\n",
       "      <th></th>\n",
       "      <th></th>\n",
       "      <th></th>\n",
       "      <th></th>\n",
       "      <th></th>\n",
       "      <th></th>\n",
       "      <th></th>\n",
       "    </tr>\n",
       "  </thead>\n",
       "  <tbody>\n",
       "    <tr>\n",
       "      <th>1984</th>\n",
       "      <td>9.0</td>\n",
       "      <td>NaN</td>\n",
       "      <td>NaN</td>\n",
       "      <td>NaN</td>\n",
       "      <td>NaN</td>\n",
       "      <td>NaN</td>\n",
       "      <td>NaN</td>\n",
       "      <td>NaN</td>\n",
       "      <td>NaN</td>\n",
       "      <td>NaN</td>\n",
       "      <td>...</td>\n",
       "      <td>10.0</td>\n",
       "      <td>NaN</td>\n",
       "      <td>NaN</td>\n",
       "      <td>NaN</td>\n",
       "      <td>NaN</td>\n",
       "      <td>NaN</td>\n",
       "      <td>0.0</td>\n",
       "      <td>NaN</td>\n",
       "      <td>NaN</td>\n",
       "      <td>NaN</td>\n",
       "    </tr>\n",
       "    <tr>\n",
       "      <th>1st to Die: A Novel</th>\n",
       "      <td>NaN</td>\n",
       "      <td>NaN</td>\n",
       "      <td>NaN</td>\n",
       "      <td>NaN</td>\n",
       "      <td>NaN</td>\n",
       "      <td>NaN</td>\n",
       "      <td>NaN</td>\n",
       "      <td>NaN</td>\n",
       "      <td>NaN</td>\n",
       "      <td>9.0</td>\n",
       "      <td>...</td>\n",
       "      <td>NaN</td>\n",
       "      <td>NaN</td>\n",
       "      <td>NaN</td>\n",
       "      <td>NaN</td>\n",
       "      <td>NaN</td>\n",
       "      <td>NaN</td>\n",
       "      <td>NaN</td>\n",
       "      <td>NaN</td>\n",
       "      <td>NaN</td>\n",
       "      <td>NaN</td>\n",
       "    </tr>\n",
       "    <tr>\n",
       "      <th>2nd Chance</th>\n",
       "      <td>NaN</td>\n",
       "      <td>10.0</td>\n",
       "      <td>NaN</td>\n",
       "      <td>NaN</td>\n",
       "      <td>NaN</td>\n",
       "      <td>NaN</td>\n",
       "      <td>NaN</td>\n",
       "      <td>NaN</td>\n",
       "      <td>NaN</td>\n",
       "      <td>0.0</td>\n",
       "      <td>...</td>\n",
       "      <td>NaN</td>\n",
       "      <td>NaN</td>\n",
       "      <td>NaN</td>\n",
       "      <td>NaN</td>\n",
       "      <td>NaN</td>\n",
       "      <td>0.0</td>\n",
       "      <td>NaN</td>\n",
       "      <td>NaN</td>\n",
       "      <td>0.0</td>\n",
       "      <td>NaN</td>\n",
       "    </tr>\n",
       "    <tr>\n",
       "      <th>4 Blondes</th>\n",
       "      <td>NaN</td>\n",
       "      <td>NaN</td>\n",
       "      <td>NaN</td>\n",
       "      <td>NaN</td>\n",
       "      <td>NaN</td>\n",
       "      <td>NaN</td>\n",
       "      <td>NaN</td>\n",
       "      <td>0.0</td>\n",
       "      <td>NaN</td>\n",
       "      <td>NaN</td>\n",
       "      <td>...</td>\n",
       "      <td>NaN</td>\n",
       "      <td>NaN</td>\n",
       "      <td>NaN</td>\n",
       "      <td>NaN</td>\n",
       "      <td>NaN</td>\n",
       "      <td>NaN</td>\n",
       "      <td>NaN</td>\n",
       "      <td>NaN</td>\n",
       "      <td>NaN</td>\n",
       "      <td>NaN</td>\n",
       "    </tr>\n",
       "    <tr>\n",
       "      <th>A Bend in the Road</th>\n",
       "      <td>0.0</td>\n",
       "      <td>NaN</td>\n",
       "      <td>7.0</td>\n",
       "      <td>NaN</td>\n",
       "      <td>NaN</td>\n",
       "      <td>NaN</td>\n",
       "      <td>NaN</td>\n",
       "      <td>NaN</td>\n",
       "      <td>NaN</td>\n",
       "      <td>NaN</td>\n",
       "      <td>...</td>\n",
       "      <td>NaN</td>\n",
       "      <td>0.0</td>\n",
       "      <td>NaN</td>\n",
       "      <td>NaN</td>\n",
       "      <td>NaN</td>\n",
       "      <td>NaN</td>\n",
       "      <td>NaN</td>\n",
       "      <td>NaN</td>\n",
       "      <td>NaN</td>\n",
       "      <td>NaN</td>\n",
       "    </tr>\n",
       "    <tr>\n",
       "      <th>...</th>\n",
       "      <td>...</td>\n",
       "      <td>...</td>\n",
       "      <td>...</td>\n",
       "      <td>...</td>\n",
       "      <td>...</td>\n",
       "      <td>...</td>\n",
       "      <td>...</td>\n",
       "      <td>...</td>\n",
       "      <td>...</td>\n",
       "      <td>...</td>\n",
       "      <td>...</td>\n",
       "      <td>...</td>\n",
       "      <td>...</td>\n",
       "      <td>...</td>\n",
       "      <td>...</td>\n",
       "      <td>...</td>\n",
       "      <td>...</td>\n",
       "      <td>...</td>\n",
       "      <td>...</td>\n",
       "      <td>...</td>\n",
       "      <td>...</td>\n",
       "    </tr>\n",
       "    <tr>\n",
       "      <th>Year of Wonders</th>\n",
       "      <td>NaN</td>\n",
       "      <td>NaN</td>\n",
       "      <td>NaN</td>\n",
       "      <td>7.0</td>\n",
       "      <td>NaN</td>\n",
       "      <td>NaN</td>\n",
       "      <td>NaN</td>\n",
       "      <td>NaN</td>\n",
       "      <td>NaN</td>\n",
       "      <td>0.0</td>\n",
       "      <td>...</td>\n",
       "      <td>NaN</td>\n",
       "      <td>9.0</td>\n",
       "      <td>NaN</td>\n",
       "      <td>NaN</td>\n",
       "      <td>NaN</td>\n",
       "      <td>NaN</td>\n",
       "      <td>0.0</td>\n",
       "      <td>NaN</td>\n",
       "      <td>NaN</td>\n",
       "      <td>NaN</td>\n",
       "    </tr>\n",
       "    <tr>\n",
       "      <th>You Belong To Me</th>\n",
       "      <td>NaN</td>\n",
       "      <td>NaN</td>\n",
       "      <td>NaN</td>\n",
       "      <td>NaN</td>\n",
       "      <td>NaN</td>\n",
       "      <td>NaN</td>\n",
       "      <td>NaN</td>\n",
       "      <td>NaN</td>\n",
       "      <td>0.0</td>\n",
       "      <td>NaN</td>\n",
       "      <td>...</td>\n",
       "      <td>NaN</td>\n",
       "      <td>NaN</td>\n",
       "      <td>NaN</td>\n",
       "      <td>NaN</td>\n",
       "      <td>NaN</td>\n",
       "      <td>NaN</td>\n",
       "      <td>NaN</td>\n",
       "      <td>NaN</td>\n",
       "      <td>NaN</td>\n",
       "      <td>NaN</td>\n",
       "    </tr>\n",
       "    <tr>\n",
       "      <th>Zen and the Art of Motorcycle Maintenance: An Inquiry into Values</th>\n",
       "      <td>NaN</td>\n",
       "      <td>NaN</td>\n",
       "      <td>NaN</td>\n",
       "      <td>NaN</td>\n",
       "      <td>0.0</td>\n",
       "      <td>NaN</td>\n",
       "      <td>NaN</td>\n",
       "      <td>0.0</td>\n",
       "      <td>NaN</td>\n",
       "      <td>NaN</td>\n",
       "      <td>...</td>\n",
       "      <td>NaN</td>\n",
       "      <td>NaN</td>\n",
       "      <td>NaN</td>\n",
       "      <td>NaN</td>\n",
       "      <td>NaN</td>\n",
       "      <td>NaN</td>\n",
       "      <td>0.0</td>\n",
       "      <td>NaN</td>\n",
       "      <td>NaN</td>\n",
       "      <td>NaN</td>\n",
       "    </tr>\n",
       "    <tr>\n",
       "      <th>Zoya</th>\n",
       "      <td>NaN</td>\n",
       "      <td>NaN</td>\n",
       "      <td>NaN</td>\n",
       "      <td>NaN</td>\n",
       "      <td>NaN</td>\n",
       "      <td>NaN</td>\n",
       "      <td>NaN</td>\n",
       "      <td>NaN</td>\n",
       "      <td>NaN</td>\n",
       "      <td>NaN</td>\n",
       "      <td>...</td>\n",
       "      <td>NaN</td>\n",
       "      <td>0.0</td>\n",
       "      <td>NaN</td>\n",
       "      <td>NaN</td>\n",
       "      <td>NaN</td>\n",
       "      <td>NaN</td>\n",
       "      <td>NaN</td>\n",
       "      <td>NaN</td>\n",
       "      <td>NaN</td>\n",
       "      <td>NaN</td>\n",
       "    </tr>\n",
       "    <tr>\n",
       "      <th>\\O\\\" Is for Outlaw\"</th>\n",
       "      <td>NaN</td>\n",
       "      <td>NaN</td>\n",
       "      <td>NaN</td>\n",
       "      <td>NaN</td>\n",
       "      <td>NaN</td>\n",
       "      <td>NaN</td>\n",
       "      <td>NaN</td>\n",
       "      <td>NaN</td>\n",
       "      <td>NaN</td>\n",
       "      <td>NaN</td>\n",
       "      <td>...</td>\n",
       "      <td>NaN</td>\n",
       "      <td>NaN</td>\n",
       "      <td>NaN</td>\n",
       "      <td>NaN</td>\n",
       "      <td>8.0</td>\n",
       "      <td>NaN</td>\n",
       "      <td>NaN</td>\n",
       "      <td>NaN</td>\n",
       "      <td>NaN</td>\n",
       "      <td>NaN</td>\n",
       "    </tr>\n",
       "  </tbody>\n",
       "</table>\n",
       "<p>706 rows × 810 columns</p>\n",
       "</div>"
      ],
      "text/plain": [
       "User_ID                                             254     2276    2766    \\\n",
       "Book_Title                                                                   \n",
       "1984                                                   9.0     NaN     NaN   \n",
       "1st to Die: A Novel                                    NaN     NaN     NaN   \n",
       "2nd Chance                                             NaN    10.0     NaN   \n",
       "4 Blondes                                              NaN     NaN     NaN   \n",
       "A Bend in the Road                                     0.0     NaN     7.0   \n",
       "...                                                    ...     ...     ...   \n",
       "Year of Wonders                                        NaN     NaN     NaN   \n",
       "You Belong To Me                                       NaN     NaN     NaN   \n",
       "Zen and the Art of Motorcycle Maintenance: An I...     NaN     NaN     NaN   \n",
       "Zoya                                                   NaN     NaN     NaN   \n",
       "\\O\\\" Is for Outlaw\"                                    NaN     NaN     NaN   \n",
       "\n",
       "User_ID                                             2977    3363    4017    \\\n",
       "Book_Title                                                                   \n",
       "1984                                                   NaN     NaN     NaN   \n",
       "1st to Die: A Novel                                    NaN     NaN     NaN   \n",
       "2nd Chance                                             NaN     NaN     NaN   \n",
       "4 Blondes                                              NaN     NaN     NaN   \n",
       "A Bend in the Road                                     NaN     NaN     NaN   \n",
       "...                                                    ...     ...     ...   \n",
       "Year of Wonders                                        7.0     NaN     NaN   \n",
       "You Belong To Me                                       NaN     NaN     NaN   \n",
       "Zen and the Art of Motorcycle Maintenance: An I...     NaN     0.0     NaN   \n",
       "Zoya                                                   NaN     NaN     NaN   \n",
       "\\O\\\" Is for Outlaw\"                                    NaN     NaN     NaN   \n",
       "\n",
       "User_ID                                             4385    6251    6323    \\\n",
       "Book_Title                                                                   \n",
       "1984                                                   NaN     NaN     NaN   \n",
       "1st to Die: A Novel                                    NaN     NaN     NaN   \n",
       "2nd Chance                                             NaN     NaN     NaN   \n",
       "4 Blondes                                              NaN     0.0     NaN   \n",
       "A Bend in the Road                                     NaN     NaN     NaN   \n",
       "...                                                    ...     ...     ...   \n",
       "Year of Wonders                                        NaN     NaN     NaN   \n",
       "You Belong To Me                                       NaN     NaN     0.0   \n",
       "Zen and the Art of Motorcycle Maintenance: An I...     NaN     0.0     NaN   \n",
       "Zoya                                                   NaN     NaN     NaN   \n",
       "\\O\\\" Is for Outlaw\"                                    NaN     NaN     NaN   \n",
       "\n",
       "User_ID                                             6543    ...  271705  \\\n",
       "Book_Title                                                  ...           \n",
       "1984                                                   NaN  ...    10.0   \n",
       "1st to Die: A Novel                                    9.0  ...     NaN   \n",
       "2nd Chance                                             0.0  ...     NaN   \n",
       "4 Blondes                                              NaN  ...     NaN   \n",
       "A Bend in the Road                                     NaN  ...     NaN   \n",
       "...                                                    ...  ...     ...   \n",
       "Year of Wonders                                        0.0  ...     NaN   \n",
       "You Belong To Me                                       NaN  ...     NaN   \n",
       "Zen and the Art of Motorcycle Maintenance: An I...     NaN  ...     NaN   \n",
       "Zoya                                                   NaN  ...     NaN   \n",
       "\\O\\\" Is for Outlaw\"                                    NaN  ...     NaN   \n",
       "\n",
       "User_ID                                             273979  274004  274061  \\\n",
       "Book_Title                                                                   \n",
       "1984                                                   NaN     NaN     NaN   \n",
       "1st to Die: A Novel                                    NaN     NaN     NaN   \n",
       "2nd Chance                                             NaN     NaN     NaN   \n",
       "4 Blondes                                              NaN     NaN     NaN   \n",
       "A Bend in the Road                                     0.0     NaN     NaN   \n",
       "...                                                    ...     ...     ...   \n",
       "Year of Wonders                                        9.0     NaN     NaN   \n",
       "You Belong To Me                                       NaN     NaN     NaN   \n",
       "Zen and the Art of Motorcycle Maintenance: An I...     NaN     NaN     NaN   \n",
       "Zoya                                                   0.0     NaN     NaN   \n",
       "\\O\\\" Is for Outlaw\"                                    NaN     NaN     NaN   \n",
       "\n",
       "User_ID                                             274301  274308  275970  \\\n",
       "Book_Title                                                                   \n",
       "1984                                                   NaN     NaN     0.0   \n",
       "1st to Die: A Novel                                    NaN     NaN     NaN   \n",
       "2nd Chance                                             NaN     0.0     NaN   \n",
       "4 Blondes                                              NaN     NaN     NaN   \n",
       "A Bend in the Road                                     NaN     NaN     NaN   \n",
       "...                                                    ...     ...     ...   \n",
       "Year of Wonders                                        NaN     NaN     0.0   \n",
       "You Belong To Me                                       NaN     NaN     NaN   \n",
       "Zen and the Art of Motorcycle Maintenance: An I...     NaN     NaN     0.0   \n",
       "Zoya                                                   NaN     NaN     NaN   \n",
       "\\O\\\" Is for Outlaw\"                                    8.0     NaN     NaN   \n",
       "\n",
       "User_ID                                             277427  277639  278418  \n",
       "Book_Title                                                                  \n",
       "1984                                                   NaN     NaN     NaN  \n",
       "1st to Die: A Novel                                    NaN     NaN     NaN  \n",
       "2nd Chance                                             NaN     0.0     NaN  \n",
       "4 Blondes                                              NaN     NaN     NaN  \n",
       "A Bend in the Road                                     NaN     NaN     NaN  \n",
       "...                                                    ...     ...     ...  \n",
       "Year of Wonders                                        NaN     NaN     NaN  \n",
       "You Belong To Me                                       NaN     NaN     NaN  \n",
       "Zen and the Art of Motorcycle Maintenance: An I...     NaN     NaN     NaN  \n",
       "Zoya                                                   NaN     NaN     NaN  \n",
       "\\O\\\" Is for Outlaw\"                                    NaN     NaN     NaN  \n",
       "\n",
       "[706 rows x 810 columns]"
      ]
     },
     "execution_count": 76,
     "metadata": {},
     "output_type": "execute_result"
    }
   ],
   "source": [
    "# Piot the DataFrame to create a user-item matrix\n",
    "# Rows are 'Book_Title', columns are 'User_ID', and the values are 'Book_Rating'\n",
    "\n",
    "user_item_matrix = final_ratings.pivot_table(columns ='User_ID', index = 'Book_Title', values = 'Book_Rating')\n",
    "\n",
    "user_item_matrix"
   ]
  },
  {
   "cell_type": "code",
   "execution_count": 77,
   "id": "0b4caec3-a25a-4633-8923-ba57e9c71318",
   "metadata": {},
   "outputs": [
    {
     "data": {
      "text/html": [
       "<div>\n",
       "<style scoped>\n",
       "    .dataframe tbody tr th:only-of-type {\n",
       "        vertical-align: middle;\n",
       "    }\n",
       "\n",
       "    .dataframe tbody tr th {\n",
       "        vertical-align: top;\n",
       "    }\n",
       "\n",
       "    .dataframe thead th {\n",
       "        text-align: right;\n",
       "    }\n",
       "</style>\n",
       "<table border=\"1\" class=\"dataframe\">\n",
       "  <thead>\n",
       "    <tr style=\"text-align: right;\">\n",
       "      <th>User_ID</th>\n",
       "      <th>254</th>\n",
       "      <th>2276</th>\n",
       "      <th>2766</th>\n",
       "      <th>2977</th>\n",
       "      <th>3363</th>\n",
       "      <th>4017</th>\n",
       "      <th>4385</th>\n",
       "      <th>6251</th>\n",
       "      <th>6323</th>\n",
       "      <th>6543</th>\n",
       "      <th>...</th>\n",
       "      <th>271705</th>\n",
       "      <th>273979</th>\n",
       "      <th>274004</th>\n",
       "      <th>274061</th>\n",
       "      <th>274301</th>\n",
       "      <th>274308</th>\n",
       "      <th>275970</th>\n",
       "      <th>277427</th>\n",
       "      <th>277639</th>\n",
       "      <th>278418</th>\n",
       "    </tr>\n",
       "    <tr>\n",
       "      <th>Book_Title</th>\n",
       "      <th></th>\n",
       "      <th></th>\n",
       "      <th></th>\n",
       "      <th></th>\n",
       "      <th></th>\n",
       "      <th></th>\n",
       "      <th></th>\n",
       "      <th></th>\n",
       "      <th></th>\n",
       "      <th></th>\n",
       "      <th></th>\n",
       "      <th></th>\n",
       "      <th></th>\n",
       "      <th></th>\n",
       "      <th></th>\n",
       "      <th></th>\n",
       "      <th></th>\n",
       "      <th></th>\n",
       "      <th></th>\n",
       "      <th></th>\n",
       "      <th></th>\n",
       "    </tr>\n",
       "  </thead>\n",
       "  <tbody>\n",
       "    <tr>\n",
       "      <th>1984</th>\n",
       "      <td>9.0</td>\n",
       "      <td>0.0</td>\n",
       "      <td>0.0</td>\n",
       "      <td>0.0</td>\n",
       "      <td>0.0</td>\n",
       "      <td>0.0</td>\n",
       "      <td>0.0</td>\n",
       "      <td>0.0</td>\n",
       "      <td>0.0</td>\n",
       "      <td>0.0</td>\n",
       "      <td>...</td>\n",
       "      <td>10.0</td>\n",
       "      <td>0.0</td>\n",
       "      <td>0.0</td>\n",
       "      <td>0.0</td>\n",
       "      <td>0.0</td>\n",
       "      <td>0.0</td>\n",
       "      <td>0.0</td>\n",
       "      <td>0.0</td>\n",
       "      <td>0.0</td>\n",
       "      <td>0.0</td>\n",
       "    </tr>\n",
       "    <tr>\n",
       "      <th>1st to Die: A Novel</th>\n",
       "      <td>0.0</td>\n",
       "      <td>0.0</td>\n",
       "      <td>0.0</td>\n",
       "      <td>0.0</td>\n",
       "      <td>0.0</td>\n",
       "      <td>0.0</td>\n",
       "      <td>0.0</td>\n",
       "      <td>0.0</td>\n",
       "      <td>0.0</td>\n",
       "      <td>9.0</td>\n",
       "      <td>...</td>\n",
       "      <td>0.0</td>\n",
       "      <td>0.0</td>\n",
       "      <td>0.0</td>\n",
       "      <td>0.0</td>\n",
       "      <td>0.0</td>\n",
       "      <td>0.0</td>\n",
       "      <td>0.0</td>\n",
       "      <td>0.0</td>\n",
       "      <td>0.0</td>\n",
       "      <td>0.0</td>\n",
       "    </tr>\n",
       "    <tr>\n",
       "      <th>2nd Chance</th>\n",
       "      <td>0.0</td>\n",
       "      <td>10.0</td>\n",
       "      <td>0.0</td>\n",
       "      <td>0.0</td>\n",
       "      <td>0.0</td>\n",
       "      <td>0.0</td>\n",
       "      <td>0.0</td>\n",
       "      <td>0.0</td>\n",
       "      <td>0.0</td>\n",
       "      <td>0.0</td>\n",
       "      <td>...</td>\n",
       "      <td>0.0</td>\n",
       "      <td>0.0</td>\n",
       "      <td>0.0</td>\n",
       "      <td>0.0</td>\n",
       "      <td>0.0</td>\n",
       "      <td>0.0</td>\n",
       "      <td>0.0</td>\n",
       "      <td>0.0</td>\n",
       "      <td>0.0</td>\n",
       "      <td>0.0</td>\n",
       "    </tr>\n",
       "    <tr>\n",
       "      <th>4 Blondes</th>\n",
       "      <td>0.0</td>\n",
       "      <td>0.0</td>\n",
       "      <td>0.0</td>\n",
       "      <td>0.0</td>\n",
       "      <td>0.0</td>\n",
       "      <td>0.0</td>\n",
       "      <td>0.0</td>\n",
       "      <td>0.0</td>\n",
       "      <td>0.0</td>\n",
       "      <td>0.0</td>\n",
       "      <td>...</td>\n",
       "      <td>0.0</td>\n",
       "      <td>0.0</td>\n",
       "      <td>0.0</td>\n",
       "      <td>0.0</td>\n",
       "      <td>0.0</td>\n",
       "      <td>0.0</td>\n",
       "      <td>0.0</td>\n",
       "      <td>0.0</td>\n",
       "      <td>0.0</td>\n",
       "      <td>0.0</td>\n",
       "    </tr>\n",
       "    <tr>\n",
       "      <th>A Bend in the Road</th>\n",
       "      <td>0.0</td>\n",
       "      <td>0.0</td>\n",
       "      <td>7.0</td>\n",
       "      <td>0.0</td>\n",
       "      <td>0.0</td>\n",
       "      <td>0.0</td>\n",
       "      <td>0.0</td>\n",
       "      <td>0.0</td>\n",
       "      <td>0.0</td>\n",
       "      <td>0.0</td>\n",
       "      <td>...</td>\n",
       "      <td>0.0</td>\n",
       "      <td>0.0</td>\n",
       "      <td>0.0</td>\n",
       "      <td>0.0</td>\n",
       "      <td>0.0</td>\n",
       "      <td>0.0</td>\n",
       "      <td>0.0</td>\n",
       "      <td>0.0</td>\n",
       "      <td>0.0</td>\n",
       "      <td>0.0</td>\n",
       "    </tr>\n",
       "    <tr>\n",
       "      <th>...</th>\n",
       "      <td>...</td>\n",
       "      <td>...</td>\n",
       "      <td>...</td>\n",
       "      <td>...</td>\n",
       "      <td>...</td>\n",
       "      <td>...</td>\n",
       "      <td>...</td>\n",
       "      <td>...</td>\n",
       "      <td>...</td>\n",
       "      <td>...</td>\n",
       "      <td>...</td>\n",
       "      <td>...</td>\n",
       "      <td>...</td>\n",
       "      <td>...</td>\n",
       "      <td>...</td>\n",
       "      <td>...</td>\n",
       "      <td>...</td>\n",
       "      <td>...</td>\n",
       "      <td>...</td>\n",
       "      <td>...</td>\n",
       "      <td>...</td>\n",
       "    </tr>\n",
       "    <tr>\n",
       "      <th>Year of Wonders</th>\n",
       "      <td>0.0</td>\n",
       "      <td>0.0</td>\n",
       "      <td>0.0</td>\n",
       "      <td>7.0</td>\n",
       "      <td>0.0</td>\n",
       "      <td>0.0</td>\n",
       "      <td>0.0</td>\n",
       "      <td>0.0</td>\n",
       "      <td>0.0</td>\n",
       "      <td>0.0</td>\n",
       "      <td>...</td>\n",
       "      <td>0.0</td>\n",
       "      <td>9.0</td>\n",
       "      <td>0.0</td>\n",
       "      <td>0.0</td>\n",
       "      <td>0.0</td>\n",
       "      <td>0.0</td>\n",
       "      <td>0.0</td>\n",
       "      <td>0.0</td>\n",
       "      <td>0.0</td>\n",
       "      <td>0.0</td>\n",
       "    </tr>\n",
       "    <tr>\n",
       "      <th>You Belong To Me</th>\n",
       "      <td>0.0</td>\n",
       "      <td>0.0</td>\n",
       "      <td>0.0</td>\n",
       "      <td>0.0</td>\n",
       "      <td>0.0</td>\n",
       "      <td>0.0</td>\n",
       "      <td>0.0</td>\n",
       "      <td>0.0</td>\n",
       "      <td>0.0</td>\n",
       "      <td>0.0</td>\n",
       "      <td>...</td>\n",
       "      <td>0.0</td>\n",
       "      <td>0.0</td>\n",
       "      <td>0.0</td>\n",
       "      <td>0.0</td>\n",
       "      <td>0.0</td>\n",
       "      <td>0.0</td>\n",
       "      <td>0.0</td>\n",
       "      <td>0.0</td>\n",
       "      <td>0.0</td>\n",
       "      <td>0.0</td>\n",
       "    </tr>\n",
       "    <tr>\n",
       "      <th>Zen and the Art of Motorcycle Maintenance: An Inquiry into Values</th>\n",
       "      <td>0.0</td>\n",
       "      <td>0.0</td>\n",
       "      <td>0.0</td>\n",
       "      <td>0.0</td>\n",
       "      <td>0.0</td>\n",
       "      <td>0.0</td>\n",
       "      <td>0.0</td>\n",
       "      <td>0.0</td>\n",
       "      <td>0.0</td>\n",
       "      <td>0.0</td>\n",
       "      <td>...</td>\n",
       "      <td>0.0</td>\n",
       "      <td>0.0</td>\n",
       "      <td>0.0</td>\n",
       "      <td>0.0</td>\n",
       "      <td>0.0</td>\n",
       "      <td>0.0</td>\n",
       "      <td>0.0</td>\n",
       "      <td>0.0</td>\n",
       "      <td>0.0</td>\n",
       "      <td>0.0</td>\n",
       "    </tr>\n",
       "    <tr>\n",
       "      <th>Zoya</th>\n",
       "      <td>0.0</td>\n",
       "      <td>0.0</td>\n",
       "      <td>0.0</td>\n",
       "      <td>0.0</td>\n",
       "      <td>0.0</td>\n",
       "      <td>0.0</td>\n",
       "      <td>0.0</td>\n",
       "      <td>0.0</td>\n",
       "      <td>0.0</td>\n",
       "      <td>0.0</td>\n",
       "      <td>...</td>\n",
       "      <td>0.0</td>\n",
       "      <td>0.0</td>\n",
       "      <td>0.0</td>\n",
       "      <td>0.0</td>\n",
       "      <td>0.0</td>\n",
       "      <td>0.0</td>\n",
       "      <td>0.0</td>\n",
       "      <td>0.0</td>\n",
       "      <td>0.0</td>\n",
       "      <td>0.0</td>\n",
       "    </tr>\n",
       "    <tr>\n",
       "      <th>\\O\\\" Is for Outlaw\"</th>\n",
       "      <td>0.0</td>\n",
       "      <td>0.0</td>\n",
       "      <td>0.0</td>\n",
       "      <td>0.0</td>\n",
       "      <td>0.0</td>\n",
       "      <td>0.0</td>\n",
       "      <td>0.0</td>\n",
       "      <td>0.0</td>\n",
       "      <td>0.0</td>\n",
       "      <td>0.0</td>\n",
       "      <td>...</td>\n",
       "      <td>0.0</td>\n",
       "      <td>0.0</td>\n",
       "      <td>0.0</td>\n",
       "      <td>0.0</td>\n",
       "      <td>8.0</td>\n",
       "      <td>0.0</td>\n",
       "      <td>0.0</td>\n",
       "      <td>0.0</td>\n",
       "      <td>0.0</td>\n",
       "      <td>0.0</td>\n",
       "    </tr>\n",
       "  </tbody>\n",
       "</table>\n",
       "<p>706 rows × 810 columns</p>\n",
       "</div>"
      ],
      "text/plain": [
       "User_ID                                             254     2276    2766    \\\n",
       "Book_Title                                                                   \n",
       "1984                                                   9.0     0.0     0.0   \n",
       "1st to Die: A Novel                                    0.0     0.0     0.0   \n",
       "2nd Chance                                             0.0    10.0     0.0   \n",
       "4 Blondes                                              0.0     0.0     0.0   \n",
       "A Bend in the Road                                     0.0     0.0     7.0   \n",
       "...                                                    ...     ...     ...   \n",
       "Year of Wonders                                        0.0     0.0     0.0   \n",
       "You Belong To Me                                       0.0     0.0     0.0   \n",
       "Zen and the Art of Motorcycle Maintenance: An I...     0.0     0.0     0.0   \n",
       "Zoya                                                   0.0     0.0     0.0   \n",
       "\\O\\\" Is for Outlaw\"                                    0.0     0.0     0.0   \n",
       "\n",
       "User_ID                                             2977    3363    4017    \\\n",
       "Book_Title                                                                   \n",
       "1984                                                   0.0     0.0     0.0   \n",
       "1st to Die: A Novel                                    0.0     0.0     0.0   \n",
       "2nd Chance                                             0.0     0.0     0.0   \n",
       "4 Blondes                                              0.0     0.0     0.0   \n",
       "A Bend in the Road                                     0.0     0.0     0.0   \n",
       "...                                                    ...     ...     ...   \n",
       "Year of Wonders                                        7.0     0.0     0.0   \n",
       "You Belong To Me                                       0.0     0.0     0.0   \n",
       "Zen and the Art of Motorcycle Maintenance: An I...     0.0     0.0     0.0   \n",
       "Zoya                                                   0.0     0.0     0.0   \n",
       "\\O\\\" Is for Outlaw\"                                    0.0     0.0     0.0   \n",
       "\n",
       "User_ID                                             4385    6251    6323    \\\n",
       "Book_Title                                                                   \n",
       "1984                                                   0.0     0.0     0.0   \n",
       "1st to Die: A Novel                                    0.0     0.0     0.0   \n",
       "2nd Chance                                             0.0     0.0     0.0   \n",
       "4 Blondes                                              0.0     0.0     0.0   \n",
       "A Bend in the Road                                     0.0     0.0     0.0   \n",
       "...                                                    ...     ...     ...   \n",
       "Year of Wonders                                        0.0     0.0     0.0   \n",
       "You Belong To Me                                       0.0     0.0     0.0   \n",
       "Zen and the Art of Motorcycle Maintenance: An I...     0.0     0.0     0.0   \n",
       "Zoya                                                   0.0     0.0     0.0   \n",
       "\\O\\\" Is for Outlaw\"                                    0.0     0.0     0.0   \n",
       "\n",
       "User_ID                                             6543    ...  271705  \\\n",
       "Book_Title                                                  ...           \n",
       "1984                                                   0.0  ...    10.0   \n",
       "1st to Die: A Novel                                    9.0  ...     0.0   \n",
       "2nd Chance                                             0.0  ...     0.0   \n",
       "4 Blondes                                              0.0  ...     0.0   \n",
       "A Bend in the Road                                     0.0  ...     0.0   \n",
       "...                                                    ...  ...     ...   \n",
       "Year of Wonders                                        0.0  ...     0.0   \n",
       "You Belong To Me                                       0.0  ...     0.0   \n",
       "Zen and the Art of Motorcycle Maintenance: An I...     0.0  ...     0.0   \n",
       "Zoya                                                   0.0  ...     0.0   \n",
       "\\O\\\" Is for Outlaw\"                                    0.0  ...     0.0   \n",
       "\n",
       "User_ID                                             273979  274004  274061  \\\n",
       "Book_Title                                                                   \n",
       "1984                                                   0.0     0.0     0.0   \n",
       "1st to Die: A Novel                                    0.0     0.0     0.0   \n",
       "2nd Chance                                             0.0     0.0     0.0   \n",
       "4 Blondes                                              0.0     0.0     0.0   \n",
       "A Bend in the Road                                     0.0     0.0     0.0   \n",
       "...                                                    ...     ...     ...   \n",
       "Year of Wonders                                        9.0     0.0     0.0   \n",
       "You Belong To Me                                       0.0     0.0     0.0   \n",
       "Zen and the Art of Motorcycle Maintenance: An I...     0.0     0.0     0.0   \n",
       "Zoya                                                   0.0     0.0     0.0   \n",
       "\\O\\\" Is for Outlaw\"                                    0.0     0.0     0.0   \n",
       "\n",
       "User_ID                                             274301  274308  275970  \\\n",
       "Book_Title                                                                   \n",
       "1984                                                   0.0     0.0     0.0   \n",
       "1st to Die: A Novel                                    0.0     0.0     0.0   \n",
       "2nd Chance                                             0.0     0.0     0.0   \n",
       "4 Blondes                                              0.0     0.0     0.0   \n",
       "A Bend in the Road                                     0.0     0.0     0.0   \n",
       "...                                                    ...     ...     ...   \n",
       "Year of Wonders                                        0.0     0.0     0.0   \n",
       "You Belong To Me                                       0.0     0.0     0.0   \n",
       "Zen and the Art of Motorcycle Maintenance: An I...     0.0     0.0     0.0   \n",
       "Zoya                                                   0.0     0.0     0.0   \n",
       "\\O\\\" Is for Outlaw\"                                    8.0     0.0     0.0   \n",
       "\n",
       "User_ID                                             277427  277639  278418  \n",
       "Book_Title                                                                  \n",
       "1984                                                   0.0     0.0     0.0  \n",
       "1st to Die: A Novel                                    0.0     0.0     0.0  \n",
       "2nd Chance                                             0.0     0.0     0.0  \n",
       "4 Blondes                                              0.0     0.0     0.0  \n",
       "A Bend in the Road                                     0.0     0.0     0.0  \n",
       "...                                                    ...     ...     ...  \n",
       "Year of Wonders                                        0.0     0.0     0.0  \n",
       "You Belong To Me                                       0.0     0.0     0.0  \n",
       "Zen and the Art of Motorcycle Maintenance: An I...     0.0     0.0     0.0  \n",
       "Zoya                                                   0.0     0.0     0.0  \n",
       "\\O\\\" Is for Outlaw\"                                    0.0     0.0     0.0  \n",
       "\n",
       "[706 rows x 810 columns]"
      ]
     },
     "execution_count": 77,
     "metadata": {},
     "output_type": "execute_result"
    }
   ],
   "source": [
    "# Handling missing values (fill with 0)\n",
    "user_item_matrix_filled = user_item_matrix.fillna(0)\n",
    "\n",
    "user_item_matrix_filled"
   ]
  },
  {
   "cell_type": "markdown",
   "id": "51d60255-2b07-4198-8042-3d89f28dce06",
   "metadata": {},
   "source": [
    "<span style=\"color:brown; font-weight:bold; font-size:24px;\">\n",
    "Model Training</span>"
   ]
  },
  {
   "cell_type": "code",
   "execution_count": 78,
   "id": "88b033f5-a2fb-4313-be85-77aac33eb88f",
   "metadata": {},
   "outputs": [],
   "source": [
    "# Convert the filled user-item matrix to a sparse matrix format\n",
    "# This is efficient for storage and computation, especially with large matrices that contain many zeroes\n",
    "book_sparse = csr_matrix(user_item_matrix_filled)"
   ]
  },
  {
   "cell_type": "code",
   "execution_count": 79,
   "id": "f38506b7-a1e6-48f2-9281-29ac7fba37e6",
   "metadata": {},
   "outputs": [
    {
     "data": {
      "text/html": [
       "<style>#sk-container-id-1 {color: black;background-color: white;}#sk-container-id-1 pre{padding: 0;}#sk-container-id-1 div.sk-toggleable {background-color: white;}#sk-container-id-1 label.sk-toggleable__label {cursor: pointer;display: block;width: 100%;margin-bottom: 0;padding: 0.3em;box-sizing: border-box;text-align: center;}#sk-container-id-1 label.sk-toggleable__label-arrow:before {content: \"▸\";float: left;margin-right: 0.25em;color: #696969;}#sk-container-id-1 label.sk-toggleable__label-arrow:hover:before {color: black;}#sk-container-id-1 div.sk-estimator:hover label.sk-toggleable__label-arrow:before {color: black;}#sk-container-id-1 div.sk-toggleable__content {max-height: 0;max-width: 0;overflow: hidden;text-align: left;background-color: #f0f8ff;}#sk-container-id-1 div.sk-toggleable__content pre {margin: 0.2em;color: black;border-radius: 0.25em;background-color: #f0f8ff;}#sk-container-id-1 input.sk-toggleable__control:checked~div.sk-toggleable__content {max-height: 200px;max-width: 100%;overflow: auto;}#sk-container-id-1 input.sk-toggleable__control:checked~label.sk-toggleable__label-arrow:before {content: \"▾\";}#sk-container-id-1 div.sk-estimator input.sk-toggleable__control:checked~label.sk-toggleable__label {background-color: #d4ebff;}#sk-container-id-1 div.sk-label input.sk-toggleable__control:checked~label.sk-toggleable__label {background-color: #d4ebff;}#sk-container-id-1 input.sk-hidden--visually {border: 0;clip: rect(1px 1px 1px 1px);clip: rect(1px, 1px, 1px, 1px);height: 1px;margin: -1px;overflow: hidden;padding: 0;position: absolute;width: 1px;}#sk-container-id-1 div.sk-estimator {font-family: monospace;background-color: #f0f8ff;border: 1px dotted black;border-radius: 0.25em;box-sizing: border-box;margin-bottom: 0.5em;}#sk-container-id-1 div.sk-estimator:hover {background-color: #d4ebff;}#sk-container-id-1 div.sk-parallel-item::after {content: \"\";width: 100%;border-bottom: 1px solid gray;flex-grow: 1;}#sk-container-id-1 div.sk-label:hover label.sk-toggleable__label {background-color: #d4ebff;}#sk-container-id-1 div.sk-serial::before {content: \"\";position: absolute;border-left: 1px solid gray;box-sizing: border-box;top: 0;bottom: 0;left: 50%;z-index: 0;}#sk-container-id-1 div.sk-serial {display: flex;flex-direction: column;align-items: center;background-color: white;padding-right: 0.2em;padding-left: 0.2em;position: relative;}#sk-container-id-1 div.sk-item {position: relative;z-index: 1;}#sk-container-id-1 div.sk-parallel {display: flex;align-items: stretch;justify-content: center;background-color: white;position: relative;}#sk-container-id-1 div.sk-item::before, #sk-container-id-1 div.sk-parallel-item::before {content: \"\";position: absolute;border-left: 1px solid gray;box-sizing: border-box;top: 0;bottom: 0;left: 50%;z-index: -1;}#sk-container-id-1 div.sk-parallel-item {display: flex;flex-direction: column;z-index: 1;position: relative;background-color: white;}#sk-container-id-1 div.sk-parallel-item:first-child::after {align-self: flex-end;width: 50%;}#sk-container-id-1 div.sk-parallel-item:last-child::after {align-self: flex-start;width: 50%;}#sk-container-id-1 div.sk-parallel-item:only-child::after {width: 0;}#sk-container-id-1 div.sk-dashed-wrapped {border: 1px dashed gray;margin: 0 0.4em 0.5em 0.4em;box-sizing: border-box;padding-bottom: 0.4em;background-color: white;}#sk-container-id-1 div.sk-label label {font-family: monospace;font-weight: bold;display: inline-block;line-height: 1.2em;}#sk-container-id-1 div.sk-label-container {text-align: center;}#sk-container-id-1 div.sk-container {/* jupyter's `normalize.less` sets `[hidden] { display: none; }` but bootstrap.min.css set `[hidden] { display: none !important; }` so we also need the `!important` here to be able to override the default hidden behavior on the sphinx rendered scikit-learn.org. See: https://github.com/scikit-learn/scikit-learn/issues/21755 */display: inline-block !important;position: relative;}#sk-container-id-1 div.sk-text-repr-fallback {display: none;}</style><div id=\"sk-container-id-1\" class=\"sk-top-container\"><div class=\"sk-text-repr-fallback\"><pre>NearestNeighbors(algorithm=&#x27;brute&#x27;, metric=&#x27;cosine&#x27;)</pre><b>In a Jupyter environment, please rerun this cell to show the HTML representation or trust the notebook. <br />On GitHub, the HTML representation is unable to render, please try loading this page with nbviewer.org.</b></div><div class=\"sk-container\" hidden><div class=\"sk-item\"><div class=\"sk-estimator sk-toggleable\"><input class=\"sk-toggleable__control sk-hidden--visually\" id=\"sk-estimator-id-1\" type=\"checkbox\" checked><label for=\"sk-estimator-id-1\" class=\"sk-toggleable__label sk-toggleable__label-arrow\">NearestNeighbors</label><div class=\"sk-toggleable__content\"><pre>NearestNeighbors(algorithm=&#x27;brute&#x27;, metric=&#x27;cosine&#x27;)</pre></div></div></div></div></div>"
      ],
      "text/plain": [
       "NearestNeighbors(algorithm='brute', metric='cosine')"
      ]
     },
     "execution_count": 79,
     "metadata": {},
     "output_type": "execute_result"
    }
   ],
   "source": [
    "# Initialize the Nearest Neighbors model using the 'brute' algorithm and 'cosine' similarity as the metric\n",
    "# This unsupervised machine learning algorithm finds the nearest neighbors based on the cosine similarity\n",
    "\n",
    "model = NearestNeighbors(algorithm= 'brute', metric='cosine')\n",
    "model.fit(book_sparse)"
   ]
  },
  {
   "cell_type": "code",
   "execution_count": 80,
   "id": "11043881-09cf-41d5-b875-2e1c209f7bba",
   "metadata": {},
   "outputs": [
    {
     "name": "stdout",
     "output_type": "stream",
     "text": [
      "Distances: [[0.         0.67948966 0.70002088 0.71630418 0.71828125 0.72770943]]\n",
      "Suggestions (Indices): [[237 145 303 137  95  58]]\n"
     ]
    }
   ],
   "source": [
    "# Finding similar books using Nearest Neighbors\n",
    "distance, suggestion = model.kneighbors(user_item_matrix_filled.iloc[237,:].values.reshape(1,-1), n_neighbors=6)\n",
    "\n",
    "print(\"Distances:\", distance)\n",
    "print(\"Suggestions (Indices):\", suggestion)\n",
    "\n"
   ]
  },
  {
   "cell_type": "code",
   "execution_count": 81,
   "id": "c5b33ed4-c139-47e5-a25a-e2669ed401c2",
   "metadata": {},
   "outputs": [
    {
     "name": "stdout",
     "output_type": "stream",
     "text": [
      "Suggested Books for User at Index 241:\n",
      "Index(['Hearts In Atlantis', 'Desperation', 'Lightning',\n",
      "       'Dark Rivers of the Heart', 'Carrie', 'Bag of Bones'],\n",
      "      dtype='object', name='Book_Title')\n"
     ]
    }
   ],
   "source": [
    "# Show the titles corresponding to the suggestions\n",
    "\n",
    "print(\"Suggested Books for User at Index 241:\")\n",
    "print(user_item_matrix_filled.index[suggestion[0]])"
   ]
  },
  {
   "cell_type": "code",
   "execution_count": 82,
   "id": "3465d656-1d56-4f72-80b1-07f22697d144",
   "metadata": {},
   "outputs": [],
   "source": [
    "# Keeping a List of Book Titles\n",
    "book_names = user_item_matrix_filled.index"
   ]
  },
  {
   "cell_type": "code",
   "execution_count": 84,
   "id": "abae3712-d176-4ee0-ad5b-576826eefdb3",
   "metadata": {},
   "outputs": [
    {
     "name": "stdout",
     "output_type": "stream",
     "text": [
      "Index of '4 Blondes' : 3\n"
     ]
    }
   ],
   "source": [
    "# Find the index of a specific book\n",
    "\n",
    "book_idx = np.where(user_item_matrix_filled.index == '4 Blondes')[0][0]\n",
    "print(f\"Index of '4 Blondes' : {book_idx}\")"
   ]
  },
  {
   "cell_type": "code",
   "execution_count": 85,
   "id": "d70cac7b-dce4-4f41-b0eb-59a4dd46cedb",
   "metadata": {},
   "outputs": [
    {
     "name": "stdout",
     "output_type": "stream",
     "text": [
      "Image URL for 'Harry Potter and the Chamber of Secrets (Book 2)': http://images.amazon.com/images/P/0439064872.01.LZZZZZZZ.jpg\n"
     ]
    }
   ],
   "source": [
    "# Find the URL of a specific book\n",
    "# Assume final_ratings dataframe has a 'Book_Title' and 'Image_URL_Large' columns\n",
    "\n",
    "book_title = 'Harry Potter and the Chamber of Secrets (Book 2)'\n",
    "\n",
    "ids = np.where(final_ratings['Book_Title'] == book_title)[0][0]\n",
    "image_url = final_ratings.iloc[ids]['Image_URL_Large']\n",
    "print(f\"Image URL for '{book_title}': {image_url}\")"
   ]
  },
  {
   "cell_type": "code",
   "execution_count": 87,
   "id": "f86418bd-0c85-47e8-8d22-8e4abb963e45",
   "metadata": {},
   "outputs": [],
   "source": [
    "# Get URLs of Suggested books\n",
    "\n",
    "book_name_list = []\n",
    "for book_id in suggestion[0]:\n",
    "    book_name_list.append(user_item_matrix_filled.index[book_id])"
   ]
  },
  {
   "cell_type": "code",
   "execution_count": 88,
   "id": "fb5f62ff-5014-40d2-a0da-f58303582828",
   "metadata": {},
   "outputs": [],
   "source": [
    "# Finding the image URLs of these book titles\n",
    "\n",
    "ids_index = []\n",
    "for name in book_name_list:\n",
    "    ids = np.where(final_ratings['Book_Title'] == name)[0][0]\n",
    "    ids_index.append(ids)"
   ]
  },
  {
   "cell_type": "code",
   "execution_count": 89,
   "id": "6e7b6fef-5852-42c5-933e-8e469aef0e85",
   "metadata": {},
   "outputs": [
    {
     "name": "stdout",
     "output_type": "stream",
     "text": [
      "Image URL for 'Hearts In Atlantis': http://images.amazon.com/images/P/0671024248.01.LZZZZZZZ.jpg\n",
      "Image URL for 'Desperation': http://images.amazon.com/images/P/0451188462.01.LZZZZZZZ.jpg\n",
      "Image URL for 'Lightning': http://images.amazon.com/images/P/0425115801.01.LZZZZZZZ.jpg\n",
      "Image URL for 'Dark Rivers of the Heart': http://images.amazon.com/images/P/034539657X.01.LZZZZZZZ.jpg\n",
      "Image URL for 'Carrie': http://images.amazon.com/images/P/0451157443.01.LZZZZZZZ.jpg\n",
      "Image URL for 'Bag of Bones': http://images.amazon.com/images/P/067102423X.01.LZZZZZZZ.jpg\n"
     ]
    }
   ],
   "source": [
    "for idx in ids_index:\n",
    "    url = final_ratings.iloc[idx]['Image_URL_Large']\n",
    "    print(f\"Image URL for '{final_ratings.iloc[idx]['Book_Title']}': {url}\")"
   ]
  },
  {
   "cell_type": "code",
   "execution_count": 91,
   "id": "63e6e102-7c3f-4c8c-b5af-0c6fb1318f4c",
   "metadata": {},
   "outputs": [
    {
     "name": "stdout",
     "output_type": "stream",
     "text": [
      "You searched for 'Harry Potter and the Chamber of Secrets (Book 2)'\n",
      "\n",
      "The suggested books are:\n",
      "\n",
      "Harry Potter and the Prisoner of Azkaban (Book 3)\n",
      "Harry Potter and the Goblet of Fire (Book 4)\n",
      "Harry Potter and the Sorcerer's Stone (Harry Potter (Paperback))\n",
      "Harry Potter and the Sorcerer's Stone (Book 1)\n",
      "Harry Potter and the Order of the Phoenix (Book 5)\n"
     ]
    }
   ],
   "source": [
    "# Defining a Function to recommend Books\n",
    "\n",
    "def recommend_book(book_name):\n",
    "    book_id = np.where(user_item_matrix_filled.index == book_name)[0][0]\n",
    "    distance, suggestion = model.kneighbors(user_item_matrix_filled.iloc[book_id, :].values.reshape(1,-1), n_neighbors=6)\n",
    "    print(f\"You searched for '{book_name}'\\n\")\n",
    "    print(\"The suggested books are:\\n\")\n",
    "    for i in range(len(suggestion)):\n",
    "        books = user_item_matrix_filled.index[suggestion[i]]\n",
    "        for j in books:\n",
    "            if j != book_name:\n",
    "                print(j)\n",
    "\n",
    "# Example: Recommend books similar to \"Harry Potter and the Chamber of Secrets (Book 2)\"\n",
    "\n",
    "book_name = \"Harry Potter and the Chamber of Secrets (Book 2)\"\n",
    "recommend_book(book_name)\n"
   ]
  },
  {
   "cell_type": "markdown",
   "id": "5bb46230-0370-467f-9f12-3e42ef89bfa1",
   "metadata": {},
   "source": [
    "<span style=\"color:brown; font-weight:bold; font-size:24px;\">\n",
    "Saving Model and Data Artifacts</span>\n",
    "\n"
   ]
  },
  {
   "cell_type": "code",
   "execution_count": 93,
   "id": "c79e349e-f423-4588-84fa-1c20e7d9e5e3",
   "metadata": {},
   "outputs": [],
   "source": [
    "import os\n",
    "import pickle\n",
    "\n",
    "# Ensure the 'artifacts' directory exists\n",
    "os.makedirs('artifacts', exist_ok=True)\n",
    "\n",
    "# Save the model and other objects\n",
    "pickle.dump(model, open('artifacts/model.pkl', 'wb'))\n",
    "pickle.dump(book_names, open('artifacts/book_names.pkl', 'wb'))\n",
    "pickle.dump(final_ratings, open('artifacts/final_rating.pkl', 'wb'))\n",
    "pickle.dump(user_item_matrix_filled, open('artifacts/book_pivot.pkl', 'wb'))"
   ]
  },
  {
   "cell_type": "code",
   "execution_count": null,
   "id": "2ca462a6-fb4f-4b9d-96c1-e72264c32120",
   "metadata": {},
   "outputs": [],
   "source": []
  },
  {
   "cell_type": "code",
   "execution_count": null,
   "id": "fced68cc-f44e-4711-b324-19b3004219b2",
   "metadata": {},
   "outputs": [],
   "source": []
  }
 ],
 "metadata": {
  "kernelspec": {
   "display_name": "Python 3 (ipykernel)",
   "language": "python",
   "name": "python3"
  },
  "language_info": {
   "codemirror_mode": {
    "name": "ipython",
    "version": 3
   },
   "file_extension": ".py",
   "mimetype": "text/x-python",
   "name": "python",
   "nbconvert_exporter": "python",
   "pygments_lexer": "ipython3",
   "version": "3.11.7"
  }
 },
 "nbformat": 4,
 "nbformat_minor": 5
}
